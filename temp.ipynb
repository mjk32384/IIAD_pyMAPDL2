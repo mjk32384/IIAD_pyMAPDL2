{
 "cells": [
  {
   "cell_type": "code",
   "execution_count": 3,
   "metadata": {},
   "outputs": [
    {
     "ename": "MapdlRuntimeError",
     "evalue": "\n\nError in instance GRPC_127.0.0.1:50052\n\n*** ERROR ***                           CP =       0.141   TIME= 16:20:11\n There is at least 1 small equation solver pivot term (e.g., at the UY   \n degree of freedom of node 323).  Please check for an insufficiently     \n constrained model.                                                      \n   *** ELEMENT RESULT CALCULATION TIMES\n     TYPE    NUMBER   ENAME      TOTAL CP  AVE CP\n        1       100  PLANE183      0.000   0.000000\n   *** NODAL LOAD CALCULATION TIMES\n     TYPE    NUMBER   ENAME      TOTAL CP  AVE CP\n        1       100  PLANE183      0.000   0.000000\n *** LOAD STEP     1   SUBSTEP     1  COMPLETED.    CUM ITER =      1\n *** TIME =   1.00000         TIME INC =   1.00000      NEW TRIANG MATRIX\n ",
     "output_type": "error",
     "traceback": [
      "\u001b[1;31m---------------------------------------------------------------------------\u001b[0m",
      "\u001b[1;31mMapdlRuntimeError\u001b[0m                         Traceback (most recent call last)",
      "Cell \u001b[1;32mIn[3], line 18\u001b[0m\n\u001b[0;32m     16\u001b[0m mapdl\u001b[38;5;241m.\u001b[39mf(\u001b[38;5;241m5\u001b[39m, \u001b[38;5;124m\"\u001b[39m\u001b[38;5;124mFX\u001b[39m\u001b[38;5;124m\"\u001b[39m, \u001b[38;5;241m1000\u001b[39m)\n\u001b[0;32m     17\u001b[0m mapdl\u001b[38;5;241m.\u001b[39mrun(\u001b[38;5;124m\"\u001b[39m\u001b[38;5;124m/SOLU\u001b[39m\u001b[38;5;124m\"\u001b[39m)\n\u001b[1;32m---> 18\u001b[0m \u001b[43mmapdl\u001b[49m\u001b[38;5;241;43m.\u001b[39;49m\u001b[43msolve\u001b[49m\u001b[43m(\u001b[49m\u001b[43m)\u001b[49m\n\u001b[0;32m     19\u001b[0m mapdl\u001b[38;5;241m.\u001b[39mfinish()\n\u001b[0;32m     21\u001b[0m \u001b[38;5;66;03m# Save and load result\u001b[39;00m\n",
      "File \u001b[1;32mc:\\Users\\mjk32\\anaconda3\\envs\\FastMRI\\Lib\\site-packages\\ansys\\mapdl\\core\\_commands\\solution\\analysis_options.py:3477\u001b[0m, in \u001b[0;36mAnalysisOptions.solve\u001b[1;34m(self, action, **kwargs)\u001b[0m\n\u001b[0;32m   3457\u001b[0m \u001b[38;5;250m\u001b[39m\u001b[38;5;124;03m\"\"\"Starts a solution.\u001b[39;00m\n\u001b[0;32m   3458\u001b[0m \n\u001b[0;32m   3459\u001b[0m \u001b[38;5;124;03mAPDL Command: SOLVE\u001b[39;00m\n\u001b[1;32m   (...)\u001b[0m\n\u001b[0;32m   3474\u001b[0m \u001b[38;5;124;03min the first phase of a linear perturbation analysis.\u001b[39;00m\n\u001b[0;32m   3475\u001b[0m \u001b[38;5;124;03m\"\"\"\u001b[39;00m\n\u001b[0;32m   3476\u001b[0m command \u001b[38;5;241m=\u001b[39m \u001b[38;5;124mf\u001b[39m\u001b[38;5;124m\"\u001b[39m\u001b[38;5;124mSOLVE,\u001b[39m\u001b[38;5;132;01m{\u001b[39;00maction\u001b[38;5;132;01m}\u001b[39;00m\u001b[38;5;124m\"\u001b[39m\n\u001b[1;32m-> 3477\u001b[0m \u001b[38;5;28;01mreturn\u001b[39;00m \u001b[38;5;28;43mself\u001b[39;49m\u001b[38;5;241;43m.\u001b[39;49m\u001b[43mrun\u001b[49m\u001b[43m(\u001b[49m\u001b[43mcommand\u001b[49m\u001b[43m,\u001b[49m\u001b[43m \u001b[49m\u001b[38;5;241;43m*\u001b[39;49m\u001b[38;5;241;43m*\u001b[39;49m\u001b[43mkwargs\u001b[49m\u001b[43m)\u001b[49m\n",
      "File \u001b[1;32mc:\\Users\\mjk32\\anaconda3\\envs\\FastMRI\\Lib\\site-packages\\ansys\\mapdl\\core\\mapdl_core.py:2262\u001b[0m, in \u001b[0;36m_MapdlCore.run\u001b[1;34m(self, command, write_to_log, mute, **kwargs)\u001b[0m\n\u001b[0;32m   2259\u001b[0m     \u001b[38;5;28;01mreturn\u001b[39;00m \u001b[38;5;28mself\u001b[39m\u001b[38;5;241m.\u001b[39m_response\n\u001b[0;32m   2261\u001b[0m \u001b[38;5;28;01mif\u001b[39;00m \u001b[38;5;129;01mnot\u001b[39;00m \u001b[38;5;28mself\u001b[39m\u001b[38;5;241m.\u001b[39mignore_errors:\n\u001b[1;32m-> 2262\u001b[0m     \u001b[38;5;28;43mself\u001b[39;49m\u001b[38;5;241;43m.\u001b[39;49m\u001b[43m_raise_errors\u001b[49m\u001b[43m(\u001b[49m\u001b[43mtext\u001b[49m\u001b[43m)\u001b[49m\n\u001b[0;32m   2264\u001b[0m \u001b[38;5;66;03m# special returns for certain geometry commands\u001b[39;00m\n\u001b[0;32m   2265\u001b[0m \u001b[38;5;28;01mif\u001b[39;00m short_cmd \u001b[38;5;129;01min\u001b[39;00m PLOT_COMMANDS:\n",
      "File \u001b[1;32mc:\\Users\\mjk32\\anaconda3\\envs\\FastMRI\\Lib\\site-packages\\ansys\\mapdl\\core\\mapdl_core.py:2774\u001b[0m, in \u001b[0;36m_MapdlCore._raise_errors\u001b[1;34m(self, text)\u001b[0m\n\u001b[0;32m   2772\u001b[0m \u001b[38;5;66;03m# flag errors\u001b[39;00m\n\u001b[0;32m   2773\u001b[0m \u001b[38;5;28;01mif\u001b[39;00m \u001b[38;5;124m\"\u001b[39m\u001b[38;5;124m*** ERROR ***\u001b[39m\u001b[38;5;124m\"\u001b[39m \u001b[38;5;129;01min\u001b[39;00m flat_text:\n\u001b[1;32m-> 2774\u001b[0m     \u001b[38;5;28;43mself\u001b[39;49m\u001b[38;5;241;43m.\u001b[39;49m\u001b[43m_raise_output_errors\u001b[49m\u001b[43m(\u001b[49m\u001b[43mtext\u001b[49m\u001b[43m)\u001b[49m\n",
      "File \u001b[1;32mc:\\Users\\mjk32\\anaconda3\\envs\\FastMRI\\Lib\\site-packages\\ansys\\mapdl\\core\\mapdl_core.py:2851\u001b[0m, in \u001b[0;36m_MapdlCore._raise_output_errors\u001b[1;34m(self, response)\u001b[0m\n\u001b[0;32m   2845\u001b[0m     \u001b[38;5;28;01mcontinue\u001b[39;00m\n\u001b[0;32m   2846\u001b[0m \u001b[38;5;28;01melse\u001b[39;00m:\n\u001b[0;32m   2847\u001b[0m     \u001b[38;5;66;03m# We don't need to log exception because they already included in the main logger.\u001b[39;00m\n\u001b[0;32m   2848\u001b[0m     \u001b[38;5;66;03m# logger.error(response)\u001b[39;00m\n\u001b[0;32m   2849\u001b[0m     \u001b[38;5;66;03m# However, exceptions are recorded in the global logger which do not record\u001b[39;00m\n\u001b[0;32m   2850\u001b[0m     \u001b[38;5;66;03m# information of the instances name, hence we edit the error message.\u001b[39;00m\n\u001b[1;32m-> 2851\u001b[0m     \u001b[38;5;28;01mraise\u001b[39;00m MapdlRuntimeError(\n\u001b[0;32m   2852\u001b[0m         \u001b[38;5;124mf\u001b[39m\u001b[38;5;124m\"\u001b[39m\u001b[38;5;130;01m\\n\u001b[39;00m\u001b[38;5;130;01m\\n\u001b[39;00m\u001b[38;5;124mError in instance \u001b[39m\u001b[38;5;132;01m{\u001b[39;00m\u001b[38;5;28mself\u001b[39m\u001b[38;5;241m.\u001b[39mname\u001b[38;5;132;01m}\u001b[39;00m\u001b[38;5;130;01m\\n\u001b[39;00m\u001b[38;5;130;01m\\n\u001b[39;00m\u001b[38;5;124m\"\u001b[39m \u001b[38;5;241m+\u001b[39m error_message\n\u001b[0;32m   2853\u001b[0m     )\n",
      "\u001b[1;31mMapdlRuntimeError\u001b[0m: \n\nError in instance GRPC_127.0.0.1:50052\n\n*** ERROR ***                           CP =       0.141   TIME= 16:20:11\n There is at least 1 small equation solver pivot term (e.g., at the UY   \n degree of freedom of node 323).  Please check for an insufficiently     \n constrained model.                                                      \n   *** ELEMENT RESULT CALCULATION TIMES\n     TYPE    NUMBER   ENAME      TOTAL CP  AVE CP\n        1       100  PLANE183      0.000   0.000000\n   *** NODAL LOAD CALCULATION TIMES\n     TYPE    NUMBER   ENAME      TOTAL CP  AVE CP\n        1       100  PLANE183      0.000   0.000000\n *** LOAD STEP     1   SUBSTEP     1  COMPLETED.    CUM ITER =      1\n *** TIME =   1.00000         TIME INC =   1.00000      NEW TRIANG MATRIX\n "
     ]
    }
   ],
   "source": [
    "import matplotlib.pyplot as plt\n",
    "import matplotlib as mpl\n",
    "import numpy as np\n",
    "from ansys.mapdl.core import launch_mapdl\n",
    "\n",
    "mapdl = launch_mapdl()\n",
    "mapdl.clear()\n",
    "mapdl.prep7()\n",
    "mapdl.mp(\"EX\", 1, 200e9)\n",
    "mapdl.mp(\"PRXY\", 1, 0.3)\n",
    "mapdl.rectng(0, 1, 0, 1)\n",
    "mapdl.et(1, \"PLANE183\")\n",
    "mapdl.esize(0.1)\n",
    "mapdl.amesh(\"ALL\")\n",
    "mapdl.d(1, \"ALL\")\n",
    "mapdl.f(5, \"FX\", 1000)\n",
    "mapdl.run(\"/SOLU\")\n",
    "mapdl.solve()\n",
    "mapdl.finish()\n",
    "\n",
    "# Save and load result\n",
    "mapdl.post1()\n",
    "mapdl.file(\"test_result\", \"rst\")\n",
    "result = mapdl.result\n",
    "print(result)"
   ]
  },
  {
   "cell_type": "code",
   "execution_count": null,
   "metadata": {},
   "outputs": [],
   "source": []
  }
 ],
 "metadata": {
  "kernelspec": {
   "display_name": "FastMRI",
   "language": "python",
   "name": "python3"
  },
  "language_info": {
   "codemirror_mode": {
    "name": "ipython",
    "version": 3
   },
   "file_extension": ".py",
   "mimetype": "text/x-python",
   "name": "python",
   "nbconvert_exporter": "python",
   "pygments_lexer": "ipython3",
   "version": "3.11.9"
  }
 },
 "nbformat": 4,
 "nbformat_minor": 2
}
