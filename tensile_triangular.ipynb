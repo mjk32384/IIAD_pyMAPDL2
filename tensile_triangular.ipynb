{
 "cells": [
  {
   "cell_type": "code",
   "execution_count": 1,
   "metadata": {},
   "outputs": [],
   "source": [
    "import matplotlib.pyplot as plt\n",
    "import matplotlib as mpl\n",
    "import numpy as np\n",
    "import pandas as pd\n",
    "from ansys.mapdl.core import launch_mapdl\n",
    "from ansys.mapdl import reader as pymapdl_reader\n",
    "import pyvista"
   ]
  },
  {
   "cell_type": "code",
   "execution_count": 2,
   "metadata": {},
   "outputs": [],
   "source": [
    "# 기본적으로 plot이 안돼서 html로 plot하도록 만듦\n",
    "pyvista.set_jupyter_backend('html')\n",
    "pyvista.start_xvfb()"
   ]
  },
  {
   "cell_type": "code",
   "execution_count": null,
   "metadata": {},
   "outputs": [],
   "source": [
    "# Start an MAPDL instance\n",
    "try:\n",
    "    mapdl = launch_mapdl(start_instance=False, port=50052)\n",
    "except:\n",
    "    mapdl = launch_mapdl(start_instance=True, port=50052)"
   ]
  },
  {
   "cell_type": "code",
   "execution_count": 4,
   "metadata": {},
   "outputs": [
    {
     "data": {
      "text/plain": [
       "*** MAPDL - ENGINEERING ANALYSIS SYSTEM  RELEASE 2024 R2          24.2     ***\n",
       " Ansys Mechanical Enterprise Academic Research     \n",
       " 01078600  VERSION=LINUX x64     15:48:54  NOV 24, 2024 CP=      1.330\n",
       "\n",
       "                                                                               \n",
       "\n",
       "\n",
       "\n",
       "          ***** MAPDL ANALYSIS DEFINITION (PREP7) *****"
      ]
     },
     "execution_count": 4,
     "metadata": {},
     "output_type": "execute_result"
    }
   ],
   "source": [
    "mapdl.finish()\n",
    "mapdl.clear()\n",
    "mapdl.prep7()"
   ]
  },
  {
   "cell_type": "markdown",
   "metadata": {},
   "source": [
    "## Triangular Lattice Creation"
   ]
  },
  {
   "cell_type": "code",
   "execution_count": 5,
   "metadata": {},
   "outputs": [],
   "source": [
    "design_width = 60/1000\n",
    "design_height = 25/1000\n",
    "total_width = 144/1000\n",
    "total_z = 5/1000\n",
    "# density = 0.5\n",
    "\n",
    "wall_thickness = 1.6/1000\n",
    "n_cell = 5\n",
    "external_wall = False\n",
    "external_wall_thickness = wall_thickness"
   ]
  },
  {
   "cell_type": "code",
   "execution_count": 6,
   "metadata": {},
   "outputs": [],
   "source": [
    "cell_size = (design_height - 2*5/6*np.sqrt(3)*wall_thickness\n",
    "              - (n_cell - 1)*np.sqrt(3)*wall_thickness)/n_cell + np.sqrt(3)*wall_thickness"
   ]
  },
  {
   "cell_type": "code",
   "execution_count": 7,
   "metadata": {},
   "outputs": [],
   "source": [
    "i = 0\n",
    "design_part = mapdl.rectng(0, design_width, 0, design_height)\n",
    "while True:\n",
    "    if i%2 == 0:\n",
    "        for j in range(n_cell):\n",
    "            k1 = mapdl.k(x = i*cell_size*np.sqrt(3)/2, y = j*cell_size + 5/6*np.sqrt(3)*wall_thickness)\n",
    "            k2 = mapdl.k(x = i*cell_size*np.sqrt(3)/2, y = (j+1)*cell_size - 1/6*np.sqrt(3)*wall_thickness)\n",
    "            k3 = mapdl.k(x = (i+1)*cell_size*np.sqrt(3)/2 - 3/2*wall_thickness, y = (j+1/2)*cell_size + 1/3*np.sqrt(3)*wall_thickness)\n",
    "            hole = mapdl.a(k1, k2, k3)\n",
    "            try:\n",
    "                design_part = mapdl.asba(na1 = design_part, na2 = hole)\n",
    "            except:\n",
    "                pass\n",
    "            \n",
    "        for j in range(n_cell-1):\n",
    "            k1 = mapdl.k(x = (i+1)*cell_size*np.sqrt(3)/2 - wall_thickness, y = (j+1/2)*cell_size + 5/6*np.sqrt(3)*wall_thickness)\n",
    "            k2 = mapdl.k(x = (i+1)*cell_size*np.sqrt(3)/2 - wall_thickness, y = (j+3/2)*cell_size - 1/6*np.sqrt(3)*wall_thickness)\n",
    "            k3 = mapdl.k(x = i*cell_size*np.sqrt(3)/2 + 1/2*wall_thickness, y = (j+1)*cell_size + 1/3*np.sqrt(3)*wall_thickness)\n",
    "            hole = mapdl.a(k1, k2, k3)\n",
    "            try:\n",
    "                design_part = mapdl.asba(na1 = design_part, na2 = hole)\n",
    "            except:\n",
    "                pass\n",
    "        k1 = mapdl.k(x = i*cell_size*np.sqrt(3)/2 - wall_thickness/2, y = 0)\n",
    "        k2 = mapdl.k(x = (i+2)*cell_size*np.sqrt(3)/2 - wall_thickness/2, y = 0)\n",
    "        k3 = mapdl.k(x = (i+1)*cell_size*np.sqrt(3)/2 - wall_thickness/2, y = 1/2*cell_size)\n",
    "        hole = mapdl.a(k1, k2, k3)\n",
    "        try:\n",
    "            design_part = mapdl.asba(na1 = design_part, na2 = hole)\n",
    "        except:\n",
    "            pass\n",
    "        k1 = mapdl.k(x = i*cell_size*np.sqrt(3)/2 - wall_thickness/2, y = design_height)\n",
    "        k2 = mapdl.k(x = (i+2)*cell_size*np.sqrt(3)/2 - wall_thickness/2, y = design_height)\n",
    "        k3 = mapdl.k(x = (i+1)*cell_size*np.sqrt(3)/2 - wall_thickness/2, y = design_height - 1/2*cell_size)\n",
    "        hole = mapdl.a(k1, k2, k3)\n",
    "        try:\n",
    "            design_part = mapdl.asba(na1 = design_part, na2 = hole)\n",
    "        except:\n",
    "            pass\n",
    "    else:\n",
    "        for j in range(n_cell):\n",
    "            k1 = mapdl.k(x = (i+1)*cell_size*np.sqrt(3)/2 - wall_thickness, y = j*cell_size + 5/6*np.sqrt(3)*wall_thickness)\n",
    "            k2 = mapdl.k(x = (i+1)*cell_size*np.sqrt(3)/2 - wall_thickness, y = (j+1)*cell_size - 1/6*np.sqrt(3)*wall_thickness)\n",
    "            k3 = mapdl.k(x = i*cell_size*np.sqrt(3)/2 + 1/2*wall_thickness, y = (j+1/2)*cell_size + 1/3*np.sqrt(3)*wall_thickness)\n",
    "            hole = mapdl.a(k1, k2, k3)\n",
    "            try:\n",
    "                design_part = mapdl.asba(na1 = design_part, na2 = hole)\n",
    "            except:\n",
    "                pass\n",
    "        for j in range(n_cell-1):\n",
    "            k1 = mapdl.k(x = i*cell_size*np.sqrt(3)/2, y = (j+1/2)*cell_size + 5/6*np.sqrt(3)*wall_thickness)\n",
    "            k2 = mapdl.k(x = i*cell_size*np.sqrt(3)/2, y = (j+3/2)*cell_size - 1/6*np.sqrt(3)*wall_thickness)\n",
    "            k3 = mapdl.k(x = (i+1)*cell_size*np.sqrt(3)/2 - 3/2*wall_thickness, y = (j+1)*cell_size + 1/3*np.sqrt(3)*wall_thickness)\n",
    "            hole = mapdl.a(k1, k2, k3)\n",
    "            try:\n",
    "                design_part = mapdl.asba(na1 = design_part, na2 = hole)\n",
    "            except:\n",
    "                pass\n",
    "    if (i+1)*cell_size*np.sqrt(3)/2 > design_width:\n",
    "        break\n",
    "    i+=1"
   ]
  },
  {
   "cell_type": "code",
   "execution_count": 8,
   "metadata": {},
   "outputs": [
    {
     "data": {
      "text/plain": [
       "4"
      ]
     },
     "execution_count": 8,
     "metadata": {},
     "output_type": "execute_result"
    }
   ],
   "source": [
    "mapdl.rectng(x1=-total_width/2+design_width/2, x2=0, y1=0, y2=design_height)\n",
    "mapdl.rectng(design_width, total_width/2+design_width/2, 0, design_height)\n",
    "if external_wall:\n",
    "    mapdl.rectng(x1=0, x2=design_width, y1=0, y2=external_wall_thickness)\n",
    "    mapdl.rectng(x1=0, x2=design_width, y1=design_height, y2=design_height-external_wall_thickness)\n",
    "mapdl.aadd(\"all\")"
   ]
  },
  {
   "cell_type": "code",
   "execution_count": 9,
   "metadata": {},
   "outputs": [
    {
     "data": {
      "text/plain": [
       "EXTRUDE ALL AREAS \n",
       "      IN DIRECTION   0.000000    ,  0.000000    , 0.5000000E-02\n",
       "      SCALED         0.000000    ,  0.000000    ,  0.000000"
      ]
     },
     "execution_count": 9,
     "metadata": {},
     "output_type": "execute_result"
    }
   ],
   "source": [
    "mapdl.vext(\"ALL\", dz = total_z)"
   ]
  },
  {
   "cell_type": "code",
   "execution_count": 10,
   "metadata": {},
   "outputs": [
    {
     "data": {
      "application/vnd.jupyter.widget-view+json": {
       "model_id": "89972bab367649d780bc938d9f9d5ee8",
       "version_major": 2,
       "version_minor": 0
      },
      "text/plain": [
       "EmbeddableWidget(value='<iframe srcdoc=\"<!DOCTYPE html>\\n<html>\\n  <head>\\n    <meta http-equiv=&quot;Content-…"
      ]
     },
     "metadata": {},
     "output_type": "display_data"
    }
   ],
   "source": [
    "mapdl.vplot(cpos=\"xy\", show_lines=True)"
   ]
  },
  {
   "cell_type": "code",
   "execution_count": 11,
   "metadata": {},
   "outputs": [
    {
     "data": {
      "text/plain": [
       "0.9045217666666667"
      ]
     },
     "execution_count": 11,
     "metadata": {},
     "output_type": "execute_result"
    }
   ],
   "source": [
    "mapdl.get(entity=\"VOLU\", entnum=1, item1=\"VOLU\")/design_height/total_width/total_z"
   ]
  },
  {
   "cell_type": "code",
   "execution_count": 10,
   "metadata": {},
   "outputs": [
    {
     "data": {
      "text/html": [
       "<table style='width: 100%;'><tr><th>Header</th><th>Data Arrays</th></tr><tr><td>\n",
       "<table style='width: 100%;'>\n",
       "<tr><th>PolyData</th><th>Information</th></tr>\n",
       "<tr><td>N Cells</td><td>3452</td></tr>\n",
       "<tr><td>N Points</td><td>3115</td></tr>\n",
       "<tr><td>N Strips</td><td>0</td></tr>\n",
       "<tr><td>X Bounds</td><td>-4.200e-02, 1.020e-01</td></tr>\n",
       "<tr><td>Y Bounds</td><td>0.000e+00, 2.500e-02</td></tr>\n",
       "<tr><td>Z Bounds</td><td>0.000e+00, 5.000e-03</td></tr>\n",
       "<tr><td>N Arrays</td><td>1</td></tr>\n",
       "</table>\n",
       "\n",
       "</td><td>\n",
       "<table style='width: 100%;'>\n",
       "<tr><th>Name</th><th>Field</th><th>Type</th><th>N Comp</th><th>Min</th><th>Max</th></tr>\n",
       "<tr><td><b>entity_num</b></td><td>Cells</td><td>int32</td><td>1</td><td>1.000e+00</td><td>4.490e+02</td></tr>\n",
       "</table>\n",
       "\n",
       "</td></tr> </table>"
      ],
      "text/plain": [
       "PolyData (0x779150946320)\n",
       "  N Cells:    3452\n",
       "  N Points:   3115\n",
       "  N Strips:   0\n",
       "  X Bounds:   -4.200e-02, 1.020e-01\n",
       "  Y Bounds:   0.000e+00, 2.500e-02\n",
       "  Z Bounds:   0.000e+00, 5.000e-03\n",
       "  N Arrays:   1"
      ]
     },
     "execution_count": 10,
     "metadata": {},
     "output_type": "execute_result"
    }
   ],
   "source": [
    "mapdl.geometry.get_volumes()"
   ]
  },
  {
   "cell_type": "markdown",
   "metadata": {},
   "source": [
    "## Preprocessing"
   ]
  },
  {
   "cell_type": "code",
   "execution_count": 11,
   "metadata": {},
   "outputs": [],
   "source": [
    "stress_strain = pd.read_excel('PLA stress-strain.xlsx')\n",
    "stress_strain = stress_strain.iloc[:8]  # due to limitations of MISO model\n",
    "stress_strain['y'] = stress_strain['y (MPa)']*1e6\n",
    "stress_strain['x'] = stress_strain['x']/100\n",
    "UTS = stress_strain['y'].max()\n",
    "Youngs_Modulus = stress_strain['y'][1]/stress_strain['x'][1]\n",
    "max_plastic_strain = stress_strain['x'].iloc[-1]\n",
    "\n",
    "mapdl.mp('EX', 1, Youngs_Modulus)   # Young's Modulus in Pascals\n",
    "mapdl.mp('PRXY', 1, 0.33)   # Poisson's Ratio\n",
    "\n",
    "# Non linear 부분 정의\n",
    "stress_strain['x'] = stress_strain['x'] - stress_strain['y']/Youngs_Modulus\n",
    "mapdl.tb('PLASTIC', 1, '', 'MISO')\n",
    "for i in range(len(stress_strain)):\n",
    "    mapdl.tbpt(i, stress_strain['x'][i], stress_strain['y'][i])"
   ]
  },
  {
   "cell_type": "code",
   "execution_count": 12,
   "metadata": {},
   "outputs": [
    {
     "data": {
      "text/plain": [
       "SELECT ALL ENTITIES OF TYPE= ALL  AND BELOW"
      ]
     },
     "execution_count": 12,
     "metadata": {},
     "output_type": "execute_result"
    }
   ],
   "source": [
    "mapdl.allsel()"
   ]
  },
  {
   "cell_type": "code",
   "execution_count": 13,
   "metadata": {},
   "outputs": [
    {
     "data": {
      "text/plain": [
       "GENERATE NODES AND ELEMENTS   IN  ALL  SELECTED VOLUMES  \n",
       "\n",
       " NUMBER OF VOLUMES MESHED   =         1\n",
       " MAXIMUM NODE NUMBER        =    216831\n",
       " MAXIMUM ELEMENT NUMBER     =    139620\n",
       "\n",
       " ------------------------------------------------------------------------------\n",
       "            <<<<<<          SHAPE TESTING SUMMARY           >>>>>>\n",
       "            <<<<<<       FOR NEW OR MODIFIED ELEMENTS       >>>>>>\n",
       " ------------------------------------------------------------------------------\n",
       "                    --------------------------------------\n",
       "                    |  Element count    139620 SOLID187  |\n",
       "                    --------------------------------------\n",
       "\n",
       "  Test                Number tested  Warning count  Error count    Warn+Err %\n",
       "  ----                -------------  -------------  -----------    ----------\n",
       "  Aspect Ratio             139620              0             0         0.00 %\n",
       "  Maximum Angle            139620              2             0         0.00 %\n",
       "  Jacobian Ratio           139620              0             0         0.00 %\n",
       "\n",
       "  Any                      139620              2             0         0.00 %\n",
       " ------------------------------------------------------------------------------\n",
       "\n",
       " *** WARNING ***                         CP =      38.496   TIME= 15:49:43\n",
       " Shape testing revealed that 2 of the 139620 new or modified elements    \n",
       " violate shape warning limits.  To review test results, please see the   \n",
       " output file or issue the CHECK command."
      ]
     },
     "execution_count": 13,
     "metadata": {},
     "output_type": "execute_result"
    }
   ],
   "source": [
    "# Element type with plasticity capability (SOLID185 is suitable)\n",
    "mapdl.et(1, 'SOLID187')\n",
    "\n",
    "# Define mesh size\n",
    "mapdl.esize(0.001)  # Smaller element size for better accuracy\n",
    "\n",
    "# Mesh the volume\n",
    "mapdl.vmesh('ALL')"
   ]
  },
  {
   "cell_type": "code",
   "execution_count": 23,
   "metadata": {},
   "outputs": [
    {
     "data": {
      "text/plain": [
       "array([    13,     17,     26, ..., 139594, 139595, 139612], dtype=int32)"
      ]
     },
     "execution_count": 23,
     "metadata": {},
     "output_type": "execute_result"
    }
   ],
   "source": [
    "mapdl.esel('S','CENT','X', '-0.01', '0.01')"
   ]
  },
  {
   "cell_type": "code",
   "execution_count": null,
   "metadata": {},
   "outputs": [
    {
     "ename": "KeyboardInterrupt",
     "evalue": "Interrupted during MAPDL execution",
     "output_type": "error",
     "traceback": [
      "\u001b[0;31m---------------------------------------------------------------------------\u001b[0m",
      "\u001b[0;31mKeyboardInterrupt\u001b[0m                         Traceback (most recent call last)",
      "Cell \u001b[0;32mIn[50], line 1\u001b[0m\n\u001b[0;32m----> 1\u001b[0m mapdl\u001b[38;5;241m.\u001b[39meplot()\n",
      "File \u001b[0;32m~/anaconda3/envs/ansys_env/lib/python3.11/site-packages/ansys/mapdl/core/mapdl_extended.py:1260\u001b[0m, in \u001b[0;36m_MapdlCommandExtended.eplot\u001b[0;34m(self, show_node_numbering, vtk, **kwargs)\u001b[0m\n\u001b[1;32m   1257\u001b[0m     \u001b[38;5;28;01mreturn\u001b[39;00m pl\u001b[38;5;241m.\u001b[39mshow(\u001b[38;5;241m*\u001b[39m\u001b[38;5;241m*\u001b[39mkwargs)\n\u001b[1;32m   1259\u001b[0m \u001b[38;5;66;03m# TODO: Consider caching the surface\u001b[39;00m\n\u001b[0;32m-> 1260\u001b[0m esurf \u001b[38;5;241m=\u001b[39m \u001b[38;5;28mself\u001b[39m\u001b[38;5;241m.\u001b[39mmesh\u001b[38;5;241m.\u001b[39m_grid\u001b[38;5;241m.\u001b[39mlinear_copy()\u001b[38;5;241m.\u001b[39mextract_surface()\u001b[38;5;241m.\u001b[39mclean()\n\u001b[1;32m   1261\u001b[0m kwargs\u001b[38;5;241m.\u001b[39msetdefault(\u001b[38;5;124m\"\u001b[39m\u001b[38;5;124mshow_edges\u001b[39m\u001b[38;5;124m\"\u001b[39m, \u001b[38;5;28;01mTrue\u001b[39;00m)\n\u001b[1;32m   1263\u001b[0m \u001b[38;5;66;03m# if show_node_numbering:\u001b[39;00m\n",
      "File \u001b[0;32m~/anaconda3/envs/ansys_env/lib/python3.11/site-packages/ansys/mapdl/core/misc.py:1132\u001b[0m, in \u001b[0;36mrequires_package.<locals>.decorator.<locals>.wrapper\u001b[0;34m(self, *args, **kwargs)\u001b[0m\n\u001b[1;32m   1130\u001b[0m \u001b[38;5;28;01mtry\u001b[39;00m:\n\u001b[1;32m   1131\u001b[0m     importlib\u001b[38;5;241m.\u001b[39mimport_module(package_name)\n\u001b[0;32m-> 1132\u001b[0m     \u001b[38;5;28;01mreturn\u001b[39;00m function(\u001b[38;5;28mself\u001b[39m, \u001b[38;5;241m*\u001b[39margs, \u001b[38;5;241m*\u001b[39m\u001b[38;5;241m*\u001b[39mkwargs)\n\u001b[1;32m   1134\u001b[0m \u001b[38;5;28;01mexcept\u001b[39;00m \u001b[38;5;167;01mModuleNotFoundError\u001b[39;00m:\n\u001b[1;32m   1135\u001b[0m     msg \u001b[38;5;241m=\u001b[39m (\n\u001b[1;32m   1136\u001b[0m         \u001b[38;5;124mf\u001b[39m\u001b[38;5;124m\"\u001b[39m\u001b[38;5;124mTo use the method \u001b[39m\u001b[38;5;124m'\u001b[39m\u001b[38;5;132;01m{\u001b[39;00mfunction\u001b[38;5;241m.\u001b[39m\u001b[38;5;18m__name__\u001b[39m\u001b[38;5;132;01m}\u001b[39;00m\u001b[38;5;124m'\u001b[39m\u001b[38;5;124m, \u001b[39m\u001b[38;5;124m\"\u001b[39m\n\u001b[1;32m   1137\u001b[0m         \u001b[38;5;124mf\u001b[39m\u001b[38;5;124m\"\u001b[39m\u001b[38;5;124mthe package \u001b[39m\u001b[38;5;124m'\u001b[39m\u001b[38;5;132;01m{\u001b[39;00mpackage_name\u001b[38;5;132;01m}\u001b[39;00m\u001b[38;5;124m'\u001b[39m\u001b[38;5;124m is required.\u001b[39m\u001b[38;5;130;01m\\n\u001b[39;00m\u001b[38;5;124m\"\u001b[39m\n\u001b[1;32m   1138\u001b[0m         \u001b[38;5;124mf\u001b[39m\u001b[38;5;124m\"\u001b[39m\u001b[38;5;124mPlease try to install \u001b[39m\u001b[38;5;124m'\u001b[39m\u001b[38;5;132;01m{\u001b[39;00mpackage_name\u001b[38;5;132;01m}\u001b[39;00m\u001b[38;5;124m'\u001b[39m\u001b[38;5;124m with:\u001b[39m\u001b[38;5;130;01m\\n\u001b[39;00m\u001b[38;5;124m\"\u001b[39m\n\u001b[1;32m   1139\u001b[0m         \u001b[38;5;124mf\u001b[39m\u001b[38;5;124m\"\u001b[39m\u001b[38;5;124mpip install \u001b[39m\u001b[38;5;132;01m{\u001b[39;00mpackage_name\u001b[38;5;241m.\u001b[39mreplace(\u001b[38;5;124m'\u001b[39m\u001b[38;5;124m.\u001b[39m\u001b[38;5;124m'\u001b[39m,\u001b[38;5;250m \u001b[39m\u001b[38;5;124m'\u001b[39m\u001b[38;5;124m-\u001b[39m\u001b[38;5;124m'\u001b[39m)\u001b[38;5;250m \u001b[39m\u001b[38;5;28;01mif\u001b[39;00m\u001b[38;5;250m \u001b[39m\u001b[38;5;124m'\u001b[39m\u001b[38;5;124mansys\u001b[39m\u001b[38;5;124m'\u001b[39m\u001b[38;5;250m \u001b[39m\u001b[38;5;129;01min\u001b[39;00m\u001b[38;5;250m \u001b[39mpackage_name\u001b[38;5;250m \u001b[39m\u001b[38;5;28;01melse\u001b[39;00m\u001b[38;5;250m \u001b[39mpackage_name\u001b[38;5;132;01m}\u001b[39;00m\u001b[38;5;124m\"\u001b[39m\n\u001b[1;32m   1140\u001b[0m     )\n",
      "File \u001b[0;32m~/anaconda3/envs/ansys_env/lib/python3.11/site-packages/ansys/mapdl/core/mesh_grpc.py:739\u001b[0m, in \u001b[0;36mMeshGrpc._grid\u001b[0;34m(self)\u001b[0m\n\u001b[1;32m    735\u001b[0m \u001b[38;5;129m@property\u001b[39m\n\u001b[1;32m    736\u001b[0m \u001b[38;5;129m@requires_package\u001b[39m(\u001b[38;5;124m\"\u001b[39m\u001b[38;5;124mpyvista\u001b[39m\u001b[38;5;124m\"\u001b[39m)\n\u001b[1;32m    737\u001b[0m \u001b[38;5;28;01mdef\u001b[39;00m \u001b[38;5;21m_grid\u001b[39m(\u001b[38;5;28mself\u001b[39m):\n\u001b[1;32m    738\u001b[0m     \u001b[38;5;28;01mif\u001b[39;00m \u001b[38;5;28mself\u001b[39m\u001b[38;5;241m.\u001b[39m_grid_cache \u001b[38;5;129;01mis\u001b[39;00m \u001b[38;5;28;01mNone\u001b[39;00m:\n\u001b[0;32m--> 739\u001b[0m         \u001b[38;5;28mself\u001b[39m\u001b[38;5;241m.\u001b[39m_update_cache()\n\u001b[1;32m    740\u001b[0m         \u001b[38;5;28mself\u001b[39m\u001b[38;5;241m.\u001b[39m_grid_cache \u001b[38;5;241m=\u001b[39m \u001b[38;5;28mself\u001b[39m\u001b[38;5;241m.\u001b[39m_parse_vtk(force_linear\u001b[38;5;241m=\u001b[39m\u001b[38;5;28;01mTrue\u001b[39;00m)\n\u001b[1;32m    741\u001b[0m     \u001b[38;5;28;01mreturn\u001b[39;00m \u001b[38;5;28mself\u001b[39m\u001b[38;5;241m.\u001b[39m_grid_cache\n",
      "File \u001b[0;32m~/anaconda3/envs/ansys_env/lib/python3.11/site-packages/ansys/mapdl/core/mesh_grpc.py:160\u001b[0m, in \u001b[0;36mMeshGrpc._update_cache\u001b[0;34m(self)\u001b[0m\n\u001b[1;32m    157\u001b[0m \u001b[38;5;28mself\u001b[39m\u001b[38;5;241m.\u001b[39mlogger\u001b[38;5;241m.\u001b[39mdebug(\u001b[38;5;124m\"\u001b[39m\u001b[38;5;124mUpdating cache\u001b[39m\u001b[38;5;124m\"\u001b[39m)\n\u001b[1;32m    158\u001b[0m \u001b[38;5;66;03m# elements must have their underlying nodes selected to avoid\u001b[39;00m\n\u001b[1;32m    159\u001b[0m \u001b[38;5;66;03m# VTK segfaul\u001b[39;00m\n\u001b[0;32m--> 160\u001b[0m \u001b[38;5;28;01mwith\u001b[39;00m \u001b[38;5;28mself\u001b[39m\u001b[38;5;241m.\u001b[39m_mapdl\u001b[38;5;241m.\u001b[39msave_selection:\n\u001b[1;32m    161\u001b[0m     \u001b[38;5;28mself\u001b[39m\u001b[38;5;241m.\u001b[39m_mapdl\u001b[38;5;241m.\u001b[39mnsle(\u001b[38;5;124m\"\u001b[39m\u001b[38;5;124mS\u001b[39m\u001b[38;5;124m\"\u001b[39m, mute\u001b[38;5;241m=\u001b[39m\u001b[38;5;28;01mTrue\u001b[39;00m)\n\u001b[1;32m    163\u001b[0m     \u001b[38;5;66;03m# not thread safe\u001b[39;00m\n",
      "File \u001b[0;32m~/anaconda3/envs/ansys_env/lib/python3.11/site-packages/ansys/mapdl/core/mapdl_core.py:1433\u001b[0m, in \u001b[0;36m_MapdlCore._save_selection.__exit__\u001b[0;34m(self, *args)\u001b[0m\n\u001b[1;32m   1431\u001b[0m \u001b[38;5;28;01mif\u001b[39;00m ids\u001b[38;5;241m.\u001b[39msize \u001b[38;5;241m>\u001b[39m \u001b[38;5;241m0\u001b[39m:\n\u001b[1;32m   1432\u001b[0m     func \u001b[38;5;241m=\u001b[39m \u001b[38;5;28mgetattr\u001b[39m(mapdl, select_cmd)\n\u001b[0;32m-> 1433\u001b[0m     func(vmin\u001b[38;5;241m=\u001b[39mids)\n",
      "File \u001b[0;32m~/anaconda3/envs/ansys_env/lib/python3.11/site-packages/ansys/mapdl/core/mapdl_core.py:1331\u001b[0m, in \u001b[0;36m_MapdlCore._wrap_xsel_commands.<locals>.wrap_xsel_function.<locals>.inner_wrapper\u001b[0;34m(*args, **kwargs)\u001b[0m\n\u001b[1;32m   1328\u001b[0m \u001b[38;5;28;01mif\u001b[39;00m is_interactive_arg \u001b[38;5;129;01mor\u001b[39;00m is_interactive_kwarg:\n\u001b[1;32m   1329\u001b[0m     return_mapdl_output \u001b[38;5;241m=\u001b[39m \u001b[38;5;28;01mTrue\u001b[39;00m\n\u001b[0;32m-> 1331\u001b[0m output \u001b[38;5;241m=\u001b[39m func(\u001b[38;5;241m*\u001b[39margs, \u001b[38;5;241m*\u001b[39m\u001b[38;5;241m*\u001b[39mkwargs)\n\u001b[1;32m   1332\u001b[0m \u001b[38;5;28;01mif\u001b[39;00m \u001b[38;5;129;01mnot\u001b[39;00m return_mapdl_output:\n\u001b[1;32m   1333\u001b[0m     output \u001b[38;5;241m=\u001b[39m wrap_xsel_function_output(func)\n",
      "File \u001b[0;32m~/anaconda3/envs/ansys_env/lib/python3.11/site-packages/ansys/mapdl/core/mapdl_extended.py:240\u001b[0m, in \u001b[0;36m_MapdlCommandExtended.esel\u001b[0;34m(self, *args, **kwargs)\u001b[0m\n\u001b[1;32m    235\u001b[0m \u001b[38;5;129m@allow_pickable_entities\u001b[39m(entity\u001b[38;5;241m=\u001b[39m\u001b[38;5;124m\"\u001b[39m\u001b[38;5;124melem\u001b[39m\u001b[38;5;124m\"\u001b[39m, plot_function\u001b[38;5;241m=\u001b[39m\u001b[38;5;124m\"\u001b[39m\u001b[38;5;124meplot\u001b[39m\u001b[38;5;124m\"\u001b[39m)\n\u001b[1;32m    236\u001b[0m \u001b[38;5;129m@allow_iterables_vmin\u001b[39m(entity\u001b[38;5;241m=\u001b[39m\u001b[38;5;124m\"\u001b[39m\u001b[38;5;124melem\u001b[39m\u001b[38;5;124m\"\u001b[39m)\n\u001b[1;32m    237\u001b[0m \u001b[38;5;28;01mdef\u001b[39;00m \u001b[38;5;21mwrapped\u001b[39m(\u001b[38;5;28mself\u001b[39m, \u001b[38;5;241m*\u001b[39margs, \u001b[38;5;241m*\u001b[39m\u001b[38;5;241m*\u001b[39mkwargs):\n\u001b[1;32m    238\u001b[0m     \u001b[38;5;28;01mreturn\u001b[39;00m sel_func(\u001b[38;5;241m*\u001b[39margs, \u001b[38;5;241m*\u001b[39m\u001b[38;5;241m*\u001b[39mkwargs)\n\u001b[0;32m--> 240\u001b[0m \u001b[38;5;28;01mreturn\u001b[39;00m wrapped(\u001b[38;5;28mself\u001b[39m, \u001b[38;5;241m*\u001b[39margs, \u001b[38;5;241m*\u001b[39m\u001b[38;5;241m*\u001b[39mkwargs)\n",
      "File \u001b[0;32m~/anaconda3/envs/ansys_env/lib/python3.11/site-packages/ansys/mapdl/core/misc.py:1220\u001b[0m, in \u001b[0;36mallow_pickable_entities.<locals>.decorator.<locals>.wrapper\u001b[0;34m(self, *args, **kwargs)\u001b[0m\n\u001b[1;32m   1215\u001b[0m     \u001b[38;5;28;01mreturn\u001b[39;00m orig_entity_sel_function(\n\u001b[1;32m   1216\u001b[0m         \u001b[38;5;28mself\u001b[39m, \u001b[38;5;124m\"\u001b[39m\u001b[38;5;124mS\u001b[39m\u001b[38;5;124m\"\u001b[39m, item, comp, vmin, vmax, vinc, kabs, \u001b[38;5;241m*\u001b[39m\u001b[38;5;241m*\u001b[39mkwargs\n\u001b[1;32m   1217\u001b[0m     )\n\u001b[1;32m   1219\u001b[0m \u001b[38;5;28;01melse\u001b[39;00m:\n\u001b[0;32m-> 1220\u001b[0m     \u001b[38;5;28;01mreturn\u001b[39;00m orig_entity_sel_function(\n\u001b[1;32m   1221\u001b[0m         \u001b[38;5;28mself\u001b[39m, type_, item, comp, vmin, vmax, vinc, kabs, \u001b[38;5;241m*\u001b[39m\u001b[38;5;241m*\u001b[39mkwargs\n\u001b[1;32m   1222\u001b[0m     )\n",
      "File \u001b[0;32m~/anaconda3/envs/ansys_env/lib/python3.11/site-packages/ansys/mapdl/core/misc.py:1269\u001b[0m, in \u001b[0;36mallow_iterables_vmin.<locals>.decorator.<locals>.wrapper\u001b[0;34m(self, *args, **kwargs)\u001b[0m\n\u001b[1;32m   1265\u001b[0m \u001b[38;5;28;01mif\u001b[39;00m \u001b[38;5;28mlen\u001b[39m(vmin) \u001b[38;5;241m==\u001b[39m \u001b[38;5;241m0\u001b[39m \u001b[38;5;129;01mand\u001b[39;00m type_ \u001b[38;5;241m==\u001b[39m \u001b[38;5;124m\"\u001b[39m\u001b[38;5;124mS\u001b[39m\u001b[38;5;124m\"\u001b[39m:\n\u001b[1;32m   1266\u001b[0m     \u001b[38;5;66;03m# assuming you want to select nothing because you supplied an empty list/tuple/array\u001b[39;00m\n\u001b[1;32m   1267\u001b[0m     \u001b[38;5;28;01mreturn\u001b[39;00m original_sel_func(\u001b[38;5;28mself\u001b[39m, \u001b[38;5;124m\"\u001b[39m\u001b[38;5;124mnone\u001b[39m\u001b[38;5;124m\"\u001b[39m)\n\u001b[0;32m-> 1269\u001b[0m \u001b[38;5;28mself\u001b[39m\u001b[38;5;241m.\u001b[39m_perform_entity_list_selection(\n\u001b[1;32m   1270\u001b[0m     entity, original_sel_func, type_, item, comp, vmin, kabs\n\u001b[1;32m   1271\u001b[0m )\n\u001b[1;32m   1273\u001b[0m \u001b[38;5;28;01mif\u001b[39;00m kwargs\u001b[38;5;241m.\u001b[39mpop(\u001b[38;5;124m\"\u001b[39m\u001b[38;5;124mUsed_P\u001b[39m\u001b[38;5;124m\"\u001b[39m, \u001b[38;5;28;01mFalse\u001b[39;00m):\n\u001b[1;32m   1274\u001b[0m     \u001b[38;5;66;03m# we want to return the\u001b[39;00m\n\u001b[1;32m   1275\u001b[0m     \u001b[38;5;28;01mreturn\u001b[39;00m np\u001b[38;5;241m.\u001b[39marray(vmin)\n",
      "File \u001b[0;32m~/anaconda3/envs/ansys_env/lib/python3.11/site-packages/ansys/mapdl/core/mapdl_core.py:2724\u001b[0m, in \u001b[0;36m_MapdlCore._perform_entity_list_selection\u001b[0;34m(self, entity, selection_function, type_, item, comp, vmin, kabs)\u001b[0m\n\u001b[1;32m   2721\u001b[0m \u001b[38;5;28;01melse\u001b[39;00m:\n\u001b[1;32m   2722\u001b[0m     type__ \u001b[38;5;241m=\u001b[39m type_\n\u001b[0;32m-> 2724\u001b[0m selection_function(\u001b[38;5;28mself\u001b[39m, type__, item, comp, each_, \u001b[38;5;124m\"\u001b[39m\u001b[38;5;124m\"\u001b[39m, \u001b[38;5;124m\"\u001b[39m\u001b[38;5;124m\"\u001b[39m, kabs)\n",
      "File \u001b[0;32m~/anaconda3/envs/ansys_env/lib/python3.11/site-packages/ansys/mapdl/core/mapdl_extended.py:238\u001b[0m, in \u001b[0;36m_MapdlCommandExtended.esel.<locals>.wrapped\u001b[0;34m(self, *args, **kwargs)\u001b[0m\n\u001b[1;32m    235\u001b[0m \u001b[38;5;129m@allow_pickable_entities\u001b[39m(entity\u001b[38;5;241m=\u001b[39m\u001b[38;5;124m\"\u001b[39m\u001b[38;5;124melem\u001b[39m\u001b[38;5;124m\"\u001b[39m, plot_function\u001b[38;5;241m=\u001b[39m\u001b[38;5;124m\"\u001b[39m\u001b[38;5;124meplot\u001b[39m\u001b[38;5;124m\"\u001b[39m)\n\u001b[1;32m    236\u001b[0m \u001b[38;5;129m@allow_iterables_vmin\u001b[39m(entity\u001b[38;5;241m=\u001b[39m\u001b[38;5;124m\"\u001b[39m\u001b[38;5;124melem\u001b[39m\u001b[38;5;124m\"\u001b[39m)\n\u001b[1;32m    237\u001b[0m \u001b[38;5;28;01mdef\u001b[39;00m \u001b[38;5;21mwrapped\u001b[39m(\u001b[38;5;28mself\u001b[39m, \u001b[38;5;241m*\u001b[39margs, \u001b[38;5;241m*\u001b[39m\u001b[38;5;241m*\u001b[39mkwargs):\n\u001b[0;32m--> 238\u001b[0m     \u001b[38;5;28;01mreturn\u001b[39;00m sel_func(\u001b[38;5;241m*\u001b[39margs, \u001b[38;5;241m*\u001b[39m\u001b[38;5;241m*\u001b[39mkwargs)\n",
      "File \u001b[0;32m~/anaconda3/envs/ansys_env/lib/python3.11/site-packages/ansys/mapdl/core/_commands/database/selecting.py:571\u001b[0m, in \u001b[0;36mSelecting.esel\u001b[0;34m(self, type_, item, comp, vmin, vmax, vinc, kabs, **kwargs)\u001b[0m\n\u001b[1;32m    416\u001b[0m \u001b[38;5;250m\u001b[39m\u001b[38;5;124;03m\"\"\"Selects a subset of elements.\u001b[39;00m\n\u001b[1;32m    417\u001b[0m \n\u001b[1;32m    418\u001b[0m \u001b[38;5;124;03mAPDL Command: ESEL\u001b[39;00m\n\u001b[0;32m   (...)\u001b[0m\n\u001b[1;32m    568\u001b[0m \n\u001b[1;32m    569\u001b[0m \u001b[38;5;124;03m\"\"\"\u001b[39;00m\n\u001b[1;32m    570\u001b[0m command \u001b[38;5;241m=\u001b[39m \u001b[38;5;124mf\u001b[39m\u001b[38;5;124m\"\u001b[39m\u001b[38;5;124mESEL,\u001b[39m\u001b[38;5;132;01m{\u001b[39;00mtype_\u001b[38;5;132;01m}\u001b[39;00m\u001b[38;5;124m,\u001b[39m\u001b[38;5;132;01m{\u001b[39;00mitem\u001b[38;5;132;01m}\u001b[39;00m\u001b[38;5;124m,\u001b[39m\u001b[38;5;132;01m{\u001b[39;00mcomp\u001b[38;5;132;01m}\u001b[39;00m\u001b[38;5;124m,\u001b[39m\u001b[38;5;132;01m{\u001b[39;00mvmin\u001b[38;5;132;01m}\u001b[39;00m\u001b[38;5;124m,\u001b[39m\u001b[38;5;132;01m{\u001b[39;00mvmax\u001b[38;5;132;01m}\u001b[39;00m\u001b[38;5;124m,\u001b[39m\u001b[38;5;132;01m{\u001b[39;00mvinc\u001b[38;5;132;01m}\u001b[39;00m\u001b[38;5;124m,\u001b[39m\u001b[38;5;132;01m{\u001b[39;00mkabs\u001b[38;5;132;01m}\u001b[39;00m\u001b[38;5;124m\"\u001b[39m\n\u001b[0;32m--> 571\u001b[0m \u001b[38;5;28;01mreturn\u001b[39;00m \u001b[38;5;28mself\u001b[39m\u001b[38;5;241m.\u001b[39mrun(command, \u001b[38;5;241m*\u001b[39m\u001b[38;5;241m*\u001b[39mkwargs)\n",
      "File \u001b[0;32m~/anaconda3/envs/ansys_env/lib/python3.11/site-packages/ansys/mapdl/core/mapdl_core.py:2238\u001b[0m, in \u001b[0;36m_MapdlCore.run\u001b[0;34m(self, command, write_to_log, mute, **kwargs)\u001b[0m\n\u001b[1;32m   2235\u001b[0m \u001b[38;5;28mself\u001b[39m\u001b[38;5;241m.\u001b[39m_before_run(command)\n\u001b[1;32m   2237\u001b[0m short_cmd \u001b[38;5;241m=\u001b[39m parse_to_short_cmd(command)\n\u001b[0;32m-> 2238\u001b[0m text \u001b[38;5;241m=\u001b[39m \u001b[38;5;28mself\u001b[39m\u001b[38;5;241m.\u001b[39m_run(command, verbose\u001b[38;5;241m=\u001b[39mverbose, mute\u001b[38;5;241m=\u001b[39mmute)\n\u001b[1;32m   2240\u001b[0m \u001b[38;5;28;01mif\u001b[39;00m (\n\u001b[1;32m   2241\u001b[0m     \u001b[38;5;124m\"\u001b[39m\u001b[38;5;124mDisplay device has not yet been specified with the /SHOW command\u001b[39m\u001b[38;5;124m\"\u001b[39m \u001b[38;5;129;01min\u001b[39;00m text\n\u001b[1;32m   2242\u001b[0m     \u001b[38;5;129;01mand\u001b[39;00m short_cmd \u001b[38;5;129;01min\u001b[39;00m PLOT_COMMANDS\n\u001b[1;32m   2243\u001b[0m ):\n\u001b[1;32m   2244\u001b[0m     \u001b[38;5;66;03m# Reissuing the command to make sure we get output.\u001b[39;00m\n\u001b[1;32m   2245\u001b[0m     \u001b[38;5;28mself\u001b[39m\u001b[38;5;241m.\u001b[39mshow(\u001b[38;5;28mself\u001b[39m\u001b[38;5;241m.\u001b[39mdefault_file_type_for_plots)\n",
      "File \u001b[0;32m~/anaconda3/envs/ansys_env/lib/python3.11/site-packages/ansys/mapdl/core/mapdl_grpc.py:958\u001b[0m, in \u001b[0;36mMapdlGrpc._run\u001b[0;34m(self, cmd, verbose, mute)\u001b[0m\n\u001b[1;32m    956\u001b[0m     response \u001b[38;5;241m=\u001b[39m \u001b[38;5;28mself\u001b[39m\u001b[38;5;241m.\u001b[39m_send_command_stream(cmd, \u001b[38;5;28;01mTrue\u001b[39;00m)\n\u001b[1;32m    957\u001b[0m \u001b[38;5;28;01melse\u001b[39;00m:\n\u001b[0;32m--> 958\u001b[0m     response \u001b[38;5;241m=\u001b[39m \u001b[38;5;28mself\u001b[39m\u001b[38;5;241m.\u001b[39m_send_command(cmd, mute\u001b[38;5;241m=\u001b[39mmute)\n\u001b[1;32m    959\u001b[0m \u001b[38;5;28mself\u001b[39m\u001b[38;5;241m.\u001b[39m_busy \u001b[38;5;241m=\u001b[39m \u001b[38;5;28;01mFalse\u001b[39;00m\n\u001b[1;32m    961\u001b[0m \u001b[38;5;28;01mreturn\u001b[39;00m response\u001b[38;5;241m.\u001b[39mstrip()\n",
      "File \u001b[0;32m~/anaconda3/envs/ansys_env/lib/python3.11/site-packages/ansys/mapdl/core/errors.py:386\u001b[0m, in \u001b[0;36mprotect_grpc.<locals>.wrapper\u001b[0;34m(*args, **kwargs)\u001b[0m\n\u001b[1;32m    383\u001b[0m         signal\u001b[38;5;241m.\u001b[39msignal(signal\u001b[38;5;241m.\u001b[39mSIGINT, old_handler)\n\u001b[1;32m    385\u001b[0m     \u001b[38;5;28;01mif\u001b[39;00m received_interrupt:  \u001b[38;5;66;03m# pragma: no cover\u001b[39;00m\n\u001b[0;32m--> 386\u001b[0m         \u001b[38;5;28;01mraise\u001b[39;00m \u001b[38;5;167;01mKeyboardInterrupt\u001b[39;00m(\u001b[38;5;124m\"\u001b[39m\u001b[38;5;124mInterrupted during MAPDL execution\u001b[39m\u001b[38;5;124m\"\u001b[39m)\n\u001b[1;32m    388\u001b[0m \u001b[38;5;28;01mreturn\u001b[39;00m out\n",
      "\u001b[0;31mKeyboardInterrupt\u001b[0m: Interrupted during MAPDL execution"
     ]
    },
    {
     "ename": "",
     "evalue": "",
     "output_type": "error",
     "traceback": [
      "\u001b[1;31mThe Kernel crashed while executing code in the current cell or a previous cell. \n",
      "\u001b[1;31mPlease review the code in the cell(s) to identify a possible cause of the failure. \n",
      "\u001b[1;31mClick <a href='https://aka.ms/vscodeJupyterKernelCrash'>here</a> for more info. \n",
      "\u001b[1;31mView Jupyter <a href='command:jupyter.viewOutput'>log</a> for further details."
     ]
    }
   ],
   "source": [
    "mapdl.eplot()"
   ]
  },
  {
   "cell_type": "code",
   "execution_count": null,
   "metadata": {},
   "outputs": [],
   "source": [
    "# eplot보다 이게 더 빠름 ㅋㅋ\n",
    "mapdl.solution()\n",
    "mapdl.antype('STATIC')\n",
    "mapdl.autots('OFF')\n",
    "mapdl.nsubst(1, 1, 1)\n",
    "\n",
    "mapdl.nsel('S', 'LOC', 'X', (total_width + design_width)/2)\n",
    "mapdl.d('ALL', 'ALL', 0)\n",
    "mapdl.nsel('S', 'LOC', 'X', (-total_width + design_width)/2)\n",
    "mapdl.d(\"ALL\", \"ALL\", 0)\n",
    "mapdl.nsel('ALL')\n",
    "\n",
    "mapdl.solve()\n",
    "mapdl.post1()\n",
    "\n",
    "result = mapdl.result\n",
    "pyvista.set_jupyter_backend('html')\n",
    "pyvista.start_xvfb()\n",
    "result.plot_principal_nodal_stress(\n",
    "    0,\n",
    "    \"SEQV\",\n",
    "    cpos=\"xy\",\n",
    "    background=\"w\",\n",
    "    text_color=\"k\",\n",
    "    add_text=True,\n",
    "    show_edges=True,\n",
    ")"
   ]
  },
  {
   "cell_type": "code",
   "execution_count": null,
   "metadata": {},
   "outputs": [],
   "source": []
  },
  {
   "cell_type": "markdown",
   "metadata": {},
   "source": [
    "## Simulation"
   ]
  },
  {
   "cell_type": "code",
   "execution_count": 13,
   "metadata": {},
   "outputs": [
    {
     "data": {
      "text/plain": [
       "***** ROUTINE COMPLETED *****  CP =        16.435\n",
       "\n",
       "\n",
       "\n",
       " *****  MAPDL SOLUTION ROUTINE  *****"
      ]
     },
     "execution_count": 13,
     "metadata": {},
     "output_type": "execute_result"
    }
   ],
   "source": [
    "mapdl.solution()"
   ]
  },
  {
   "cell_type": "code",
   "execution_count": 14,
   "metadata": {},
   "outputs": [],
   "source": [
    "mapdl.antype('STATIC')\n",
    "mapdl.nlgeom('ON')  # Enable large deformation effects\n",
    "\n",
    "total_displacement = 0.03  # 30 mm total displacement\n",
    "number_of_steps = 100\n",
    "displacement_increment = total_displacement / number_of_steps"
   ]
  },
  {
   "cell_type": "code",
   "execution_count": 15,
   "metadata": {},
   "outputs": [
    {
     "data": {
      "text/plain": [
       "USE      20 SUBSTEPS INITIALLY THIS LOAD STEP FOR ALL  DEGREES OF FREEDOM\n",
       " FOR AUTOMATIC TIME STEPPING:\n",
       "   USE    100 SUBSTEPS AS A MAXIMUM\n",
       "   USE      1 SUBSTEPS AS A MINIMUM"
      ]
     },
     "execution_count": 15,
     "metadata": {},
     "output_type": "execute_result"
    }
   ],
   "source": [
    "# mapdl.nropt('UNSYM')  # Use unsymmetric matrix if convergence issues occur\n",
    "mapdl.autots('ON')    # Enable automatic time stepping\n",
    "# mapdl.nliter(50, 0, 0, 0, 0)  # Set maximum number of equilibrium iterations\n",
    "# mapdl.cnvtol('F', 0.1)  # Force convergence tolerance\n",
    "mapdl.nsubst(20, 100, 1)\n",
    "# mapdl.deltim(dtime = \"AUTOTS\", dtmin = 0, dtmax = 1)"
   ]
  },
  {
   "cell_type": "code",
   "execution_count": 32,
   "metadata": {},
   "outputs": [
    {
     "name": "stdout",
     "output_type": "stream",
     "text": [
      "Solution time =  215s\n",
      "Step   1 completed. Current displacement :   0.30 Elapsed Time :  226s\n",
      "Solution time =  216s\n",
      "Step   2 completed. Current displacement :   0.60 Elapsed Time :  227s\n",
      "Solution time =  215s\n",
      "Step   3 completed. Current displacement :   0.90 Elapsed Time :  226s\n",
      "Solution time =  216s\n",
      "Step   4 completed. Current displacement :   1.20 Elapsed Time :  226s\n",
      "Solution time =  215s\n",
      "Step   5 completed. Current displacement :   1.50 Elapsed Time :  229s\n",
      "Solution time =  221s\n",
      "Step   6 completed. Current displacement :   1.80 Elapsed Time :  232s\n",
      "Solution time =  221s\n",
      "Step   7 completed. Current displacement :   2.10 Elapsed Time :  232s\n",
      "Solution time =  240s\n",
      "Step   8 completed. Current displacement :   2.40 Elapsed Time :  251s\n",
      "Specimen failed\n"
     ]
    }
   ],
   "source": [
    "import time\n",
    "# Initialize arrays to store results\n",
    "reaction_forces = []\n",
    "applied_displacements = []\n",
    "\n",
    "for step in range(1, number_of_steps + 1):\n",
    "    time_start = time.time()\n",
    "    current_disp = displacement_increment * step\n",
    "    mapdl.ddele('ALL', 'UX')  # Remove previous displacement BC\n",
    "    mapdl.nsel('S', 'LOC', 'X', (total_width + design_width)/2)\n",
    "    mapdl.d('ALL', 'UX', current_disp)\n",
    "    mapdl.d(\"ALL\", \"UY\", 0)\n",
    "    mapdl.d(\"ALL\", \"UZ\", 0)\n",
    "    mapdl.nsel('S', 'LOC', 'X', (-total_width + design_width)/2)\n",
    "    mapdl.d(\"ALL\", \"ALL\", 0)\n",
    "    mapdl.nsel('ALL')\n",
    "    \n",
    "    time_solutionstart = time.time()\n",
    "    # Solve current load step\n",
    "    mapdl.solve()\n",
    "    time_solutionend = time.time()\n",
    "    print(f\"Solution time = {int(time_solutionend-time_solutionstart):4}s\")\n",
    "\n",
    "    # Post-process to check for failure criterion\n",
    "    mapdl.post1()\n",
    "    mapdl.set('LAST')\n",
    "    \n",
    "    # Get nodal principal stress\n",
    "    mapdl.nsel('ALL')\n",
    "    principal_stress = np.maximum.reduce([mapdl.post_processing.nodal_principal_stress(\"1\"),\n",
    "                  mapdl.post_processing.nodal_principal_stress(\"2\"),\n",
    "                  mapdl.post_processing.nodal_principal_stress(\"3\")])\n",
    "\n",
    "\n",
    "    mapdl.nsel('ALL')\n",
    "    mapdl.nsel('S', 'LOC', 'X', (-total_width + design_width)/2)\n",
    "\n",
    "    reaction_forces_selected = mapdl.prrsol('FX').to_dataframe(columns=[\"NODE\", \"FX\"])\n",
    "    reaction_force = abs(reaction_forces_selected['FX'].sum())\n",
    "\n",
    "    # Get the reaction forces from the result object\n",
    "    # result = mapdl.result\n",
    "    # # 이거를 result 안쓰고 하는 법 없나? result 문법을 잘 모르겠음\n",
    "    # nnum, reaction_force = result.nodal_static_forces(0)\n",
    "    # mapdl.nsel('ALL')\n",
    "    # mapdl.nsel('S', 'LOC', 'X', 0)\n",
    "    # selected_nodes = mapdl.mesh.nnum  # Node numbers in the current selection\n",
    "    # reaction_force = reaction_force[selected_nodes-1].sum(axis=0)[0]\n",
    "    \n",
    "    reaction_forces.append(reaction_force)\n",
    "    applied_displacements.append(current_disp)\n",
    "\n",
    "    print(f\"Step{step:4} completed. Current displacement : {current_disp*1000:6.2f} Elapsed Time : {int(time.time()-time_start):4}s\")\n",
    "\n",
    "    # Principal stress / UTS\n",
    "\n",
    "    if (principal_stress > UTS).sum() > 0:\n",
    "        print(\"Specimen failed\")\n",
    "        break\n",
    "\n",
    "    mapdl.solution()"
   ]
  },
  {
   "cell_type": "markdown",
   "metadata": {},
   "source": [
    "## Postprocessing"
   ]
  },
  {
   "cell_type": "code",
   "execution_count": 46,
   "metadata": {},
   "outputs": [
    {
     "data": {
      "text/plain": [
       "Text(0, 0.5, 'Reaction Force (N)')"
      ]
     },
     "execution_count": 46,
     "metadata": {},
     "output_type": "execute_result"
    },
    {
     "data": {
      "image/png": "[encoded data removed]",
      "text/plain": [
       "<Figure size 640x480 with 1 Axes>"
      ]
     },
     "metadata": {},
     "output_type": "display_data"
    }
   ],
   "source": [
    "plt.plot(np.array(applied_displacements)*1000, np.array(reaction_forces))\n",
    "plt.xlabel(\"displacement (mm)\")\n",
    "plt.ylabel(\"Reaction Force (N)\")"
   ]
  },
  {
   "cell_type": "code",
   "execution_count": 34,
   "metadata": {},
   "outputs": [],
   "source": [
    "result = mapdl.result"
   ]
  },
  {
   "cell_type": "code",
   "execution_count": 6,
   "metadata": {},
   "outputs": [
    {
     "data": {
      "application/vnd.jupyter.widget-view+json": {
       "model_id": "71712f962dd44df084b4a42cc70d362e",
       "version_major": 2,
       "version_minor": 0
      },
      "text/plain": [
       "EmbeddableWidget(value='<iframe srcdoc=\"<!DOCTYPE html>\\n<html>\\n  <head>\\n    <meta http-equiv=&quot;Content-…"
      ]
     },
     "metadata": {},
     "output_type": "display_data"
    }
   ],
   "source": [
    "result.plot_principal_nodal_stress(\n",
    "    0,\n",
    "    \"SEQV\",\n",
    "    cpos=\"xy\",\n",
    "    background=\"w\",\n",
    "    text_color=\"k\",\n",
    "    add_text=True,\n",
    "    show_edges=True,\n",
    ")"
   ]
  },
  {
   "cell_type": "code",
   "execution_count": 44,
   "metadata": {},
   "outputs": [
    {
     "data": {
      "application/vnd.jupyter.widget-view+json": {
       "model_id": "019678dc0df34f7884d38944bbdb2c9b",
       "version_major": 2,
       "version_minor": 0
      },
      "text/plain": [
       "EmbeddableWidget(value='<iframe srcdoc=\"<!DOCTYPE html>\\n<html>\\n  <head>\\n    <meta http-equiv=&quot;Content-…"
      ]
     },
     "metadata": {},
     "output_type": "display_data"
    }
   ],
   "source": [
    "result.plot_nodal_displacement(\n",
    "    0,\n",
    "    cpos=\"xy\",\n",
    "    displacement_factor=1,\n",
    "    show_displacement=True,\n",
    "    show_edges=True,\n",
    ")"
   ]
  },
  {
   "cell_type": "markdown",
   "metadata": {},
   "source": [
    "## Saving Result"
   ]
  },
  {
   "cell_type": "code",
   "execution_count": 3,
   "metadata": {},
   "outputs": [],
   "source": [
    "import os\n",
    "\n",
    "current_dir = os.getcwd()"
   ]
  },
  {
   "cell_type": "code",
   "execution_count": 49,
   "metadata": {},
   "outputs": [
    {
     "data": {
      "text/plain": [
       "PUT THIS LOAD CASE ON THE RESULT FILE /home/mjk32/IIAD_pyMAPDL/result/temp_traingular.rst\n",
       "  AS RESULT SET     1 (LOAD STEP     1 SUBSTEP     7 TIME=  1.0000    )"
      ]
     },
     "execution_count": 49,
     "metadata": {},
     "output_type": "execute_result"
    }
   ],
   "source": [
    "mapdl.save(fname=f\"{current_dir}/result/temp_traingular\", ext=\"db\")\n",
    "# mapdl.run(f\"FILE, {current_dir}/result/result_iteration, rst\")\n",
    "mapdl.reswrite(fname = f\"{current_dir}/result/temp_traingular\")"
   ]
  },
  {
   "cell_type": "markdown",
   "metadata": {},
   "source": [
    "## Loading Result"
   ]
  },
  {
   "cell_type": "code",
   "execution_count": 4,
   "metadata": {},
   "outputs": [
    {
     "ename": "NameError",
     "evalue": "name 'mapdl' is not defined",
     "output_type": "error",
     "traceback": [
      "\u001b[0;31m---------------------------------------------------------------------------\u001b[0m",
      "\u001b[0;31mNameError\u001b[0m                                 Traceback (most recent call last)",
      "Cell \u001b[0;32mIn[4], line 1\u001b[0m\n\u001b[0;32m----> 1\u001b[0m mapdl\u001b[38;5;241m.\u001b[39mpost1()  \u001b[38;5;66;03m# Enter post-processing\u001b[39;00m\n\u001b[1;32m      2\u001b[0m mapdl\u001b[38;5;241m.\u001b[39mresume(fname\u001b[38;5;241m=\u001b[39m\u001b[38;5;124mf\u001b[39m\u001b[38;5;124m\"\u001b[39m\u001b[38;5;132;01m{\u001b[39;00mcurrent_dir\u001b[38;5;132;01m}\u001b[39;00m\u001b[38;5;124m/result/result_iteration\u001b[39m\u001b[38;5;124m\"\u001b[39m, ext\u001b[38;5;241m=\u001b[39m\u001b[38;5;124m\"\u001b[39m\u001b[38;5;124mdb\u001b[39m\u001b[38;5;124m\"\u001b[39m)\n",
      "\u001b[0;31mNameError\u001b[0m: name 'mapdl' is not defined"
     ]
    }
   ],
   "source": [
    "mapdl.post1()  # Enter post-processing\n",
    "mapdl.resume(fname=f\"{current_dir}/result/result_iteration\", ext=\"db\");"
   ]
  },
  {
   "cell_type": "code",
   "execution_count": 5,
   "metadata": {},
   "outputs": [],
   "source": [
    "result = pymapdl_reader.read_binary(f\"{current_dir}/result/temp_traingular.rst\")"
   ]
  },
  {
   "cell_type": "markdown",
   "metadata": {},
   "source": [
    "## Saving 3D object"
   ]
  },
  {
   "cell_type": "code",
   "execution_count": 19,
   "metadata": {},
   "outputs": [],
   "source": [
    "import os\n",
    "\n",
    "current_dir = os.getcwd()"
   ]
  },
  {
   "cell_type": "code",
   "execution_count": 12,
   "metadata": {},
   "outputs": [
    {
     "ename": "ImportError",
     "evalue": "DLL load failed while importing FreeCAD: The specified module could not be found.",
     "output_type": "error",
     "traceback": [
      "\u001b[1;31m---------------------------------------------------------------------------\u001b[0m",
      "\u001b[1;31mImportError\u001b[0m                               Traceback (most recent call last)",
      "Cell \u001b[1;32mIn[12], line 1\u001b[0m\n\u001b[1;32m----> 1\u001b[0m \u001b[38;5;28;01mimport\u001b[39;00m \u001b[38;5;21;01mFreeCAD\u001b[39;00m\n\u001b[0;32m      2\u001b[0m \u001b[38;5;28;01mimport\u001b[39;00m \u001b[38;5;21;01mPart\u001b[39;00m\n\u001b[0;32m      4\u001b[0m \u001b[38;5;66;03m# Load the IGES file\u001b[39;00m\n",
      "\u001b[1;31mImportError\u001b[0m: DLL load failed while importing FreeCAD: The specified module could not be found."
     ]
    }
   ],
   "source": [
    "import FreeCAD\n",
    "import Part\n",
    "\n",
    "# Load the IGES file\n",
    "input_file = \"result/3D_shape1.iges\"\n",
    "output_file = \"result/3D_shape1.stl\"\n",
    "\n",
    "doc = FreeCAD.newDocument()\n",
    "shape = Part.Shape()\n",
    "shape.read(input_file)\n",
    "\n",
    "# Add the shape to the document\n",
    "part = doc.addObject(\"Part::Feature\", \"Part\")\n",
    "part.Shape = shape\n",
    "\n",
    "# Export the model as STL\n",
    "Part.export([part], output_file)"
   ]
  },
  {
   "cell_type": "code",
   "execution_count": 22,
   "metadata": {},
   "outputs": [
    {
     "data": {
      "text/plain": [
       "*** MAPDL GLOBAL STATUS *** \n",
       "\n",
       " TITLE =                                                                       \n",
       "       894 KEYPOINTS DEFINED     MAX KEYPOINT NUMBER =            894\n",
       "      1341 LINES DEFINED         MAX LINE NUMBER =               1341\n",
       "       449 AREAS DEFINED         MAX AREA NUMBER =                449\n",
       "         1 VOLUMES DEFINED       MAX VOLUME NUMBER =                1\n",
       "         0 ELEM TYPES DEFINED    MAX ELEM TYPE NUMBER =             0\n",
       "         0 ELEMENTS DEFINED      MAX ELEMENT NUMBER =               0\n",
       "         0 NODES DEFINED         MAX NODE NUMBER =                  0\n",
       "\n",
       " WRITE ANSYS DATABASE AS AN ANSYS INPUT FILE: d:\\01__Personal_Projects\\IIAD_pyMAPDL/result/3D_shape2.txt                                                                                                                                                                                                          \n",
       "\n",
       " WRITE IGES FILE= d:\\01__Personal_Projects\\IIAD_pyMAPDL/result/3D_shape2.stl\n",
       "\n",
       " ATTRIBUTES WILL BE WRITTEN TO d:\\01__Personal_Projects\\IIAD_pyMAPDL/result/3D_shape2.stl.\n",
       "\n",
       " 32947 RECORDS WRITTEN TO FILE= d:\\01__Personal_Projects\\IIAD_pyMAPDL/result/3D_shape2.stl"
      ]
     },
     "execution_count": 22,
     "metadata": {},
     "output_type": "execute_result"
    }
   ],
   "source": [
    "mapdl.cdwrite(fname=f\"{current_dir}/result/3D_shape2\", ext = \"txt\", exti=\"stl\")"
   ]
  },
  {
   "cell_type": "code",
   "execution_count": null,
   "metadata": {},
   "outputs": [],
   "source": [
    "from create_geometry import triangle_parallel\n",
    "triangle_parallel(mapdl, n_cell=5, wall_thickness=1.6/1000, external_wall=False)"
   ]
  },
  {
   "cell_type": "code",
   "execution_count": null,
   "metadata": {},
   "outputs": [],
   "source": []
  }
 ],
 "metadata": {
  "kernelspec": {
   "display_name": "ansys_env",
   "language": "python",
   "name": "python3"
  },
  "language_info": {
   "codemirror_mode": {
    "name": "ipython",
    "version": 3
   },
   "file_extension": ".py",
   "mimetype": "text/x-python",
   "name": "python",
   "nbconvert_exporter": "python",
   "pygments_lexer": "ipython3",
   "version": "3.11.10"
  }
 },
 "nbformat": 4,
 "nbformat_minor": 2
}
