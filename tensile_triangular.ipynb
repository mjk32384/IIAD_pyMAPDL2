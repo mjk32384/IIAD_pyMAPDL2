{
 "cells": [
  {
   "cell_type": "code",
   "execution_count": 1,
   "metadata": {},
   "outputs": [],
   "source": [
    "import matplotlib.pyplot as plt\n",
    "import matplotlib as mpl\n",
    "import numpy as np\n",
    "import pandas as pd\n",
    "from ansys.mapdl.core import launch_mapdl\n",
    "from ansys.mapdl import reader as pymapdl_reader"
   ]
  },
  {
   "cell_type": "code",
   "execution_count": 2,
   "metadata": {},
   "outputs": [],
   "source": [
    "# Start an MAPDL instance\n",
    "mapdl = launch_mapdl()"
   ]
  },
  {
   "cell_type": "code",
   "execution_count": 3,
   "metadata": {},
   "outputs": [
    {
     "data": {
      "text/plain": [
       "*** MAPDL - ENGINEERING ANALYSIS SYSTEM  RELEASE 2024 R2          24.2     ***\n",
       " Ansys Mechanical Enterprise Academic Student      \n",
       " 01055371  VERSION=WINDOWS x64   02:32:07  NOV 20, 2024 CP=      0.172\n",
       "\n",
       "                                                                               \n",
       "\n",
       "\n",
       "\n",
       "          ***** MAPDL ANALYSIS DEFINITION (PREP7) *****"
      ]
     },
     "execution_count": 3,
     "metadata": {},
     "output_type": "execute_result"
    }
   ],
   "source": [
    "mapdl.finish()\n",
    "mapdl.clear()\n",
    "mapdl.prep7()"
   ]
  },
  {
   "cell_type": "markdown",
   "metadata": {},
   "source": [
    "## Triangular Lattice"
   ]
  },
  {
   "cell_type": "code",
   "execution_count": 4,
   "metadata": {},
   "outputs": [],
   "source": [
    "design_width = 60/1000\n",
    "design_height = 25/1000\n",
    "total_width = 144/1000\n",
    "total_z = 5/1000\n",
    "# density = 0.5\n",
    "\n",
    "wall_thickness = 0.5/1000\n",
    "n_cell = 5\n",
    "external_wall = False\n",
    "external_wall_thickness = wall_thickness"
   ]
  },
  {
   "cell_type": "code",
   "execution_count": 5,
   "metadata": {},
   "outputs": [],
   "source": [
    "cell_size = (design_height - 2*5/6*np.sqrt(3)*wall_thickness\n",
    "              - (n_cell - 1)*np.sqrt(3)*wall_thickness)/n_cell + np.sqrt(3)*wall_thickness"
   ]
  },
  {
   "cell_type": "code",
   "execution_count": 6,
   "metadata": {},
   "outputs": [],
   "source": [
    "i = 0\n",
    "design_part = mapdl.rectng(0, design_width, 0, design_height)\n",
    "while True:\n",
    "    if i%2 == 0:\n",
    "        for j in range(n_cell):\n",
    "            k1 = mapdl.k(x = i*cell_size*np.sqrt(3)/2, y = j*cell_size + 5/6*np.sqrt(3)*wall_thickness)\n",
    "            k2 = mapdl.k(x = i*cell_size*np.sqrt(3)/2, y = (j+1)*cell_size - 1/6*np.sqrt(3)*wall_thickness)\n",
    "            k3 = mapdl.k(x = (i+1)*cell_size*np.sqrt(3)/2 - 3/2*wall_thickness, y = (j+1/2)*cell_size + 1/3*np.sqrt(3)*wall_thickness)\n",
    "            hole = mapdl.a(k1, k2, k3)\n",
    "            try:\n",
    "                design_part = mapdl.asba(na1 = design_part, na2 = hole)\n",
    "            except:\n",
    "                pass\n",
    "            \n",
    "        for j in range(n_cell-1):\n",
    "            k1 = mapdl.k(x = (i+1)*cell_size*np.sqrt(3)/2 - wall_thickness, y = (j+1/2)*cell_size + 5/6*np.sqrt(3)*wall_thickness)\n",
    "            k2 = mapdl.k(x = (i+1)*cell_size*np.sqrt(3)/2 - wall_thickness, y = (j+3/2)*cell_size - 1/6*np.sqrt(3)*wall_thickness)\n",
    "            k3 = mapdl.k(x = i*cell_size*np.sqrt(3)/2 + 1/2*wall_thickness, y = (j+1)*cell_size + 1/3*np.sqrt(3)*wall_thickness)\n",
    "            hole = mapdl.a(k1, k2, k3)\n",
    "            try:\n",
    "                design_part = mapdl.asba(na1 = design_part, na2 = hole)\n",
    "            except:\n",
    "                pass\n",
    "        k1 = mapdl.k(x = i*cell_size*np.sqrt(3)/2 - wall_thickness/2, y = 0)\n",
    "        k2 = mapdl.k(x = (i+2)*cell_size*np.sqrt(3)/2 - wall_thickness/2, y = 0)\n",
    "        k3 = mapdl.k(x = (i+1)*cell_size*np.sqrt(3)/2 - wall_thickness/2, y = 1/2*cell_size)\n",
    "        hole = mapdl.a(k1, k2, k3)\n",
    "        try:\n",
    "            design_part = mapdl.asba(na1 = design_part, na2 = hole)\n",
    "        except:\n",
    "            pass\n",
    "        k1 = mapdl.k(x = i*cell_size*np.sqrt(3)/2 - wall_thickness/2, y = design_height)\n",
    "        k2 = mapdl.k(x = (i+2)*cell_size*np.sqrt(3)/2 - wall_thickness/2, y = design_height)\n",
    "        k3 = mapdl.k(x = (i+1)*cell_size*np.sqrt(3)/2 - wall_thickness/2, y = design_height - 1/2*cell_size)\n",
    "        hole = mapdl.a(k1, k2, k3)\n",
    "        try:\n",
    "            design_part = mapdl.asba(na1 = design_part, na2 = hole)\n",
    "        except:\n",
    "            pass\n",
    "    else:\n",
    "        for j in range(n_cell):\n",
    "            k1 = mapdl.k(x = (i+1)*cell_size*np.sqrt(3)/2 - wall_thickness, y = j*cell_size + 5/6*np.sqrt(3)*wall_thickness)\n",
    "            k2 = mapdl.k(x = (i+1)*cell_size*np.sqrt(3)/2 - wall_thickness, y = (j+1)*cell_size - 1/6*np.sqrt(3)*wall_thickness)\n",
    "            k3 = mapdl.k(x = i*cell_size*np.sqrt(3)/2 + 1/2*wall_thickness, y = (j+1/2)*cell_size + 1/3*np.sqrt(3)*wall_thickness)\n",
    "            hole = mapdl.a(k1, k2, k3)\n",
    "            try:\n",
    "                design_part = mapdl.asba(na1 = design_part, na2 = hole)\n",
    "            except:\n",
    "                pass\n",
    "        for j in range(n_cell-1):\n",
    "            k1 = mapdl.k(x = i*cell_size*np.sqrt(3)/2, y = (j+1/2)*cell_size + 5/6*np.sqrt(3)*wall_thickness)\n",
    "            k2 = mapdl.k(x = i*cell_size*np.sqrt(3)/2, y = (j+3/2)*cell_size - 1/6*np.sqrt(3)*wall_thickness)\n",
    "            k3 = mapdl.k(x = (i+1)*cell_size*np.sqrt(3)/2 - 3/2*wall_thickness, y = (j+1)*cell_size + 1/3*np.sqrt(3)*wall_thickness)\n",
    "            hole = mapdl.a(k1, k2, k3)\n",
    "            try:\n",
    "                design_part = mapdl.asba(na1 = design_part, na2 = hole)\n",
    "            except:\n",
    "                pass\n",
    "    if (i+1)*cell_size*np.sqrt(3)/2 > design_width:\n",
    "        break\n",
    "    i+=1"
   ]
  },
  {
   "cell_type": "code",
   "execution_count": 7,
   "metadata": {},
   "outputs": [
    {
     "data": {
      "text/plain": [
       "4"
      ]
     },
     "execution_count": 7,
     "metadata": {},
     "output_type": "execute_result"
    }
   ],
   "source": [
    "mapdl.rectng(x1=-total_width/2+design_width/2, x2=0, y1=0, y2=design_height)\n",
    "mapdl.rectng(design_width, total_width/2+design_width/2, 0, design_height)\n",
    "if external_wall:\n",
    "    mapdl.rectng(x1=0, x2=design_width, y1=0, y2=external_wall_thickness)\n",
    "    mapdl.rectng(x1=0, x2=design_width, y1=design_height, y2=design_height-external_wall_thickness)\n",
    "mapdl.aadd(\"all\")"
   ]
  },
  {
   "cell_type": "code",
   "execution_count": 8,
   "metadata": {},
   "outputs": [
    {
     "data": {
      "text/plain": [
       "EXTRUDE ALL AREAS \n",
       "      IN DIRECTION   0.000000    ,  0.000000    , 0.5000000E-02\n",
       "      SCALED         0.000000    ,  0.000000    ,  0.000000"
      ]
     },
     "execution_count": 8,
     "metadata": {},
     "output_type": "execute_result"
    }
   ],
   "source": [
    "mapdl.vext(\"ALL\", dz = total_z)"
   ]
  },
  {
   "cell_type": "code",
   "execution_count": 9,
   "metadata": {},
   "outputs": [
    {
     "data": {
      "application/vnd.jupyter.widget-view+json": {
       "model_id": "15af335a4ded440db87ada2989d38284",
       "version_major": 2,
       "version_minor": 0
      },
      "text/plain": [
       "Widget(value='<iframe src=\"http://localhost:59749/index.html?ui=P_0x281163558a0_0&reconnect=auto\" class=\"pyvis…"
      ]
     },
     "metadata": {},
     "output_type": "display_data"
    }
   ],
   "source": [
    "mapdl.vplot(cpos=\"xy\", show_lines=True)"
   ]
  },
  {
   "cell_type": "code",
   "execution_count": 11,
   "metadata": {},
   "outputs": [
    {
     "data": {
      "text/plain": [
       "0.7108913388888889"
      ]
     },
     "execution_count": 11,
     "metadata": {},
     "output_type": "execute_result"
    }
   ],
   "source": [
    "mapdl.get(entity=\"VOLU\", entnum=1, item1=\"VOLU\")*1e9/(25*5*144)"
   ]
  },
  {
   "cell_type": "code",
   "execution_count": 12,
   "metadata": {},
   "outputs": [
    {
     "data": {
      "text/plain": [
       "MATERIAL          1     PRXY =  0.2700000"
      ]
     },
     "execution_count": 12,
     "metadata": {},
     "output_type": "execute_result"
    }
   ],
   "source": [
    "ex = 30e6  # Young's Modulus\n",
    "prxy = 0.27  # Poisson's ratio\n",
    "\n",
    "mapdl.mp(\"EX\", 1, ex)\n",
    "mapdl.mp(\"PRXY\", 1, prxy)"
   ]
  },
  {
   "cell_type": "code",
   "execution_count": 13,
   "metadata": {},
   "outputs": [
    {
     "data": {
      "text/plain": [
       "SELECT ALL ENTITIES OF TYPE= ALL  AND BELOW"
      ]
     },
     "execution_count": 13,
     "metadata": {},
     "output_type": "execute_result"
    }
   ],
   "source": [
    "mapdl.allsel()"
   ]
  },
  {
   "cell_type": "code",
   "execution_count": 15,
   "metadata": {},
   "outputs": [
    {
     "data": {
      "text/plain": [
       "GENERATE NODES AND ELEMENTS   IN  ALL  SELECTED VOLUMES  \n",
       "\n",
       " NUMBER OF VOLUMES MESHED   =         1\n",
       " MAXIMUM NODE NUMBER        =     52129\n",
       " MAXIMUM ELEMENT NUMBER     =     27672\n",
       "\n",
       " ------------------------------------------------------------------------------\n",
       "            <<<<<<          SHAPE TESTING SUMMARY           >>>>>>\n",
       "            <<<<<<       FOR NEW OR MODIFIED ELEMENTS       >>>>>>\n",
       " ------------------------------------------------------------------------------\n",
       "                    --------------------------------------\n",
       "                    |  Element count     27672 SOLID187  |\n",
       "                    --------------------------------------\n",
       "\n",
       "  Test                Number tested  Warning count  Error count    Warn+Err %\n",
       "  ----                -------------  -------------  -----------    ----------\n",
       "  Aspect Ratio              27672              8             0         0.03 %\n",
       "  Maximum Angle             27672             11             0         0.04 %\n",
       "  Jacobian Ratio            27672              0             0         0.00 %\n",
       "\n",
       "  Any                       27672             11             0         0.04 %\n",
       " ------------------------------------------------------------------------------\n",
       "\n",
       " *** WARNING ***                         CP =      72.188   TIME= 03:00:54\n",
       " Shape testing revealed that 11 of the 27672 new or modified elements    \n",
       " violate shape warning limits.  To review test results, please see the   \n",
       " output file or issue the CHECK command."
      ]
     },
     "execution_count": 15,
     "metadata": {},
     "output_type": "execute_result"
    }
   ],
   "source": [
    "# Element type with plasticity capability (SOLID185 is suitable)\n",
    "mapdl.et(1, 'SOLID187')\n",
    "\n",
    "# Define mesh size\n",
    "mapdl.esize(0.002)  # Smaller element size for better accuracy\n",
    "\n",
    "# Mesh the volume\n",
    "mapdl.vmesh('ALL')"
   ]
  },
  {
   "cell_type": "code",
   "execution_count": 16,
   "metadata": {},
   "outputs": [
    {
     "data": {
      "application/vnd.jupyter.widget-view+json": {
       "model_id": "8dd5d837c45648ac9070bf80ee919b36",
       "version_major": 2,
       "version_minor": 0
      },
      "text/plain": [
       "Widget(value='<iframe src=\"http://localhost:59749/index.html?ui=P_0x281182a4fa0_2&reconnect=auto\" class=\"pyvis…"
      ]
     },
     "metadata": {},
     "output_type": "display_data"
    }
   ],
   "source": [
    "mapdl.eplot()"
   ]
  }
 ],
 "metadata": {
  "kernelspec": {
   "display_name": "FastMRI",
   "language": "python",
   "name": "python3"
  },
  "language_info": {
   "codemirror_mode": {
    "name": "ipython",
    "version": 3
   },
   "file_extension": ".py",
   "mimetype": "text/x-python",
   "name": "python",
   "nbconvert_exporter": "python",
   "pygments_lexer": "ipython3",
   "version": "3.10.13"
  }
 },
 "nbformat": 4,
 "nbformat_minor": 2
}
