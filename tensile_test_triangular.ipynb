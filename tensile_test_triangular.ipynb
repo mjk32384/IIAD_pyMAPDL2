{
 "cells": [
  {
   "cell_type": "code",
   "execution_count": null,
   "metadata": {},
   "outputs": [],
   "source": [
    "import matplotlib.pyplot as plt\n",
    "import matplotlib as mpl\n",
    "import numpy as np\n",
    "import pandas as pd\n",
    "from ansys.mapdl.core import launch_mapdl\n",
    "from ansys.mapdl import reader as pymapdl_reader"
   ]
  },
  {
   "cell_type": "code",
   "execution_count": null,
   "metadata": {},
   "outputs": [],
   "source": [
    "# Launch MAPDL\n",
    "mapdl = launch_mapdl()\n",
    "\n",
    "# Geometric parameter of triangle\n",
    "n_cell_list = [4, 2, 10, 6, 8]\n",
    "wall_thickness_ratio_list = [0.1, 0.15, 0.2, 0.35, 0.5]\n",
    "external_wall_list = [False, True]\n",
    "\n",
    "for n_cell in n_cell_list:\n",
    "    for wall_thickness_ratio in wall_thickness_ratio_list:\n",
    "        for external_wall in external_wall_list:"
   ]
  },
  {
   "cell_type": "code",
   "execution_count": null,
   "metadata": {},
   "outputs": [],
   "source": [
    "design_width = 60/1000\n",
    "design_height = 25/1000\n",
    "total_width = 144/1000\n",
    "# density = 0.5\n",
    "\n",
    "wall_thickness = wall_thickness_ratio*design_height/n_cell\n",
    "external_wall_thickness = wall_thickness"
   ]
  },
  {
   "cell_type": "code",
   "execution_count": null,
   "metadata": {},
   "outputs": [],
   "source": [
    "\n",
    "\n",
    "# Data structure to store results\n",
    "results = []\n",
    "\n",
    "# Pre-processing\n",
    "mapdl.clear()\n",
    "mapdl.prep7()\n",
    "mapdl.mp(\"EX\", 1, 200e9)  # Young's modulus\n",
    "mapdl.mp(\"PRXY\", 1, 0.3)  # Poisson's ratio\n",
    "mapdl.rectng(0, 1, 0, 1)  # Create a rectangular area\n",
    "mapdl.et(1, \"PLANE183\")\n",
    "mapdl.esize(0.1)\n",
    "mapdl.amesh(\"ALL\")\n",
    "mapdl.d(1, \"ALL\")  # Constrain one side\n",
    "\n",
    "# Perform iterations\n",
    "for i, force in enumerate(force_values):\n",
    "    mapdl.f(5, \"FX\", force)  # Apply force\n",
    "    mapdl.run(\"/SOLU\")\n",
    "    mapdl.solve()\n",
    "    mapdl.finish()\n",
    "    \n",
    "    # Post-process results\n",
    "    mapdl.post1()\n",
    "    nodal_displacements = mapdl.post_processing.nodal_displacement(\"X\")  # X displacement\n",
    "    max_displacement = np.max(nodal_displacements)\n",
    "    von_mises_stress = mapdl.post_processing.nodal_stress(\"von_mises\")\n",
    "    max_stress = np.max(von_mises_stress)\n",
    "    \n",
    "    # Store results\n",
    "    results.append({\n",
    "        \"Iteration\": i + 1,\n",
    "        \"Force\": force,\n",
    "        \"Max Displacement\": max_displacement,\n",
    "        \"Max Von Mises Stress\": max_stress\n",
    "    })\n",
    "\n",
    "# Convert results to DataFrame for review\n",
    "results_df = pd.DataFrame(results)\n",
    "print(results_df)"
   ]
  }
 ],
 "metadata": {
  "kernelspec": {
   "display_name": "FastMRI",
   "language": "python",
   "name": "python3"
  },
  "language_info": {
   "name": "python",
   "version": "3.10.13"
  }
 },
 "nbformat": 4,
 "nbformat_minor": 2
}
