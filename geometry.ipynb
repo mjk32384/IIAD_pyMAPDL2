{
 "cells": [
  {
   "cell_type": "code",
   "execution_count": 1,
   "metadata": {},
   "outputs": [],
   "source": [
    "import numpy as np\n",
    "import pandas as pd\n",
    "import matplotlib.pyplot as plt\n",
    "import time\n",
    "import traceback\n",
    "import os\n",
    "\n",
    "from ansys.mapdl.core import launch_mapdl"
   ]
  },
  {
   "cell_type": "code",
   "execution_count": 2,
   "metadata": {},
   "outputs": [],
   "source": [
    "try:\n",
    "    mapdl = launch_mapdl(start_instance=False, port=50052)\n",
    "except:\n",
    "    mapdl = launch_mapdl(start_instance=True, port=50052)"
   ]
  },
  {
   "cell_type": "code",
   "execution_count": 5,
   "metadata": {},
   "outputs": [
    {
     "data": {
      "text/plain": [
       "*** MAPDL - ENGINEERING ANALYSIS SYSTEM  RELEASE 2024 R2          24.2     ***\n",
       " Ansys Mechanical Enterprise Academic Student      \n",
       " 01055371  VERSION=WINDOWS x64   19:20:52  NOV 28, 2024 CP=      0.344\n",
       "\n",
       "                                                                               \n",
       "\n",
       "\n",
       "\n",
       "          ***** MAPDL ANALYSIS DEFINITION (PREP7) *****"
      ]
     },
     "execution_count": 5,
     "metadata": {},
     "output_type": "execute_result"
    }
   ],
   "source": [
    "mapdl.finish()\n",
    "mapdl.clear()\n",
    "mapdl.prep7()"
   ]
  },
  {
   "cell_type": "code",
   "execution_count": 6,
   "metadata": {},
   "outputs": [],
   "source": [
    "n_cell = 3\n",
    "relative_density = 0.5\n",
    "external_wall = False\n",
    "three_dim = False"
   ]
  },
  {
   "cell_type": "code",
   "execution_count": 7,
   "metadata": {},
   "outputs": [],
   "source": [
    "design_width = 60/1000\n",
    "design_height = 25/1000\n",
    "total_width = 144/1000\n",
    "total_z = 5/1000\n",
    "\n",
    "t_over_l = np.sqrt(3)/2 - np.sqrt(3 - 4*relative_density)/2\n",
    "cell_size = design_height/(np.sqrt(3)*n_cell + t_over_l)\n",
    "wall_thickness = cell_size*t_over_l\n",
    "external_wall_thickness = wall_thickness\n",
    "\n",
    "side_length = cell_size - 1/np.sqrt(3)*wall_thickness\n",
    "design_part = mapdl.rectng(-1/1000, design_width, 0, design_height)\n",
    "\n",
    "for i in range(n_cell):\n",
    "    j = 0\n",
    "    while True:\n",
    "        center = [cell_size/2 - np.sqrt(3)/2*wall_thickness + 2*j*cell_size - (i%2)*cell_size,\n",
    "                (cell_size + 1/np.sqrt(3)*wall_thickness)*np.sqrt(3)/2 + i*np.sqrt(3)*cell_size]\n",
    "        # 조건문 넣을 필요 없이, design part 늘리면 해결되긴 함\n",
    "        if center[0] - side_length < design_width:\n",
    "            k_list = []\n",
    "            for k in range(6):\n",
    "                k_list.append(mapdl.k(x = center[0] + side_length*np.cos(np.pi/3*k), y = center[1] + side_length*np.sin(np.pi/3*k)))\n",
    "            hole = mapdl.a(*k_list)\n",
    "            try:\n",
    "                design_part = mapdl.asba(na1 = design_part, na2 = hole)\n",
    "            except:\n",
    "                print(f\"error2 at i={i}, j={j}\")\n",
    "        # 조건문 넣을 필요 없이, design part 늘리면 해결되긴 함\n",
    "        if cell_size + 2*j*cell_size - (i%2)*cell_size < design_width:\n",
    "            k1 = mapdl.k(x = cell_size + 2*j*cell_size - (i%2)*cell_size, y = wall_thickness + i*np.sqrt(3)*cell_size)\n",
    "            k2 = mapdl.k(x = 2*cell_size - np.sqrt(3)*wall_thickness + 2*j*cell_size - (i%2)*cell_size, y = wall_thickness + i*np.sqrt(3)*cell_size)\n",
    "            k3 = mapdl.k(x = (3/2)*cell_size - 1/2*np.sqrt(3)*wall_thickness + 2*j*cell_size - (i%2)*cell_size, y = np.sqrt(3)/2*cell_size - 1/2*wall_thickness + i*np.sqrt(3)*cell_size)\n",
    "            hole = mapdl.a(k1, k2, k3)\n",
    "            try:\n",
    "                design_part = mapdl.asba(na1 = design_part, na2 = hole)\n",
    "            except Exception as e:\n",
    "                print(f\"error2 at i={i}, j={j}\")\n",
    "                print(e)\n",
    "\n",
    "            k1 = mapdl.k(x = cell_size + 2*j*cell_size - (i%2)*cell_size, y = np.sqrt(3)*cell_size + i*np.sqrt(3)*cell_size)\n",
    "            k2 = mapdl.k(x = 2*cell_size - np.sqrt(3)*wall_thickness + 2*j*cell_size - (i%2)*cell_size, y = np.sqrt(3)*cell_size + i*np.sqrt(3)*cell_size)\n",
    "            k3 = mapdl.k(x = (3/2)*cell_size - 1/2*np.sqrt(3)*wall_thickness + 2*j*cell_size - (i%2)*cell_size, y = np.sqrt(3)/2*cell_size + 3/2*wall_thickness + i*np.sqrt(3)*cell_size)\n",
    "            hole = mapdl.a(k1, k2, k3)\n",
    "            try:\n",
    "                design_part = mapdl.asba(na1 = design_part, na2 = hole)\n",
    "            except Exception as e:\n",
    "                print(f\"error3 at i={i}, j={j}\")\n",
    "                print(e)\n",
    "\n",
    "        if cell_size/2 - 1/np.sqrt(3)*wall_thickness + 2*j*cell_size > design_width:\n",
    "            break\n",
    "\n",
    "        j += 1\n",
    "\n",
    "mapdl.rectng(x1=-total_width/2+design_width/2, x2=0, y1=0, y2=design_height)\n",
    "mapdl.rectng(design_width, total_width/2+design_width/2, 0, design_height)\n",
    "mapdl.aadd(\"all\")\n",
    "\n",
    "if three_dim:\n",
    "    mapdl.vext(\"ALL\", dz = total_z)"
   ]
  },
  {
   "cell_type": "code",
   "execution_count": 21,
   "metadata": {},
   "outputs": [
    {
     "data": {
      "text/plain": [
       "array([4])"
      ]
     },
     "execution_count": 21,
     "metadata": {},
     "output_type": "execute_result"
    }
   ],
   "source": [
    "mapdl.asel(\"all\")"
   ]
  },
  {
   "cell_type": "code",
   "execution_count": 27,
   "metadata": {},
   "outputs": [
    {
     "data": {
      "text/plain": [
       "0.00289950014"
      ]
     },
     "execution_count": 27,
     "metadata": {},
     "output_type": "execute_result"
    }
   ],
   "source": [
    "mapdl.asum()\n",
    "mapdl.get(entity=\"AREA\", entnum=0, item1=\"AREA\")"
   ]
  },
  {
   "cell_type": "code",
   "execution_count": 41,
   "metadata": {},
   "outputs": [
    {
     "name": "stdout",
     "output_type": "stream",
     "text": [
      "error2 at i=0, j=17\n",
      "error2 at i=2, j=17\n",
      "error2 at i=4, j=17\n",
      "error2 at i=6, j=17\n"
     ]
    },
    {
     "ename": "MapdlRuntimeError",
     "evalue": "\n\nError in instance GRPC_127.0.0.1:50052\n\nADD AREAS\n      INPUT AREAS =     1    2    3    4    5    6    7\n      INPUT AREAS WILL BE DELETED IF POSSIBLE\n *** ERROR ***                           CP =    2207.562   TIME= 21:40:02\n Boolean operation failed.  Try adjusting the tolerance value on the     \n BTOL command to some fraction of the minimum keypoint distance.Model    \n Size (current problem) 1.515526e-01, current BTOL setting               \n 1.000000e-05, minimum KPT distance 1.638762e-04.",
     "output_type": "error",
     "traceback": [
      "\u001b[1;31m---------------------------------------------------------------------------\u001b[0m",
      "\u001b[1;31mMapdlRuntimeError\u001b[0m                         Traceback (most recent call last)",
      "Cell \u001b[1;32mIn[41], line 22\u001b[0m\n\u001b[0;32m     19\u001b[0m mapdl\u001b[38;5;241m.\u001b[39mclear()\n\u001b[0;32m     20\u001b[0m mapdl\u001b[38;5;241m.\u001b[39mprep7()\n\u001b[1;32m---> 22\u001b[0m \u001b[43mkagome_horizontal\u001b[49m\u001b[43m(\u001b[49m\u001b[43mmapdl\u001b[49m\u001b[43m,\u001b[49m\u001b[43m \u001b[49m\u001b[43mn_cell\u001b[49m\u001b[43m,\u001b[49m\u001b[43m \u001b[49m\u001b[43mrelative_density\u001b[49m\u001b[43m,\u001b[49m\u001b[43m \u001b[49m\u001b[43mexternal_wall\u001b[49m\u001b[43m,\u001b[49m\u001b[43m \u001b[49m\u001b[43mthree_dim\u001b[49m\u001b[43m)\u001b[49m\n\u001b[0;32m     23\u001b[0m mapdl\u001b[38;5;241m.\u001b[39masel(\u001b[38;5;124m\"\u001b[39m\u001b[38;5;124mall\u001b[39m\u001b[38;5;124m\"\u001b[39m)\n\u001b[0;32m     24\u001b[0m mapdl\u001b[38;5;241m.\u001b[39masum()\n",
      "File \u001b[1;32md:\\01__Personal_Projects\\IIAD_pyMAPDL2\\functions.py:322\u001b[0m, in \u001b[0;36mkagome_horizontal\u001b[1;34m(mapdl, n_cell, relative_density, external_wall, three_dim)\u001b[0m\n\u001b[0;32m    320\u001b[0m mapdl\u001b[38;5;241m.\u001b[39mrectng(x1\u001b[38;5;241m=\u001b[39m\u001b[38;5;241m-\u001b[39mtotal_width\u001b[38;5;241m/\u001b[39m\u001b[38;5;241m2\u001b[39m\u001b[38;5;241m+\u001b[39mdesign_width\u001b[38;5;241m/\u001b[39m\u001b[38;5;241m2\u001b[39m, x2\u001b[38;5;241m=\u001b[39m\u001b[38;5;241m0\u001b[39m, y1\u001b[38;5;241m=\u001b[39m\u001b[38;5;241m0\u001b[39m, y2\u001b[38;5;241m=\u001b[39mdesign_height)\n\u001b[0;32m    321\u001b[0m mapdl\u001b[38;5;241m.\u001b[39mrectng(design_width, total_width\u001b[38;5;241m/\u001b[39m\u001b[38;5;241m2\u001b[39m\u001b[38;5;241m+\u001b[39mdesign_width\u001b[38;5;241m/\u001b[39m\u001b[38;5;241m2\u001b[39m, \u001b[38;5;241m0\u001b[39m, design_height)\n\u001b[1;32m--> 322\u001b[0m \u001b[43mmapdl\u001b[49m\u001b[38;5;241;43m.\u001b[39;49m\u001b[43maadd\u001b[49m\u001b[43m(\u001b[49m\u001b[38;5;124;43m\"\u001b[39;49m\u001b[38;5;124;43mall\u001b[39;49m\u001b[38;5;124;43m\"\u001b[39;49m\u001b[43m)\u001b[49m\n\u001b[0;32m    324\u001b[0m \u001b[38;5;28;01mif\u001b[39;00m three_dim:\n\u001b[0;32m    325\u001b[0m     mapdl\u001b[38;5;241m.\u001b[39mvext(\u001b[38;5;124m\"\u001b[39m\u001b[38;5;124mALL\u001b[39m\u001b[38;5;124m\"\u001b[39m, dz \u001b[38;5;241m=\u001b[39m total_z)\n",
      "File \u001b[1;32mc:\\Users\\mjk32\\anaconda3\\envs\\FastMRI\\Lib\\site-packages\\ansys\\mapdl\\core\\_commands\\preproc\\booleans.py:74\u001b[0m, in \u001b[0;36mBooleans.aadd\u001b[1;34m(self, na1, na2, na3, na4, na5, na6, na7, na8, na9, **kwargs)\u001b[0m\n\u001b[0;32m     40\u001b[0m \u001b[38;5;250m\u001b[39m\u001b[38;5;124;03m\"\"\"Adds separate areas to create a single area.\u001b[39;00m\n\u001b[0;32m     41\u001b[0m \n\u001b[0;32m     42\u001b[0m \u001b[38;5;124;03mAPDL Command: AADD\u001b[39;00m\n\u001b[1;32m   (...)\u001b[0m\n\u001b[0;32m     71\u001b[0m \n\u001b[0;32m     72\u001b[0m \u001b[38;5;124;03m\"\"\"\u001b[39;00m\n\u001b[0;32m     73\u001b[0m command \u001b[38;5;241m=\u001b[39m \u001b[38;5;124mf\u001b[39m\u001b[38;5;124m\"\u001b[39m\u001b[38;5;124mAADD,\u001b[39m\u001b[38;5;132;01m{\u001b[39;00mna1\u001b[38;5;132;01m}\u001b[39;00m\u001b[38;5;124m,\u001b[39m\u001b[38;5;132;01m{\u001b[39;00mna2\u001b[38;5;132;01m}\u001b[39;00m\u001b[38;5;124m,\u001b[39m\u001b[38;5;132;01m{\u001b[39;00mna3\u001b[38;5;132;01m}\u001b[39;00m\u001b[38;5;124m,\u001b[39m\u001b[38;5;132;01m{\u001b[39;00mna4\u001b[38;5;132;01m}\u001b[39;00m\u001b[38;5;124m,\u001b[39m\u001b[38;5;132;01m{\u001b[39;00mna5\u001b[38;5;132;01m}\u001b[39;00m\u001b[38;5;124m,\u001b[39m\u001b[38;5;132;01m{\u001b[39;00mna6\u001b[38;5;132;01m}\u001b[39;00m\u001b[38;5;124m,\u001b[39m\u001b[38;5;132;01m{\u001b[39;00mna7\u001b[38;5;132;01m}\u001b[39;00m\u001b[38;5;124m,\u001b[39m\u001b[38;5;132;01m{\u001b[39;00mna8\u001b[38;5;132;01m}\u001b[39;00m\u001b[38;5;124m,\u001b[39m\u001b[38;5;132;01m{\u001b[39;00mna9\u001b[38;5;132;01m}\u001b[39;00m\u001b[38;5;124m\"\u001b[39m\n\u001b[1;32m---> 74\u001b[0m \u001b[38;5;28;01mreturn\u001b[39;00m parse\u001b[38;5;241m.\u001b[39mparse_output_areas(\u001b[38;5;28;43mself\u001b[39;49m\u001b[38;5;241;43m.\u001b[39;49m\u001b[43mrun\u001b[49m\u001b[43m(\u001b[49m\u001b[43mcommand\u001b[49m\u001b[43m,\u001b[49m\u001b[43m \u001b[49m\u001b[38;5;241;43m*\u001b[39;49m\u001b[38;5;241;43m*\u001b[39;49m\u001b[43mkwargs\u001b[49m\u001b[43m)\u001b[49m)\n",
      "File \u001b[1;32mc:\\Users\\mjk32\\anaconda3\\envs\\FastMRI\\Lib\\site-packages\\ansys\\mapdl\\core\\mapdl_core.py:2262\u001b[0m, in \u001b[0;36m_MapdlCore.run\u001b[1;34m(self, command, write_to_log, mute, **kwargs)\u001b[0m\n\u001b[0;32m   2259\u001b[0m     \u001b[38;5;28;01mreturn\u001b[39;00m \u001b[38;5;28mself\u001b[39m\u001b[38;5;241m.\u001b[39m_response\n\u001b[0;32m   2261\u001b[0m \u001b[38;5;28;01mif\u001b[39;00m \u001b[38;5;129;01mnot\u001b[39;00m \u001b[38;5;28mself\u001b[39m\u001b[38;5;241m.\u001b[39mignore_errors:\n\u001b[1;32m-> 2262\u001b[0m     \u001b[38;5;28;43mself\u001b[39;49m\u001b[38;5;241;43m.\u001b[39;49m\u001b[43m_raise_errors\u001b[49m\u001b[43m(\u001b[49m\u001b[43mtext\u001b[49m\u001b[43m)\u001b[49m\n\u001b[0;32m   2264\u001b[0m \u001b[38;5;66;03m# special returns for certain geometry commands\u001b[39;00m\n\u001b[0;32m   2265\u001b[0m \u001b[38;5;28;01mif\u001b[39;00m short_cmd \u001b[38;5;129;01min\u001b[39;00m PLOT_COMMANDS:\n",
      "File \u001b[1;32mc:\\Users\\mjk32\\anaconda3\\envs\\FastMRI\\Lib\\site-packages\\ansys\\mapdl\\core\\mapdl_core.py:2774\u001b[0m, in \u001b[0;36m_MapdlCore._raise_errors\u001b[1;34m(self, text)\u001b[0m\n\u001b[0;32m   2772\u001b[0m \u001b[38;5;66;03m# flag errors\u001b[39;00m\n\u001b[0;32m   2773\u001b[0m \u001b[38;5;28;01mif\u001b[39;00m \u001b[38;5;124m\"\u001b[39m\u001b[38;5;124m*** ERROR ***\u001b[39m\u001b[38;5;124m\"\u001b[39m \u001b[38;5;129;01min\u001b[39;00m flat_text:\n\u001b[1;32m-> 2774\u001b[0m     \u001b[38;5;28;43mself\u001b[39;49m\u001b[38;5;241;43m.\u001b[39;49m\u001b[43m_raise_output_errors\u001b[49m\u001b[43m(\u001b[49m\u001b[43mtext\u001b[49m\u001b[43m)\u001b[49m\n",
      "File \u001b[1;32mc:\\Users\\mjk32\\anaconda3\\envs\\FastMRI\\Lib\\site-packages\\ansys\\mapdl\\core\\mapdl_core.py:2851\u001b[0m, in \u001b[0;36m_MapdlCore._raise_output_errors\u001b[1;34m(self, response)\u001b[0m\n\u001b[0;32m   2845\u001b[0m     \u001b[38;5;28;01mcontinue\u001b[39;00m\n\u001b[0;32m   2846\u001b[0m \u001b[38;5;28;01melse\u001b[39;00m:\n\u001b[0;32m   2847\u001b[0m     \u001b[38;5;66;03m# We don't need to log exception because they already included in the main logger.\u001b[39;00m\n\u001b[0;32m   2848\u001b[0m     \u001b[38;5;66;03m# logger.error(response)\u001b[39;00m\n\u001b[0;32m   2849\u001b[0m     \u001b[38;5;66;03m# However, exceptions are recorded in the global logger which do not record\u001b[39;00m\n\u001b[0;32m   2850\u001b[0m     \u001b[38;5;66;03m# information of the instances name, hence we edit the error message.\u001b[39;00m\n\u001b[1;32m-> 2851\u001b[0m     \u001b[38;5;28;01mraise\u001b[39;00m MapdlRuntimeError(\n\u001b[0;32m   2852\u001b[0m         \u001b[38;5;124mf\u001b[39m\u001b[38;5;124m\"\u001b[39m\u001b[38;5;130;01m\\n\u001b[39;00m\u001b[38;5;130;01m\\n\u001b[39;00m\u001b[38;5;124mError in instance \u001b[39m\u001b[38;5;132;01m{\u001b[39;00m\u001b[38;5;28mself\u001b[39m\u001b[38;5;241m.\u001b[39mname\u001b[38;5;132;01m}\u001b[39;00m\u001b[38;5;130;01m\\n\u001b[39;00m\u001b[38;5;130;01m\\n\u001b[39;00m\u001b[38;5;124m\"\u001b[39m \u001b[38;5;241m+\u001b[39m error_message\n\u001b[0;32m   2853\u001b[0m     )\n",
      "\u001b[1;31mMapdlRuntimeError\u001b[0m: \n\nError in instance GRPC_127.0.0.1:50052\n\nADD AREAS\n      INPUT AREAS =     1    2    3    4    5    6    7\n      INPUT AREAS WILL BE DELETED IF POSSIBLE\n *** ERROR ***                           CP =    2207.562   TIME= 21:40:02\n Boolean operation failed.  Try adjusting the tolerance value on the     \n BTOL command to some fraction of the minimum keypoint distance.Model    \n Size (current problem) 1.515526e-01, current BTOL setting               \n 1.000000e-05, minimum KPT distance 1.638762e-04."
     ]
    }
   ],
   "source": [
    "from functions import kagome_horizontal\n",
    "import numpy as np\n",
    "\n",
    "external_wall = False\n",
    "three_dim = False\n",
    "\n",
    "total_density = pd.DataFrame([])\n",
    "for n_cell in range(2, 10):\n",
    "    density_dict = {}\n",
    "\n",
    "    for relative_density in np.arange(0.05, 0.5, 0.05):\n",
    "        design_width = 60/1000\n",
    "        design_height = 25/1000\n",
    "        total_width = 144/1000\n",
    "        total_z = 5/1000\n",
    "\n",
    "        mapdl.finish()\n",
    "        mapdl.clear()\n",
    "        mapdl.prep7()\n",
    "\n",
    "        kagome_horizontal(mapdl, n_cell, relative_density, external_wall, three_dim)\n",
    "        mapdl.asel(\"all\")\n",
    "        mapdl.asum()\n",
    "        density = mapdl.get(entity=\"AREA\", entnum=0, item1=\"AREA\")/total_width/design_height\n",
    "        density_dict[relative_density] = density\n",
    "    total_density[n_cell] = density_dict"
   ]
  },
  {
   "cell_type": "code",
   "execution_count": null,
   "metadata": {},
   "outputs": [],
   "source": [
    "total_density.to_csv('temp.csv')"
   ]
  },
  {
   "cell_type": "code",
   "execution_count": 36,
   "metadata": {},
   "outputs": [],
   "source": [
    "total_density = pd.DataFrame([])"
   ]
  },
  {
   "cell_type": "code",
   "execution_count": 34,
   "metadata": {},
   "outputs": [],
   "source": [
    "total_density['new'] = [1, 2, 3]"
   ]
  },
  {
   "cell_type": "code",
   "execution_count": 37,
   "metadata": {},
   "outputs": [],
   "source": [
    "density = pd.Series({1: 2, 'a': 1})"
   ]
  },
  {
   "cell_type": "code",
   "execution_count": 38,
   "metadata": {},
   "outputs": [],
   "source": [
    "total_density['new'] = density"
   ]
  },
  {
   "cell_type": "code",
   "execution_count": null,
   "metadata": {},
   "outputs": [],
   "source": []
  }
 ],
 "metadata": {
  "kernelspec": {
   "display_name": "FastMRI",
   "language": "python",
   "name": "python3"
  },
  "language_info": {
   "codemirror_mode": {
    "name": "ipython",
    "version": 3
   },
   "file_extension": ".py",
   "mimetype": "text/x-python",
   "name": "python",
   "nbconvert_exporter": "python",
   "pygments_lexer": "ipython3",
   "version": "3.11.9"
  }
 },
 "nbformat": 4,
 "nbformat_minor": 2
}
