{
 "cells": [
  {
   "cell_type": "markdown",
   "metadata": {},
   "source": [
    "# Corner Bracket"
   ]
  },
  {
   "cell_type": "code",
   "execution_count": 1,
   "metadata": {},
   "outputs": [],
   "source": [
    "import matplotlib.pyplot as plt\n",
    "import matplotlib as mpl\n",
    "import numpy as np\n",
    "from ansys.mapdl.core import launch_mapdl"
   ]
  },
  {
   "cell_type": "code",
   "execution_count": 2,
   "metadata": {},
   "outputs": [],
   "source": [
    "mapdl = launch_mapdl()"
   ]
  },
  {
   "cell_type": "code",
   "execution_count": 3,
   "metadata": {},
   "outputs": [
    {
     "name": "stdout",
     "output_type": "stream",
     "text": [
      "Product:             Ansys Mechanical Enterprise Academic Student\n",
      "MAPDL Version:       24.2\n",
      "ansys.mapdl Version: 0.68.6\n",
      "\n"
     ]
    }
   ],
   "source": [
    "print(mapdl)"
   ]
  },
  {
   "cell_type": "code",
   "execution_count": 4,
   "metadata": {},
   "outputs": [
    {
     "data": {
      "text/plain": [
       "*** MAPDL - ENGINEERING ANALYSIS SYSTEM  RELEASE 2024 R2          24.2     ***\n",
       " Ansys Mechanical Enterprise Academic Student      \n",
       " 01055371  VERSION=WINDOWS x64   16:42:14  NOV 18, 2024 CP=      0.156\n",
       "\n",
       "                                                                               \n",
       "\n",
       "\n",
       "\n",
       "          ***** MAPDL ANALYSIS DEFINITION (PREP7) *****"
      ]
     },
     "execution_count": 4,
     "metadata": {},
     "output_type": "execute_result"
    }
   ],
   "source": [
    "mapdl.prep7()"
   ]
  },
  {
   "cell_type": "code",
   "execution_count": 5,
   "metadata": {},
   "outputs": [
    {
     "data": {
      "text/plain": [
       "2"
      ]
     },
     "execution_count": 5,
     "metadata": {},
     "output_type": "execute_result"
    }
   ],
   "source": [
    "box1 = [0, 6, -1, 1]\n",
    "box2 = [4, 6, -1, -3]\n",
    "mapdl.rectng(*box1)  # prints the id of the created area\n",
    "mapdl.rectng(*box2)  # prints the id of the created area"
   ]
  },
  {
   "cell_type": "code",
   "execution_count": 6,
   "metadata": {},
   "outputs": [
    {
     "data": {
      "application/vnd.jupyter.widget-view+json": {
       "model_id": "c3237b6b370b43ea831ffc2c40a9f18b",
       "version_major": 2,
       "version_minor": 0
      },
      "text/plain": [
       "Widget(value='<iframe src=\"http://localhost:52215/index.html?ui=P_0x1e72f6856c0_0&reconnect=auto\" class=\"pyvis…"
      ]
     },
     "metadata": {},
     "output_type": "display_data"
    }
   ],
   "source": [
    "mapdl.aplot(cpos=\"xy\", show_lines=True)"
   ]
  },
  {
   "cell_type": "code",
   "execution_count": 7,
   "metadata": {},
   "outputs": [
    {
     "data": {
      "application/vnd.jupyter.widget-view+json": {
       "model_id": "9ae9ab33466d4c13b8558d7d0f0f8cac",
       "version_major": 2,
       "version_minor": 0
      },
      "text/plain": [
       "Widget(value='<iframe src=\"http://localhost:52215/index.html?ui=P_0x1e72f687280_1&reconnect=auto\" class=\"pyvis…"
      ]
     },
     "metadata": {},
     "output_type": "display_data"
    }
   ],
   "source": [
    "radius = 1\n",
    "circle1_X = box1[0]\n",
    "circle1_Y = (box1[2] + box1[3]) / 2\n",
    "mapdl.cyl4(circle1_X, circle1_Y, radius)\n",
    "\n",
    "mapdl.aplot(vtk=True, cpos=\"xy\", show_lines=True)"
   ]
  },
  {
   "cell_type": "code",
   "execution_count": 8,
   "metadata": {},
   "outputs": [
    {
     "data": {
      "text/plain": [
       "5"
      ]
     },
     "execution_count": 8,
     "metadata": {},
     "output_type": "execute_result"
    }
   ],
   "source": [
    "circle2_X = (box2[0] + box2[1]) / 2\n",
    "circle2_Y = box2[3]\n",
    "mapdl.cyl4(circle2_X, circle2_Y, radius)\n",
    "mapdl.aadd(\"all\")"
   ]
  },
  {
   "cell_type": "code",
   "execution_count": 9,
   "metadata": {},
   "outputs": [],
   "source": [
    "line1 = mapdl.lsel(\"S\", \"LOC\", \"Y\", box1[2])\n",
    "l1 = mapdl.get(\"line1\", \"LINE\", 0, \"NUM\", \"MAX\")"
   ]
  },
  {
   "cell_type": "code",
   "execution_count": 10,
   "metadata": {},
   "outputs": [],
   "source": [
    "line2 = mapdl.lsel(\"S\", \"LOC\", \"X\", box2[0])\n",
    "l2 = mapdl.get(\"line2\", \"LINE\", 0, \"NUM\", \"MAX\")"
   ]
  },
  {
   "cell_type": "code",
   "execution_count": 11,
   "metadata": {},
   "outputs": [],
   "source": [
    "fillet_radius = 0.4\n",
    "mapdl.allsel()\n",
    "line3 = mapdl.lfillt(\"line1\", l2, fillet_radius)"
   ]
  },
  {
   "cell_type": "code",
   "execution_count": 12,
   "metadata": {},
   "outputs": [
    {
     "data": {
      "application/vnd.jupyter.widget-view+json": {
       "model_id": "afb5ce5548904fb9aec71f145e23bae6",
       "version_major": 2,
       "version_minor": 0
      },
      "text/plain": [
       "Widget(value='<iframe src=\"http://localhost:52215/index.html?ui=P_0x1e739db4a90_2&reconnect=auto\" class=\"pyvis…"
      ]
     },
     "metadata": {},
     "output_type": "display_data"
    }
   ],
   "source": [
    "mapdl.allsel()\n",
    "mapdl.lplot(vtk=True, cpos=\"xy\")"
   ]
  },
  {
   "cell_type": "code",
   "execution_count": 13,
   "metadata": {},
   "outputs": [
    {
     "data": {
      "text/plain": [
       "array([4, 5])"
      ]
     },
     "execution_count": 13,
     "metadata": {},
     "output_type": "execute_result"
    }
   ],
   "source": [
    "mapdl.allsel()\n",
    "\n",
    "# Select lines for the area\n",
    "mapdl.lsel(\"S\", \"LENGTH\", \"\", fillet_radius)"
   ]
  },
  {
   "cell_type": "code",
   "execution_count": 14,
   "metadata": {},
   "outputs": [
    {
     "data": {
      "application/vnd.jupyter.widget-view+json": {
       "model_id": "c5c68a2b89c24d6686a114a69dc5fe85",
       "version_major": 2,
       "version_minor": 0
      },
      "text/plain": [
       "Widget(value='<iframe src=\"http://localhost:52215/index.html?ui=P_0x1e739db6470_3&reconnect=auto\" class=\"pyvis…"
      ]
     },
     "metadata": {},
     "output_type": "display_data"
    }
   ],
   "source": [
    "mapdl.lsel(\"A\", \"LINE\", \"\", line3)\n",
    "\n",
    "# plotting ares\n",
    "mapdl.lplot(vtk=True, cpos=\"xy\", show_line_numbering=True)"
   ]
  },
  {
   "cell_type": "code",
   "execution_count": 15,
   "metadata": {},
   "outputs": [
    {
     "data": {
      "application/vnd.jupyter.widget-view+json": {
       "model_id": "8e269dc2a43e42d7bae7c60b303e26ee",
       "version_major": 2,
       "version_minor": 0
      },
      "text/plain": [
       "Widget(value='<iframe src=\"http://localhost:52215/index.html?ui=P_0x1e73f08d7e0_4&reconnect=auto\" class=\"pyvis…"
      ]
     },
     "metadata": {},
     "output_type": "display_data"
    }
   ],
   "source": [
    "mapdl.al(\"ALL\")  # Prints the ID of the newly created area\n",
    "mapdl.lplot(vtk=True, cpos=\"xy\", show_line_numbering=True)"
   ]
  },
  {
   "cell_type": "code",
   "execution_count": 16,
   "metadata": {},
   "outputs": [
    {
     "data": {
      "application/vnd.jupyter.widget-view+json": {
       "model_id": "da7c83974b4e4abeb764c909b523cc61",
       "version_major": 2,
       "version_minor": 0
      },
      "text/plain": [
       "Widget(value='<iframe src=\"http://localhost:52215/index.html?ui=P_0x1e7423387f0_5&reconnect=auto\" class=\"pyvis…"
      ]
     },
     "metadata": {},
     "output_type": "display_data"
    }
   ],
   "source": [
    "# Add the area to the main area\n",
    "mapdl.aadd(\"all\")\n",
    "mapdl.aplot(vtk=True, cpos=\"xy\", show_lines=True)"
   ]
  },
  {
   "cell_type": "code",
   "execution_count": 17,
   "metadata": {},
   "outputs": [
    {
     "data": {
      "application/vnd.jupyter.widget-view+json": {
       "model_id": "847d23bca397429d9e90c1fcdb6c7191",
       "version_major": 2,
       "version_minor": 0
      },
      "text/plain": [
       "Widget(value='<iframe src=\"http://localhost:52215/index.html?ui=P_0x1e74233b5e0_6&reconnect=auto\" class=\"pyvis…"
      ]
     },
     "metadata": {},
     "output_type": "display_data"
    }
   ],
   "source": [
    "# Create the first pinhole\n",
    "pinhole_radius = 0.4\n",
    "pinhole1_X = box1[0]\n",
    "pinhole1_Y = (box1[2] + box1[3]) / 2\n",
    "\n",
    "pinhole1 = mapdl.cyl4(pinhole1_X, pinhole1_Y, pinhole_radius)\n",
    "\n",
    "pinhole2_X = (box2[0] + box2[1]) / 2\n",
    "pinhole2_Y = box2[3]\n",
    "\n",
    "pinhole2 = mapdl.cyl4(pinhole2_X, pinhole2_Y, pinhole_radius)\n",
    "pinhole2_lines = mapdl.asll(\"S\", 0)\n",
    "\n",
    "mapdl.asba(\"all\", pinhole1)\n",
    "bracket = mapdl.asba(\"all\", pinhole2)\n",
    "mapdl.aplot(vtk=True, show_lines=True, cpos=\"xy\")"
   ]
  },
  {
   "cell_type": "code",
   "execution_count": 18,
   "metadata": {},
   "outputs": [
    {
     "data": {
      "text/plain": [
       "MATERIAL          1     PRXY =  0.2700000"
      ]
     },
     "execution_count": 18,
     "metadata": {},
     "output_type": "execute_result"
    }
   ],
   "source": [
    "ex = 30e6  # Young's Modulus\n",
    "prxy = 0.27  # Poisson's ratio\n",
    "\n",
    "mapdl.mp(\"EX\", 1, ex)\n",
    "mapdl.mp(\"PRXY\", 1, prxy)"
   ]
  },
  {
   "cell_type": "code",
   "execution_count": null,
   "metadata": {},
   "outputs": [
    {
     "data": {
      "text/plain": [
       "REAL CONSTANT SET          1  ITEMS   1 TO   6\n",
       "   0.50000       0.0000       0.0000       0.0000       0.0000       0.0000"
      ]
     },
     "execution_count": 19,
     "metadata": {},
     "output_type": "execute_result"
    }
   ],
   "source": [
    "# define a ``PLANE183`` element type with thickness\n",
    "mapdl.et(1, \"PLANE183\", kop3=3)\n",
    "# Set element thickness\n",
    "thick = 0.5\n",
    "mapdl.r(1, thick)  # thickness of 0.5 length units)"
   ]
  },
  {
   "cell_type": "code",
   "execution_count": 20,
   "metadata": {},
   "outputs": [
    {
     "data": {
      "application/vnd.jupyter.widget-view+json": {
       "model_id": "5d9de9a80f1541bc8bf977bfaf6483df",
       "version_major": 2,
       "version_minor": 0
      },
      "text/plain": [
       "Widget(value='<iframe src=\"http://localhost:52215/index.html?ui=P_0x1e745419e40_7&reconnect=auto\" class=\"pyvis…"
      ]
     },
     "metadata": {},
     "output_type": "display_data"
    }
   ],
   "source": [
    "element_size = 0.5\n",
    "mapdl.esize(element_size)\n",
    "mapdl.amesh(bracket)\n",
    "mapdl.eplot(\n",
    "    vtk=True,\n",
    "    cpos=\"xy\",\n",
    "    show_edges=True,\n",
    "    show_axes=False,\n",
    "    line_width=2,\n",
    "    background=\"w\",\n",
    ")"
   ]
  },
  {
   "cell_type": "code",
   "execution_count": 21,
   "metadata": {},
   "outputs": [
    {
     "data": {
      "text/plain": [
       "PERFORM A STATIC ANALYSIS\n",
       "  THIS WILL BE A NEW ANALYSIS"
      ]
     },
     "execution_count": 21,
     "metadata": {},
     "output_type": "execute_result"
    }
   ],
   "source": [
    "mapdl.allsel()\n",
    "mapdl.solution() # call solution class\n",
    "mapdl.antype(\"STATIC\")\n"
   ]
  },
  {
   "cell_type": "code",
   "execution_count": 22,
   "metadata": {},
   "outputs": [
    {
     "data": {
      "application/vnd.jupyter.widget-view+json": {
       "model_id": "2c106d959e244aeea9891f5757c10116",
       "version_major": 2,
       "version_minor": 0
      },
      "text/plain": [
       "Widget(value='<iframe src=\"http://localhost:52215/index.html?ui=P_0x1e75e78bbb0_8&reconnect=auto\" class=\"pyvis…"
      ]
     },
     "metadata": {},
     "output_type": "display_data"
    }
   ],
   "source": [
    "mapdl.lplot(vtk=True, cpos=\"xy\", show_line_numbering=True)"
   ]
  },
  {
   "cell_type": "code",
   "execution_count": 23,
   "metadata": {},
   "outputs": [
    {
     "name": "stdout",
     "output_type": "stream",
     "text": [
      "Number of lines selected : 4\n"
     ]
    }
   ],
   "source": [
    "bc1 = mapdl.lsel(\n",
    "    \"S\", \"LOC\", \"X\", pinhole1_X - pinhole_radius, pinhole1_X + pinhole_radius\n",
    ")\n",
    "print(f\"Number of lines selected : {len(bc1)}\")"
   ]
  },
  {
   "cell_type": "code",
   "execution_count": 25,
   "metadata": {},
   "outputs": [],
   "source": [
    "fixNodes = mapdl.nsll(type_=\"S\")"
   ]
  },
  {
   "cell_type": "code",
   "execution_count": 26,
   "metadata": {},
   "outputs": [
    {
     "data": {
      "text/plain": [
       "SELECT      ONLY NODES INTERIOR TO SELECTED LINE SET.\n",
       "\n",
       "         12  NODES (OF        335  DEFINED) SELECTED FROM \n",
       "        4 SELECTED LINES BY NSLL COMMAND."
      ]
     },
     "execution_count": 26,
     "metadata": {},
     "output_type": "execute_result"
    }
   ],
   "source": [
    "fixNodes"
   ]
  },
  {
   "cell_type": "code",
   "execution_count": 27,
   "metadata": {},
   "outputs": [
    {
     "data": {
      "text/plain": [
       "SELECT ALL ENTITIES OF TYPE= ALL  AND BELOW"
      ]
     },
     "execution_count": 27,
     "metadata": {},
     "output_type": "execute_result"
    }
   ],
   "source": [
    "# Set up boundary conditions\n",
    "mapdl.d(\"ALL\", \"ALL\", 0)  # The 0 is not required since default is zero\n",
    "\n",
    "# Selecting everything again\n",
    "mapdl.allsel()"
   ]
  },
  {
   "cell_type": "code",
   "execution_count": 28,
   "metadata": {},
   "outputs": [],
   "source": [
    "p1 = 50\n",
    "p2 = 500"
   ]
  },
  {
   "cell_type": "code",
   "execution_count": 29,
   "metadata": {},
   "outputs": [
    {
     "data": {
      "text/plain": [
       "array([11, 12])"
      ]
     },
     "execution_count": 29,
     "metadata": {},
     "output_type": "execute_result"
    }
   ],
   "source": [
    "mapdl.lsel(\"S\", \"LOC\", \"Y\", pinhole2_Y - pinhole_radius, pinhole2_Y)\n"
   ]
  },
  {
   "cell_type": "code",
   "execution_count": 30,
   "metadata": {},
   "outputs": [
    {
     "data": {
      "application/vnd.jupyter.widget-view+json": {
       "model_id": "483e7be91d39444ea5ac34c4a9b63425",
       "version_major": 2,
       "version_minor": 0
      },
      "text/plain": [
       "Widget(value='<iframe src=\"http://localhost:52215/index.html?ui=P_0x1e75e78a1a0_9&reconnect=auto\" class=\"pyvis…"
      ]
     },
     "metadata": {},
     "output_type": "display_data"
    }
   ],
   "source": [
    "mapdl.lsel(\"R\", \"LOC\", \"X\", 0, pinhole2_X)\n",
    "\n",
    "mapdl.lplot(vtk=True, cpos=\"xy\")"
   ]
  },
  {
   "cell_type": "code",
   "execution_count": 31,
   "metadata": {},
   "outputs": [
    {
     "data": {
      "application/vnd.jupyter.widget-view+json": {
       "model_id": "5e14a30dc74640b494e3c9422b6bf05e",
       "version_major": 2,
       "version_minor": 0
      },
      "text/plain": [
       "Widget(value='<iframe src=\"http://localhost:52215/index.html?ui=P_0x1e702109990_10&reconnect=auto\" class=\"pyvi…"
      ]
     },
     "metadata": {},
     "output_type": "display_data"
    },
    {
     "data": {
      "text/plain": [
       "SELECT ALL ENTITIES OF TYPE= ALL  AND BELOW"
      ]
     },
     "execution_count": 31,
     "metadata": {},
     "output_type": "execute_result"
    }
   ],
   "source": [
    "# Here you load the left side of the lower half of second pin hole.\n",
    "mapdl.sf(\"ALL\", \"PRES\", p1, p2)\n",
    "mapdl.allsel()\n",
    "mapdl.lsel(\"S\", \"LOC\", \"Y\", pinhole2_Y - pinhole_radius, pinhole2_Y)\n",
    "mapdl.lsel(\"R\", \"LOC\", \"X\", pinhole2_X, pinhole2_X + pinhole_radius)\n",
    "\n",
    "mapdl.lplot(\n",
    "    vtk=True,\n",
    "    cpos=\"xy\",\n",
    "    show_line_numbering=True,\n",
    ")\n",
    "\n",
    "mapdl.sf(\"ALL\", \"PRES\", p2, p1)\n",
    "mapdl.allsel()"
   ]
  },
  {
   "cell_type": "code",
   "execution_count": 32,
   "metadata": {},
   "outputs": [
    {
     "name": "stdout",
     "output_type": "stream",
     "text": [
      "*****  MAPDL SOLVE    COMMAND  *****\n",
      "\n",
      " *** NOTE ***                            CP =       6.656   TIME= 16:58:52\n",
      " There is no title defined for this analysis.                            \n",
      "\n",
      " *** SELECTION OF ELEMENT TECHNOLOGIES FOR APPLICABLE ELEMENTS ***\n",
      "                ---GIVE SUGGESTIONS ONLY---\n",
      "\n",
      " ELEMENT TYPE         1 IS PLANE183 WITH PLANE STRESS OPTION. NO SUGGESTION IS\n",
      " AVAILABLE.\n",
      "\n",
      "\n",
      "\n",
      " *** MAPDL - ENGINEERING ANALYSIS SYSTEM  RELEASE 2024 R2          24.2     ***\n",
      " Ansys Mechanical Enterprise Academic Student      \n",
      " 01055371  VERSION=WINDOWS x64   16:58:52  NOV 18, 2024 CP=      6.656\n",
      "\n",
      "                                                                               \n",
      "\n",
      "\n",
      "\n",
      "                       S O L U T I O N   O P T I O N S\n",
      "\n",
      "   PROBLEM DIMENSIONALITY. . . . . . . . . . . . .2-D                  \n",
      "   DEGREES OF FREEDOM. . . . . . UX   UY  \n",
      "   ANALYSIS TYPE . . . . . . . . . . . . . . . . .STATIC (STEADY-STATE)\n",
      "   GLOBALLY ASSEMBLED MATRIX . . . . . . . . . . .SYMMETRIC  \n",
      "\n",
      " *** NOTE ***                            CP =       6.656   TIME= 16:58:52\n",
      " Present time 0 is less than or equal to the previous time.  Time will   \n",
      " default to 1.                                                           \n",
      "\n",
      " *** NOTE ***                            CP =       6.656   TIME= 16:58:52\n",
      " The imaginary pressure value defined on element 2, face 2 (and possibly \n",
      " others) will be not be used for this analysis type, but may be in a     \n",
      " later analysis.                                                         \n",
      "\n",
      " *** NOTE ***                            CP =       6.656   TIME= 16:58:52\n",
      " The conditions for direct assembly have been met.  No .emat or .erot    \n",
      " files will be produced.                                                 \n",
      "\n",
      "                      L O A D   S T E P   O P T I O N S\n",
      "\n",
      "   LOAD STEP NUMBER. . . . . . . . . . . . . . . .     1\n",
      "   TIME AT END OF THE LOAD STEP. . . . . . . . . .  1.0000    \n",
      "   NUMBER OF SUBSTEPS. . . . . . . . . . . . . . .     1\n",
      "   STEP CHANGE BOUNDARY CONDITIONS . . . . . . . .    NO\n",
      "   PRINT OUTPUT CONTROLS . . . . . . . . . . . . .NO PRINTOUT\n",
      "   DATABASE OUTPUT CONTROLS. . . . . . . . . . . .ALL DATA WRITTEN\n",
      "                                                  FOR THE LAST SUBSTEP\n",
      "\n",
      "\n",
      " SOLUTION MONITORING INFO IS WRITTEN TO FILE= file.mntr                                                                                                                                                                                                                                                           \n",
      "\n",
      "\n",
      " Range of element maximum matrix coefficients in global coordinates\n",
      " Maximum = 96184869.3 at element 15.                                     \n",
      " Minimum = 31609902.3 at element 36.                                     \n",
      "\n",
      "   *** ELEMENT MATRIX FORMULATION TIMES\n",
      "     TYPE    NUMBER   ENAME      TOTAL CP  AVE CP\n",
      "\n",
      "        1        90  PLANE183      0.062   0.000694\n",
      " Time at end of element matrix formulation CP = 6.6875.                  \n",
      "\n",
      " SPARSE MATRIX DIRECT SOLVER.\n",
      "  Number of equations =         646,    Maximum wavefront =     54\n",
      "\n",
      "\n",
      "  Memory allocated on this process\n",
      "  -------------------------------------------------------------------\n",
      "  Equation solver memory allocated                     =     0.716 MB\n",
      "  Equation solver memory required for in-core mode     =     0.692 MB\n",
      "  Equation solver memory required for out-of-core mode =     0.518 MB\n",
      "  Total (solver and non-solver) memory allocated       =   364.302 MB\n",
      "\n",
      " *** NOTE ***                            CP =       6.688   TIME= 16:58:52\n",
      " The Sparse Matrix Solver is currently running in the in-core memory     \n",
      " mode.  This memory mode uses the most amount of memory in order to      \n",
      " avoid using the hard drive as much as possible, which most often        \n",
      " results in the fastest solution time.  This mode is recommended if      \n",
      " enough physical memory is present to accommodate all of the solver      \n",
      " data.                                                                   \n",
      " Sparse solver maximum pivot= 81097755.9 at node 145 UX.                 \n",
      " Sparse solver minimum pivot= 236722.519 at node 313 UY.                 \n",
      " Sparse solver minimum pivot in absolute value= 236722.519 at node 313   \n",
      " UY.                                                                     \n",
      "\n",
      "   *** ELEMENT RESULT CALCULATION TIMES\n",
      "     TYPE    NUMBER   ENAME      TOTAL CP  AVE CP\n",
      "\n",
      "        1        90  PLANE183      0.000   0.000000\n",
      "\n",
      "   *** NODAL LOAD CALCULATION TIMES\n",
      "     TYPE    NUMBER   ENAME      TOTAL CP  AVE CP\n",
      "\n",
      "        1        90  PLANE183      0.000   0.000000\n",
      " *** LOAD STEP     1   SUBSTEP     1  COMPLETED.    CUM ITER =      1\n",
      " *** TIME =   1.00000         TIME INC =   1.00000      NEW TRIANG MATRIX\n",
      "\n",
      "\n",
      " *** MAPDL BINARY FILE STATISTICS\n",
      "  BUFFER SIZE USED= 16384\n",
      "        0.188 MB WRITTEN ON ASSEMBLED MATRIX FILE: file.full\n",
      "        0.375 MB WRITTEN ON RESULTS FILE: file.rst\n"
     ]
    }
   ],
   "source": [
    "# Solve the model\n",
    "output = mapdl.solve()\n",
    "print(output)"
   ]
  },
  {
   "cell_type": "code",
   "execution_count": 33,
   "metadata": {},
   "outputs": [
    {
     "data": {
      "text/plain": [
       "FINISH SOLUTION PROCESSING\n",
       "\n",
       "\n",
       " ***** ROUTINE COMPLETED *****  CP =         6.719\n",
       "\n",
       "\n",
       "\n",
       " *** MAPDL - ENGINEERING ANALYSIS SYSTEM  RELEASE 2024 R2          24.2     ***\n",
       " Ansys Mechanical Enterprise Academic Student      \n",
       " 01055371  VERSION=WINDOWS x64   16:59:42  NOV 18, 2024 CP=      6.719\n",
       "\n",
       "                                                                               \n",
       "\n",
       "\n",
       "\n",
       "          ***** MAPDL RESULTS INTERPRETATION (POST1) *****\n",
       "\n",
       " *** NOTE ***                            CP =       6.719   TIME= 16:59:42\n",
       " Reading results into the database (SET command) will update the current \n",
       " displacement and force boundary conditions in the database with the     \n",
       " values from the results file for that load set.  Note that any          \n",
       " subsequent solutions will use these values unless action is taken to    \n",
       " either SAVE the current values or not overwrite them (/EXIT,NOSAVE)."
      ]
     },
     "execution_count": 33,
     "metadata": {},
     "output_type": "execute_result"
    }
   ],
   "source": [
    "mapdl.post1()"
   ]
  },
  {
   "cell_type": "code",
   "execution_count": 34,
   "metadata": {},
   "outputs": [
    {
     "data": {
      "application/vnd.jupyter.widget-view+json": {
       "model_id": "379e120c27ce40c28422d0593057405d",
       "version_major": 2,
       "version_minor": 0
      },
      "text/plain": [
       "Widget(value='<iframe src=\"http://localhost:52215/index.html?ui=P_0x1e75e78baf0_11&reconnect=auto\" class=\"pyvi…"
      ]
     },
     "metadata": {},
     "output_type": "display_data"
    }
   ],
   "source": [
    "# Plot displacement\n",
    "result = mapdl.result\n",
    "result_set = 0  # Plotting the first results\n",
    "disp_fact = 1e10\n",
    "result.plot_nodal_displacement(\n",
    "    result_set,\n",
    "    cpos=\"xy\",\n",
    "    displacement_factor=5,\n",
    "    show_displacement=True,\n",
    "    show_edges=True,\n",
    ")"
   ]
  },
  {
   "cell_type": "code",
   "execution_count": 35,
   "metadata": {},
   "outputs": [
    {
     "data": {
      "application/vnd.jupyter.widget-view+json": {
       "model_id": "08b60b684ccf4da6b42815e2b569725b",
       "version_major": 2,
       "version_minor": 0
      },
      "text/plain": [
       "Widget(value='<iframe src=\"http://localhost:52215/index.html?ui=P_0x1e7021dc340_12&reconnect=auto\" class=\"pyvi…"
      ]
     },
     "metadata": {},
     "output_type": "display_data"
    }
   ],
   "source": [
    "result.plot_principal_nodal_stress(\n",
    "    0,\n",
    "    \"SEQV\",\n",
    "    cpos=\"xy\",\n",
    "    background=\"w\",\n",
    "    text_color=\"k\",\n",
    "    add_text=True,\n",
    "    show_edges=True,\n",
    ")"
   ]
  },
  {
   "cell_type": "code",
   "execution_count": 36,
   "metadata": {},
   "outputs": [],
   "source": [
    "nnum, stress = result.principal_nodal_stress(0)"
   ]
  },
  {
   "cell_type": "code",
   "execution_count": 47,
   "metadata": {},
   "outputs": [],
   "source": [
    "reactForces = mapdl.prrsol(lab=\"FY\").to_dataframe(columns=[\"NODE\", \"FY\"])"
   ]
  },
  {
   "cell_type": "code",
   "execution_count": 48,
   "metadata": {},
   "outputs": [
    {
     "data": {
      "text/html": [
       "<div>\n",
       "<style scoped>\n",
       "    .dataframe tbody tr th:only-of-type {\n",
       "        vertical-align: middle;\n",
       "    }\n",
       "\n",
       "    .dataframe tbody tr th {\n",
       "        vertical-align: top;\n",
       "    }\n",
       "\n",
       "    .dataframe thead th {\n",
       "        text-align: right;\n",
       "    }\n",
       "</style>\n",
       "<table border=\"1\" class=\"dataframe\">\n",
       "  <thead>\n",
       "    <tr style=\"text-align: right;\">\n",
       "      <th></th>\n",
       "      <th>NODE</th>\n",
       "      <th>FY</th>\n",
       "    </tr>\n",
       "  </thead>\n",
       "  <tbody>\n",
       "    <tr>\n",
       "      <th>0</th>\n",
       "      <td>103.0</td>\n",
       "      <td>21.7590</td>\n",
       "    </tr>\n",
       "    <tr>\n",
       "      <th>1</th>\n",
       "      <td>104.0</td>\n",
       "      <td>9.8719</td>\n",
       "    </tr>\n",
       "    <tr>\n",
       "      <th>2</th>\n",
       "      <td>105.0</td>\n",
       "      <td>12.5870</td>\n",
       "    </tr>\n",
       "    <tr>\n",
       "      <th>3</th>\n",
       "      <td>107.0</td>\n",
       "      <td>1.5168</td>\n",
       "    </tr>\n",
       "    <tr>\n",
       "      <th>4</th>\n",
       "      <td>108.0</td>\n",
       "      <td>12.2310</td>\n",
       "    </tr>\n",
       "    <tr>\n",
       "      <th>5</th>\n",
       "      <td>109.0</td>\n",
       "      <td>29.4880</td>\n",
       "    </tr>\n",
       "    <tr>\n",
       "      <th>6</th>\n",
       "      <td>111.0</td>\n",
       "      <td>-29.8790</td>\n",
       "    </tr>\n",
       "    <tr>\n",
       "      <th>7</th>\n",
       "      <td>112.0</td>\n",
       "      <td>-10.5920</td>\n",
       "    </tr>\n",
       "    <tr>\n",
       "      <th>8</th>\n",
       "      <td>113.0</td>\n",
       "      <td>-2.5094</td>\n",
       "    </tr>\n",
       "    <tr>\n",
       "      <th>9</th>\n",
       "      <td>114.0</td>\n",
       "      <td>-12.4730</td>\n",
       "    </tr>\n",
       "    <tr>\n",
       "      <th>10</th>\n",
       "      <td>115.0</td>\n",
       "      <td>-9.8004</td>\n",
       "    </tr>\n",
       "    <tr>\n",
       "      <th>11</th>\n",
       "      <td>116.0</td>\n",
       "      <td>-22.2000</td>\n",
       "    </tr>\n",
       "  </tbody>\n",
       "</table>\n",
       "</div>"
      ],
      "text/plain": [
       "     NODE       FY\n",
       "0   103.0  21.7590\n",
       "1   104.0   9.8719\n",
       "2   105.0  12.5870\n",
       "3   107.0   1.5168\n",
       "4   108.0  12.2310\n",
       "5   109.0  29.4880\n",
       "6   111.0 -29.8790\n",
       "7   112.0 -10.5920\n",
       "8   113.0  -2.5094\n",
       "9   114.0 -12.4730\n",
       "10  115.0  -9.8004\n",
       "11  116.0 -22.2000"
      ]
     },
     "execution_count": 48,
     "metadata": {},
     "output_type": "execute_result"
    }
   ],
   "source": [
    "reactForces"
   ]
  },
  {
   "cell_type": "code",
   "execution_count": 1,
   "metadata": {},
   "outputs": [
    {
     "ename": "NameError",
     "evalue": "name 'mapdl' is not defined",
     "output_type": "error",
     "traceback": [
      "\u001b[1;31m---------------------------------------------------------------------------\u001b[0m",
      "\u001b[1;31mNameError\u001b[0m                                 Traceback (most recent call last)",
      "Cell \u001b[1;32mIn[1], line 1\u001b[0m\n\u001b[1;32m----> 1\u001b[0m \u001b[43mmapdl\u001b[49m\u001b[38;5;241m.\u001b[39mexit()\n",
      "\u001b[1;31mNameError\u001b[0m: name 'mapdl' is not defined"
     ]
    }
   ],
   "source": [
    "mapdl.exit()\n"
   ]
  },
  {
   "cell_type": "code",
   "execution_count": null,
   "metadata": {},
   "outputs": [],
   "source": []
  }
 ],
 "metadata": {
  "kernelspec": {
   "display_name": "FastMRI",
   "language": "python",
   "name": "python3"
  },
  "language_info": {
   "codemirror_mode": {
    "name": "ipython",
    "version": 3
   },
   "file_extension": ".py",
   "mimetype": "text/x-python",
   "name": "python",
   "nbconvert_exporter": "python",
   "pygments_lexer": "ipython3",
   "version": "3.11.9"
  }
 },
 "nbformat": 4,
 "nbformat_minor": 2
}
