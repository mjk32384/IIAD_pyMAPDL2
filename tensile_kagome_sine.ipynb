{
 "cells": [
  {
   "cell_type": "code",
   "execution_count": null,
   "metadata": {},
   "outputs": [],
   "source": [
    "import matplotlib.pyplot as plt\n",
    "import matplotlib as mpl\n",
    "import numpy as np\n",
    "import pandas as pd\n",
    "from ansys.mapdl.core import launch_mapdl\n",
    "from ansys.mapdl import reader as pymapdl_reader"
   ]
  },
  {
   "cell_type": "code",
   "execution_count": 8,
   "metadata": {},
   "outputs": [],
   "source": [
    "import pyvista\n",
    "# 기본적으로 plot이 안돼서 html로 plot하도록 만듦\n",
    "pyvista.set_jupyter_backend('html')\n",
    "pyvista.start_xvfb()"
   ]
  },
  {
   "cell_type": "code",
   "execution_count": 2,
   "metadata": {},
   "outputs": [],
   "source": [
    "# Start an MAPDL instance\n",
    "try:\n",
    "    mapdl = launch_mapdl(start_instance=False, port=50052)\n",
    "except:\n",
    "    mapdl = launch_mapdl(start_instance=True, port=50052)"
   ]
  },
  {
   "cell_type": "code",
   "execution_count": 3,
   "metadata": {},
   "outputs": [
    {
     "data": {
      "text/plain": [
       "*** MAPDL - ENGINEERING ANALYSIS SYSTEM  RELEASE 2024 R2          24.2     ***\n",
       " Ansys Mechanical Enterprise Academic Research     \n",
       " 01078600  VERSION=LINUX x64     15:23:39  NOV 25, 2024 CP=      1.180\n",
       "\n",
       "                                                                               \n",
       "\n",
       "\n",
       "\n",
       "          ***** MAPDL ANALYSIS DEFINITION (PREP7) *****"
      ]
     },
     "execution_count": 3,
     "metadata": {},
     "output_type": "execute_result"
    }
   ],
   "source": [
    "mapdl.finish()\n",
    "mapdl.clear()\n",
    "mapdl.prep7()"
   ]
  },
  {
   "cell_type": "code",
   "execution_count": null,
   "metadata": {},
   "outputs": [],
   "source": []
  },
  {
   "cell_type": "markdown",
   "metadata": {},
   "source": [
    "## Sine Kagome Lattice Creation"
   ]
  },
  {
   "cell_type": "code",
   "execution_count": 4,
   "metadata": {},
   "outputs": [],
   "source": [
    "design_width = 60/1000\n",
    "design_height = 25/1000\n",
    "total_width = 144/1000\n",
    "total_z = 5/1000\n",
    "# density = 0.5\n",
    "\n",
    "n_cell = 5\n",
    "relative_density = 0.5\n",
    "\n",
    "t_over_l = np.sqrt(3)/2 - np.sqrt(3 - 4*relative_density)/2\n",
    "cell_size = design_height/(np.sqrt(3)*n_cell + t_over_l)\n",
    "wall_thickness = cell_size*t_over_l\n",
    "\n",
    "external_wall = True\n",
    "external_wall_thickness = wall_thickness"
   ]
  },
  {
   "cell_type": "code",
   "execution_count": 5,
   "metadata": {},
   "outputs": [],
   "source": [
    "side_length = cell_size - 1/np.sqrt(3)*wall_thickness\n",
    "design_part = mapdl.rectng(-1/1000, design_width, 0, design_height)"
   ]
  },
  {
   "cell_type": "code",
   "execution_count": 6,
   "metadata": {},
   "outputs": [],
   "source": [
    "for i in range(n_cell):\n",
    "    j = 0\n",
    "    while True:\n",
    "        center = [cell_size/2 - np.sqrt(3)/2*wall_thickness + 2*j*cell_size - (i%2)*cell_size,\n",
    "                  (cell_size + 1/np.sqrt(3)*wall_thickness)*np.sqrt(3)/2 + i*np.sqrt(3)*cell_size]\n",
    "        # 조건문 넣을 필요 없이, design part 늘리면 해결되긴 함\n",
    "        if center[0] - side_length < design_width:\n",
    "            k_list = []\n",
    "            for k in range(6):\n",
    "                k_list.append(mapdl.k(x = center[0] + side_length*np.cos(np.pi/3*k), y = center[1] + side_length*np.sin(np.pi/3*k)))\n",
    "            hole = mapdl.a(*k_list)\n",
    "            try:\n",
    "                design_part = mapdl.asba(na1 = design_part, na2 = hole)\n",
    "            except:\n",
    "                print(f\"error2 at i={i}, j={j}\")\n",
    "        # 조건문 넣을 필요 없이, design part 늘리면 해결되긴 함\n",
    "        if cell_size + 2*j*cell_size - (i%2)*cell_size < design_width:\n",
    "            k1 = mapdl.k(x = cell_size + 2*j*cell_size - (i%2)*cell_size, y = wall_thickness + i*np.sqrt(3)*cell_size)\n",
    "            k2 = mapdl.k(x = 2*cell_size - np.sqrt(3)*wall_thickness + 2*j*cell_size - (i%2)*cell_size, y = wall_thickness + i*np.sqrt(3)*cell_size)\n",
    "            k3 = mapdl.k(x = (3/2)*cell_size - 1/2*np.sqrt(3)*wall_thickness + 2*j*cell_size - (i%2)*cell_size, y = np.sqrt(3)/2*cell_size - 1/2*wall_thickness + i*np.sqrt(3)*cell_size)\n",
    "            hole = mapdl.a(k1, k2, k3)\n",
    "            try:\n",
    "                design_part = mapdl.asba(na1 = design_part, na2 = hole)\n",
    "            except Exception as e:\n",
    "                print(f\"error2 at i={i}, j={j}\")\n",
    "                print(e)\n",
    "\n",
    "            k1 = mapdl.k(x = cell_size + 2*j*cell_size - (i%2)*cell_size, y = np.sqrt(3)*cell_size + i*np.sqrt(3)*cell_size)\n",
    "            k2 = mapdl.k(x = 2*cell_size - np.sqrt(3)*wall_thickness + 2*j*cell_size - (i%2)*cell_size, y = np.sqrt(3)*cell_size + i*np.sqrt(3)*cell_size)\n",
    "            k3 = mapdl.k(x = (3/2)*cell_size - 1/2*np.sqrt(3)*wall_thickness + 2*j*cell_size - (i%2)*cell_size, y = np.sqrt(3)/2*cell_size + 3/2*wall_thickness + i*np.sqrt(3)*cell_size)\n",
    "            hole = mapdl.a(k1, k2, k3)\n",
    "            try:\n",
    "                design_part = mapdl.asba(na1 = design_part, na2 = hole)\n",
    "            except Exception as e:\n",
    "                print(f\"error3 at i={i}, j={j}\")\n",
    "                print(e)\n",
    "\n",
    "        if cell_size/2 - 1/np.sqrt(3)*wall_thickness + 2*j*cell_size > design_width:\n",
    "            break\n",
    "\n",
    "        j += 1"
   ]
  },
  {
   "cell_type": "code",
   "execution_count": null,
   "metadata": {},
   "outputs": [],
   "source": [
    "# sine kagome: 점 여러개 찍어서 sine 곡선 생성 + 그 곡선을 따라서 원 움직이기 + 이후에 design width 바깥쪽에 있는 직사각형 더하기\n",
    "mapdl.adrag\n"
   ]
  },
  {
   "cell_type": "code",
   "execution_count": 7,
   "metadata": {},
   "outputs": [
    {
     "data": {
      "text/plain": [
       "4"
      ]
     },
     "execution_count": 7,
     "metadata": {},
     "output_type": "execute_result"
    }
   ],
   "source": [
    "mapdl.rectng(x1=-total_width/2+design_width/2, x2=0, y1=0, y2=design_height)\n",
    "mapdl.rectng(design_width, total_width/2+design_width/2, 0, design_height)\n",
    "mapdl.aadd(\"all\")"
   ]
  },
  {
   "cell_type": "code",
   "execution_count": 10,
   "metadata": {},
   "outputs": [
    {
     "data": {
      "text/plain": [
       "EXTRUDE ALL AREAS \n",
       "      IN DIRECTION   0.000000    ,  0.000000    , 0.5000000E-02\n",
       "      SCALED         0.000000    ,  0.000000    ,  0.000000"
      ]
     },
     "execution_count": 10,
     "metadata": {},
     "output_type": "execute_result"
    }
   ],
   "source": [
    "mapdl.vext(\"ALL\", dz = total_z)"
   ]
  },
  {
   "cell_type": "markdown",
   "metadata": {},
   "source": [
    "## Preprocessing"
   ]
  },
  {
   "cell_type": "code",
   "execution_count": 16,
   "metadata": {},
   "outputs": [],
   "source": [
    "stress_strain = pd.read_excel('PLA stress-strain.xlsx')\n",
    "stress_strain = stress_strain.iloc[:8]  # due to limitations of MISO model\n",
    "stress_strain['y'] = stress_strain['y (MPa)']*1e6\n",
    "stress_strain['x'] = stress_strain['x']/100\n",
    "UTS = stress_strain['y'].max()\n",
    "Youngs_Modulus = stress_strain['y'][1]/stress_strain['x'][1]\n",
    "max_plastic_strain = stress_strain['x'].iloc[-1]\n",
    "\n",
    "mapdl.mp('EX', 1, Youngs_Modulus)   # Young's Modulus in Pascals\n",
    "mapdl.mp('PRXY', 1, 0.33)   # Poisson's Ratio\n",
    "\n",
    "# Non linear 부분 정의\n",
    "stress_strain['x'] = stress_strain['x'] - stress_strain['y']/Youngs_Modulus\n",
    "mapdl.tb('PLASTIC', 1, '', 'MISO')\n",
    "for i in range(len(stress_strain)):\n",
    "    mapdl.tbpt(i, stress_strain['x'][i], stress_strain['y'][i])"
   ]
  },
  {
   "cell_type": "code",
   "execution_count": 17,
   "metadata": {},
   "outputs": [
    {
     "data": {
      "text/plain": [
       "SELECT ALL ENTITIES OF TYPE= ALL  AND BELOW"
      ]
     },
     "execution_count": 17,
     "metadata": {},
     "output_type": "execute_result"
    }
   ],
   "source": [
    "mapdl.allsel()"
   ]
  },
  {
   "cell_type": "markdown",
   "metadata": {},
   "source": [
    "## Simulation"
   ]
  },
  {
   "cell_type": "code",
   "execution_count": null,
   "metadata": {},
   "outputs": [],
   "source": [
    "mapdl.parameters.keys()"
   ]
  },
  {
   "cell_type": "markdown",
   "metadata": {},
   "source": [
    "## Saving 3D Object"
   ]
  },
  {
   "cell_type": "code",
   "execution_count": 1,
   "metadata": {},
   "outputs": [],
   "source": [
    "import os\n",
    "\n",
    "current_dir = os.getcwd()"
   ]
  },
  {
   "cell_type": "code",
   "execution_count": 19,
   "metadata": {},
   "outputs": [
    {
     "data": {
      "text/plain": [
       "*** MAPDL GLOBAL STATUS *** \n",
       "\n",
       " TITLE =                                                                       \n",
       "       504 KEYPOINTS DEFINED     MAX KEYPOINT NUMBER =            504\n",
       "       756 LINES DEFINED         MAX LINE NUMBER =                756\n",
       "       254 AREAS DEFINED         MAX AREA NUMBER =                254\n",
       "         1 VOLUMES DEFINED       MAX VOLUME NUMBER =                1\n",
       "         0 ELEM TYPES DEFINED    MAX ELEM TYPE NUMBER =             0\n",
       "         0 ELEMENTS DEFINED      MAX ELEMENT NUMBER =               0\n",
       "         0 NODES DEFINED         MAX NODE NUMBER =                  0\n",
       "\n",
       " WRITE ANSYS DATABASE AS AN ANSYS INPUT FILE: /home/mjk32/IIAD_pyMAPDL/result/Kagome_3.txt                                                                                                                                                                                                                        \n",
       "\n",
       " WRITE IGES FILE= /home/mjk32/IIAD_pyMAPDL/result/Kagome_3.iges\n",
       "\n",
       " ATTRIBUTES WILL BE WRITTEN TO /home/mjk32/IIAD_pyMAPDL/result/Kagome_3.iges.\n",
       "\n",
       " 18542 RECORDS WRITTEN TO FILE= /home/mjk32/IIAD_pyMAPDL/result/Kagome_3.iges"
      ]
     },
     "execution_count": 19,
     "metadata": {},
     "output_type": "execute_result"
    }
   ],
   "source": [
    "mapdl.cdwrite(fname=f\"{current_dir}/result/Kagome_3\", ext = \"txt\")"
   ]
  },
  {
   "cell_type": "code",
   "execution_count": 20,
   "metadata": {},
   "outputs": [],
   "source": [
    "mapdl.exit()"
   ]
  },
  {
   "cell_type": "code",
   "execution_count": 4,
   "metadata": {},
   "outputs": [
    {
     "ename": "FileNotFoundError",
     "evalue": "/home/mjk32/IIAD_pyMAPDL/result/temp_triangular.rst is not a file or cannot be found",
     "output_type": "error",
     "traceback": [
      "\u001b[0;31m---------------------------------------------------------------------------\u001b[0m",
      "\u001b[0;31mFileNotFoundError\u001b[0m                         Traceback (most recent call last)",
      "Cell \u001b[0;32mIn[4], line 1\u001b[0m\n\u001b[0;32m----> 1\u001b[0m result \u001b[38;5;241m=\u001b[39m pymapdl_reader\u001b[38;5;241m.\u001b[39mread_binary(\u001b[38;5;124mf\u001b[39m\u001b[38;5;124m\"\u001b[39m\u001b[38;5;132;01m{\u001b[39;00mcurrent_dir\u001b[38;5;132;01m}\u001b[39;00m\u001b[38;5;124m/result/temp_triangular.rst\u001b[39m\u001b[38;5;124m\"\u001b[39m)\n",
      "File \u001b[0;32m~/anaconda3/envs/ansys_env/lib/python3.11/site-packages/ansys/mapdl/reader/common.py:157\u001b[0m, in \u001b[0;36mread_binary\u001b[0;34m(filename, **kwargs)\u001b[0m\n\u001b[1;32m    155\u001b[0m filename \u001b[38;5;241m=\u001b[39m pathlib\u001b[38;5;241m.\u001b[39mPath(filename)\n\u001b[1;32m    156\u001b[0m \u001b[38;5;28;01mif\u001b[39;00m \u001b[38;5;129;01mnot\u001b[39;00m filename\u001b[38;5;241m.\u001b[39mis_file():\n\u001b[0;32m--> 157\u001b[0m     \u001b[38;5;28;01mraise\u001b[39;00m \u001b[38;5;167;01mFileNotFoundError\u001b[39;00m(\u001b[38;5;124mf\u001b[39m\u001b[38;5;124m\"\u001b[39m\u001b[38;5;132;01m{\u001b[39;00mfilename\u001b[38;5;132;01m}\u001b[39;00m\u001b[38;5;124m is not a file or cannot be found\u001b[39m\u001b[38;5;124m\"\u001b[39m)\n\u001b[1;32m    159\u001b[0m file_format \u001b[38;5;241m=\u001b[39m read_standard_header(filename)[\u001b[38;5;124m\"\u001b[39m\u001b[38;5;124mfile format\u001b[39m\u001b[38;5;124m\"\u001b[39m]\n\u001b[1;32m    161\u001b[0m \u001b[38;5;28;01mif\u001b[39;00m file_format \u001b[38;5;241m==\u001b[39m \u001b[38;5;241m2\u001b[39m:\n",
      "\u001b[0;31mFileNotFoundError\u001b[0m: /home/mjk32/IIAD_pyMAPDL/result/temp_triangular.rst is not a file or cannot be found"
     ]
    }
   ],
   "source": [
    "result = pymapdl_reader.read_binary(f\"{current_dir}/result/temp_triangular.rst\")"
   ]
  },
  {
   "cell_type": "code",
   "execution_count": null,
   "metadata": {},
   "outputs": [],
   "source": []
  }
 ],
 "metadata": {
  "kernelspec": {
   "display_name": "ansys_env",
   "language": "python",
   "name": "python3"
  },
  "language_info": {
   "codemirror_mode": {
    "name": "ipython",
    "version": 3
   },
   "file_extension": ".py",
   "mimetype": "text/x-python",
   "name": "python",
   "nbconvert_exporter": "python",
   "pygments_lexer": "ipython3",
   "version": "3.11.10"
  }
 },
 "nbformat": 4,
 "nbformat_minor": 2
}
