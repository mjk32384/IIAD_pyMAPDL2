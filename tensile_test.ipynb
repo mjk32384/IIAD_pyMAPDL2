{
 "cells": [
  {
   "cell_type": "code",
   "execution_count": 1,
   "metadata": {},
   "outputs": [],
   "source": [
    "import matplotlib.pyplot as plt\n",
    "import matplotlib as mpl\n",
    "import numpy as np\n",
    "import pandas as pd\n",
    "from ansys.mapdl.core import launch_mapdl\n",
    "from ansys.mapdl import reader as pymapdl_reader"
   ]
  },
  {
   "cell_type": "code",
   "execution_count": 2,
   "metadata": {},
   "outputs": [],
   "source": [
    "# Start an MAPDL instance\n",
    "mapdl = launch_mapdl()"
   ]
  },
  {
   "cell_type": "code",
   "execution_count": 3,
   "metadata": {},
   "outputs": [
    {
     "data": {
      "text/plain": [
       "*** MAPDL - ENGINEERING ANALYSIS SYSTEM  RELEASE 2024 R2          24.2     ***\n",
       " Ansys Mechanical Enterprise Academic Student      \n",
       " 01055371  VERSION=WINDOWS x64   16:31:23  NOV 19, 2024 CP=      0.188\n",
       "\n",
       "                                                                               \n",
       "\n",
       "\n",
       "\n",
       "          ***** MAPDL ANALYSIS DEFINITION (PREP7) *****"
      ]
     },
     "execution_count": 3,
     "metadata": {},
     "output_type": "execute_result"
    }
   ],
   "source": [
    "mapdl.finish()\n",
    "mapdl.clear()\n",
    "mapdl.prep7()"
   ]
  },
  {
   "cell_type": "markdown",
   "metadata": {},
   "source": [
    "## Preprocessing"
   ]
  },
  {
   "cell_type": "code",
   "execution_count": 4,
   "metadata": {},
   "outputs": [
    {
     "data": {
      "text/plain": [
       "Text(0.5, 1.0, 'Stress-Strain Curve of PLA')"
      ]
     },
     "execution_count": 4,
     "metadata": {},
     "output_type": "execute_result"
    },
    {
     "data": {
      "image/png": "[encoded data removed]",
      "text/plain": [
       "<Figure size 640x480 with 1 Axes>"
      ]
     },
     "metadata": {},
     "output_type": "display_data"
    }
   ],
   "source": [
    "# Define Material\n",
    "stress_strain = pd.read_excel('PLA stress-strain.xlsx')\n",
    "plt.plot(stress_strain['x'], stress_strain['y (MPa)'])\n",
    "plt.xlabel('$\\epsilon$ (%)')\n",
    "plt.ylabel('$\\sigma_T$ (MPa)')\n",
    "plt.title(\"Stress-Strain Curve of PLA\")"
   ]
  },
  {
   "cell_type": "code",
   "execution_count": 5,
   "metadata": {},
   "outputs": [],
   "source": [
    "stress_strain = stress_strain.iloc[:8]  # due to limitations of MISO model\n",
    "stress_strain['y'] = stress_strain['y (MPa)']*1e6\n",
    "stress_strain['x'] = stress_strain['x']/100\n",
    "UTS = stress_strain['y'].max()\n",
    "Youngs_Modulus = stress_strain['y'][1]/stress_strain['x'][1]\n",
    "max_plastic_strain = stress_strain['x'].iloc[-1]\n",
    "\n",
    "mapdl.mp('EX', 1, Youngs_Modulus)   # Young's Modulus in Pascals\n",
    "mapdl.mp('PRXY', 1, 0.33)   # Poisson's Ratio\n",
    "\n",
    "# Non linear 부분 정의\n",
    "stress_strain['x'] = stress_strain['x'] - stress_strain['y']/Youngs_Modulus\n",
    "mapdl.tb('PLASTIC', 1, '', 'MISO')\n",
    "for i in range(len(stress_strain)):\n",
    "    mapdl.tbpt(i, stress_strain['x'][i], stress_strain['y'][i])\n",
    "    "
   ]
  },
  {
   "cell_type": "code",
   "execution_count": 6,
   "metadata": {},
   "outputs": [
    {
     "data": {
      "text/plain": [
       "LIST DATA TABLE  ALL   FOR MATERIAL      1\n",
       "\n",
       " *** MAPDL - ENGINEERING ANALYSIS SYSTEM  RELEASE 2024 R2          24.2     ***\n",
       " Ansys Mechanical Enterprise Academic Student      \n",
       " 01055371  VERSION=WINDOWS x64   16:31:25  NOV 19, 2024 CP=      0.188\n",
       "\n",
       "                                                                               \n",
       "\n",
       "\n",
       "\n",
       "               PLASTIC  (PLAS) Table For Material     1\n",
       "               ISOTROPIC HARDENING PLASTICITY                                                  \n",
       "\n",
       "                     1 \n",
       " Temps     0.0000000e+00 \n",
       "      PlStrain       Stress  \n",
       " 0.0000000e+00 3.2562199e+07 \n",
       " 6.0047983e-04 4.1927234e+07 \n",
       " 9.4595014e-04 4.6167819e+07 \n",
       " 1.9196673e-03 5.3057713e+07 \n",
       " 4.1738999e-03 5.8177004e+07 \n",
       " 6.8089990e-03 6.1528014e+07 \n",
       " 1.0411409e-02 6.1872145e+07"
      ]
     },
     "execution_count": 6,
     "metadata": {},
     "output_type": "execute_result"
    }
   ],
   "source": [
    "mapdl.tblist(lab = 'ALL', mat=1)"
   ]
  },
  {
   "cell_type": "code",
   "execution_count": 7,
   "metadata": {},
   "outputs": [
    {
     "data": {
      "text/plain": [
       "1"
      ]
     },
     "execution_count": 7,
     "metadata": {},
     "output_type": "execute_result"
    }
   ],
   "source": [
    "# Specimen dimensions\n",
    "length = 0.1       # Total length in meters\n",
    "width = 0.02       # Width in meters\n",
    "thickness = 0.005  # Thickness in meters\n",
    "\n",
    "# Create a notched specimen for stress concentration\n",
    "notch_depth = 0.005\n",
    "notch_width = 0.005\n",
    "\n",
    "# Main body\n",
    "mapdl.block(0, length, -width/2, width/2, -thickness/2, thickness/2)"
   ]
  },
  {
   "cell_type": "code",
   "execution_count": 8,
   "metadata": {},
   "outputs": [
    {
     "data": {
      "application/vnd.jupyter.widget-view+json": {
       "model_id": "05d1fe9e346244b2a90f33565e6e2e94",
       "version_major": 2,
       "version_minor": 0
      },
      "text/plain": [
       "Widget(value='<iframe src=\"http://localhost:11911/index.html?ui=P_0x1be0cf32bd0_0&reconnect=auto\" class=\"pyvis…"
      ]
     },
     "metadata": {},
     "output_type": "display_data"
    }
   ],
   "source": [
    "# Element type with plasticity capability (SOLID185 is suitable)\n",
    "mapdl.et(1, 'SOLID185')\n",
    "\n",
    "# Define mesh size\n",
    "mapdl.esize(0.005)  # Smaller element size for better accuracy\n",
    "\n",
    "# Mesh the volume\n",
    "mapdl.vmesh('ALL')\n",
    "mapdl.eplot()"
   ]
  },
  {
   "cell_type": "markdown",
   "metadata": {},
   "source": [
    "## Simulation"
   ]
  },
  {
   "cell_type": "code",
   "execution_count": 9,
   "metadata": {},
   "outputs": [
    {
     "data": {
      "text/plain": [
       "***** ROUTINE COMPLETED *****  CP =         0.234\n",
       "\n",
       "\n",
       "\n",
       " *****  MAPDL SOLUTION ROUTINE  *****"
      ]
     },
     "execution_count": 9,
     "metadata": {},
     "output_type": "execute_result"
    }
   ],
   "source": [
    "mapdl.solution()"
   ]
  },
  {
   "cell_type": "code",
   "execution_count": 10,
   "metadata": {},
   "outputs": [],
   "source": [
    "mapdl.antype('STATIC')\n",
    "mapdl.nlgeom('ON')  # Enable large deformation effects\n",
    "\n",
    "total_displacement = 0.01  # 10 mm total displacement\n",
    "number_of_steps = 10\n",
    "displacement_increment = total_displacement / number_of_steps"
   ]
  },
  {
   "cell_type": "code",
   "execution_count": 11,
   "metadata": {},
   "outputs": [
    {
     "data": {
      "text/plain": [
       "USE      20 SUBSTEPS INITIALLY THIS LOAD STEP FOR ALL  DEGREES OF FREEDOM\n",
       " FOR AUTOMATIC TIME STEPPING:\n",
       "   USE    100 SUBSTEPS AS A MAXIMUM\n",
       "   USE      1 SUBSTEPS AS A MINIMUM"
      ]
     },
     "execution_count": 11,
     "metadata": {},
     "output_type": "execute_result"
    }
   ],
   "source": [
    "# mapdl.nropt('UNSYM')  # Use unsymmetric matrix if convergence issues occur\n",
    "mapdl.autots('ON')    # Enable automatic time stepping\n",
    "# mapdl.nliter(50, 0, 0, 0, 0)  # Set maximum number of equilibrium iterations\n",
    "# mapdl.cnvtol('F', 0.1)  # Force convergence tolerance\n",
    "mapdl.nsubst(20, 100, 1)\n",
    "# mapdl.deltim(dtime = \"AUTOTS\", dtmin = 0, dtmax = 1)"
   ]
  },
  {
   "cell_type": "code",
   "execution_count": null,
   "metadata": {},
   "outputs": [],
   "source": [
    "# Initialize arrays to store results\n",
    "reaction_forces = []\n",
    "applied_displacements = []\n",
    "\n",
    "for step in range(1, number_of_steps + 1):\n",
    "    current_disp = displacement_increment * step\n",
    "    mapdl.ddele('ALL', 'UX')  # Remove previous displacement BC\n",
    "    mapdl.nsel('S', 'LOC', 'X', length)\n",
    "    mapdl.d('ALL', 'UX', current_disp)\n",
    "    mapdl.d(\"ALL\", \"UY\", 0)\n",
    "    mapdl.d(\"ALL\", \"UZ\", 0)\n",
    "    mapdl.nsel('S', 'LOC', 'X', 0)\n",
    "    mapdl.d(\"ALL\", \"ALL\", 0)\n",
    "    mapdl.nsel('ALL')\n",
    "    \n",
    "    # Solve current load step\n",
    "    mapdl.solve()\n",
    "    \n",
    "    # Post-process to check for failure criterion\n",
    "    mapdl.post1()\n",
    "    mapdl.set('LAST')\n",
    "    \n",
    "    # Get nodal principal stress\n",
    "    mapdl.nsel('ALL')\n",
    "    mapdl.nsel('S', 'LOC', 'X', vmin=0.4*length, vmax=0.6*length)\n",
    "    principal_stress = np.maximum.reduce([mapdl.post_processing.nodal_principal_stress(\"1\"),\n",
    "                  mapdl.post_processing.nodal_principal_stress(\"2\"),\n",
    "                  mapdl.post_processing.nodal_principal_stress(\"3\")])\n",
    "\n",
    "\n",
    "    mapdl.nsel('ALL')\n",
    "    mapdl.nsel('S', 'LOC', 'X', 0)\n",
    "\n",
    "    reaction_forces_selected = mapdl.prrsol('FX').to_dataframe(columns=[\"NODE\", \"FX\"])\n",
    "    reaction_force = abs(reaction_forces_selected['FX'].sum())\n",
    "\n",
    "    # Get the reaction forces from the result object\n",
    "    # result = mapdl.result\n",
    "    # # 이거를 result 안쓰고 하는 법 없나? result 문법을 잘 모르겠음\n",
    "    # nnum, reaction_force = result.nodal_static_forces(0)\n",
    "    # mapdl.nsel('ALL')\n",
    "    # mapdl.nsel('S', 'LOC', 'X', 0)\n",
    "    # selected_nodes = mapdl.mesh.nnum  # Node numbers in the current selection\n",
    "    # reaction_force = reaction_force[selected_nodes-1].sum(axis=0)[0]\n",
    "    \n",
    "    reaction_forces.append(reaction_force)\n",
    "    applied_displacements.append(current_disp)\n",
    "\n",
    "    if (principal_stress > UTS).sum() > 0:\n",
    "        print(\"Specimen failed\")\n",
    "        break\n",
    "\n",
    "    mapdl.solution()"
   ]
  },
  {
   "cell_type": "markdown",
   "metadata": {},
   "source": [
    "## Result"
   ]
  },
  {
   "cell_type": "code",
   "execution_count": 13,
   "metadata": {},
   "outputs": [
    {
     "data": {
      "text/plain": [
       "[<matplotlib.lines.Line2D at 0x1be0edd3750>]"
      ]
     },
     "execution_count": 13,
     "metadata": {},
     "output_type": "execute_result"
    },
    {
     "data": {
      "image/png": "[encoded data removed]",
      "text/plain": [
       "<Figure size 640x480 with 1 Axes>"
      ]
     },
     "metadata": {},
     "output_type": "display_data"
    }
   ],
   "source": [
    "stress_strain = pd.read_excel('PLA stress-strain.xlsx')\n",
    "plt.plot(stress_strain['x'], stress_strain['y (MPa)'])\n",
    "plt.plot(np.array(applied_displacements)/length*100, np.array(reaction_forces)/width/thickness/1e6)"
   ]
  },
  {
   "cell_type": "code",
   "execution_count": 14,
   "metadata": {},
   "outputs": [
    {
     "data": {
      "text/plain": [
       "1801.6399999999999"
      ]
     },
     "execution_count": 14,
     "metadata": {},
     "output_type": "execute_result"
    }
   ],
   "source": [
    "# Select nodes of interest (e.g., where X = 0)\n",
    "mapdl.nsel(\"ALL\")\n",
    "mapdl.nsel(\"S\", \"LOC\", \"X\", 0)\n",
    "\n",
    "# Retrieve reaction forces for selected nodes\n",
    "reaction_forces_selected = mapdl.prrsol('FX').to_dataframe(columns=[\"NODE\", \"FX\"])\n",
    "abs(reaction_forces_selected['FX'].sum())"
   ]
  },
  {
   "cell_type": "code",
   "execution_count": 15,
   "metadata": {},
   "outputs": [
    {
     "data": {
      "application/vnd.jupyter.widget-view+json": {
       "model_id": "b95e7bfbe188494193b3e50d3395cce1",
       "version_major": 2,
       "version_minor": 0
      },
      "text/plain": [
       "Widget(value='<iframe src=\"http://localhost:11911/index.html?ui=P_0x1be0eda74d0_1&reconnect=auto\" class=\"pyvis…"
      ]
     },
     "metadata": {},
     "output_type": "display_data"
    }
   ],
   "source": [
    "result = mapdl.result\n",
    "result.plot_nodal_displacement(\n",
    "    0,\n",
    "    cpos=\"xy\",\n",
    "    displacement_factor=10,\n",
    "    show_displacement=True,\n",
    "    show_edges=True,\n",
    ")"
   ]
  },
  {
   "cell_type": "code",
   "execution_count": 16,
   "metadata": {},
   "outputs": [
    {
     "data": {
      "application/vnd.jupyter.widget-view+json": {
       "model_id": "f841fa374ad94240ae2d466cc6f59485",
       "version_major": 2,
       "version_minor": 0
      },
      "text/plain": [
       "Widget(value='<iframe src=\"http://localhost:11911/index.html?ui=P_0x1be1c34bd90_2&reconnect=auto\" class=\"pyvis…"
      ]
     },
     "metadata": {},
     "output_type": "display_data"
    }
   ],
   "source": [
    "result.plot_principal_nodal_stress(\n",
    "    0,\n",
    "    \"SEQV\",\n",
    "    cpos=\"xy\",\n",
    "    background=\"w\",\n",
    "    text_color=\"k\",\n",
    "    add_text=True,\n",
    "    show_edges=True,\n",
    ")"
   ]
  },
  {
   "cell_type": "code",
   "execution_count": 17,
   "metadata": {},
   "outputs": [
    {
     "data": {
      "application/vnd.jupyter.widget-view+json": {
       "model_id": "5ef1bdd027df4f6ba81d8b6a304e9291",
       "version_major": 2,
       "version_minor": 0
      },
      "text/plain": [
       "Widget(value='<iframe src=\"http://localhost:11911/index.html?ui=P_0x1be1c339450_3&reconnect=auto\" class=\"pyvis…"
      ]
     },
     "metadata": {},
     "output_type": "display_data"
    }
   ],
   "source": [
    "mapdl.eplot()"
   ]
  },
  {
   "cell_type": "code",
   "execution_count": 18,
   "metadata": {},
   "outputs": [],
   "source": [
    "nnum, stress_result = result.principal_nodal_stress(0)\n",
    "stress_result = stress_result[:, -1]"
   ]
  },
  {
   "cell_type": "code",
   "execution_count": 19,
   "metadata": {},
   "outputs": [],
   "source": [
    "# mapdl.nsel(\"ALL\")\n",
    "# # Get all node numbers\n",
    "# node_numbers = mapdl.mesh.nnum\n",
    "\n",
    "# # Initialize lists to store coordinates\n",
    "# x_coords, y_coords, z_coords = [], [], []\n",
    "\n",
    "# # Loop through node numbers and query coordinates\n",
    "# for node in node_numbers:\n",
    "#     x_coords.append(mapdl.get(entity=\"node\", entnum=node, item1=\"loc\", it1num=\"x\"))\n",
    "#     y_coords.append(mapdl.get(entity=\"node\", entnum=node, item1=\"loc\", it1num=\"y\"))\n",
    "#     z_coords.append(mapdl.get(entity=\"node\", entnum=node, item1=\"loc\", it1num=\"z\"))\n",
    "\n",
    "# # Combine node numbers and coordinates\n",
    "# node_data = np.column_stack((x_coords, y_coords, z_coords))"
   ]
  },
  {
   "cell_type": "code",
   "execution_count": 20,
   "metadata": {},
   "outputs": [],
   "source": [
    "# from mpl_toolkits.mplot3d import Axes3D\n",
    "\n",
    "# x_coords = node_data[:, 0]\n",
    "# y_coords = node_data[:, 1]\n",
    "# z_coords = node_data[:, 2]\n",
    "\n",
    "# fig = plt.figure(figsize=(10, 8))\n",
    "# ax = fig.add_subplot(111, projection=\"3d\")\n",
    "# sc = ax.scatter(x_coords, y_coords, z_coords, c=abs(stress_result), cmap=\"coolwarm\", s=50)\n",
    "# plt.colorbar(sc, label = \"Stres (MPa)\")\n",
    "# ax.set_xlabel(\"X Coordinate (m)\")\n",
    "# ax.set_ylabel(\"Y Coordinate (m)\")\n",
    "# ax.set_zlabel(\"Z Coordinate (m)\")\n",
    "# ax.set_title(\"3D Nodal Displacement Visualization\")\n",
    "# plt.axis('equal')\n",
    "# plt.show()"
   ]
  },
  {
   "cell_type": "code",
   "execution_count": 21,
   "metadata": {},
   "outputs": [
    {
     "name": "stdout",
     "output_type": "stream",
     "text": [
      "310.0\n",
      "310.0\n",
      "310.0\n"
     ]
    }
   ],
   "source": [
    "# Reaction force 구하는 법 (다 하자 있음)\n",
    "\n",
    "# Option 1\n",
    "nnum, reaction_forces = result.nodal_static_forces(0)\n",
    "mapdl.allsel()\n",
    "mapdl.nsel('S', 'LOC', 'X', 0)\n",
    "selected_nodes = mapdl.mesh.nnum  # Node numbers in the current selection\n",
    "reaction_forces[selected_nodes-1].sum(axis=0)[0]\n",
    "\n",
    "# Option 2\n",
    "total_reaction_force_x = 0.0\n",
    "total_reaction_force_y = 0.0\n",
    "total_reaction_force_z = 0.0\n",
    "\n",
    "mapdl.nsel('S', 'LOC', 'X', 0)\n",
    "# Get list of selected nodes\n",
    "selected_nodes = mapdl.mesh.nnum  # Node numbers in the current selection\n",
    "\n",
    "# Loop over nodes to sum reaction forces\n",
    "for node in selected_nodes:\n",
    "    rfx = mapdl.get_value(entity='NODE', entnum=node, item1='RF', it1num='X')\n",
    "    rfy = mapdl.get_value(entity='NODE', entnum=node, item1='RF', it1num='Y')\n",
    "    rfz = mapdl.get_value(entity='NODE', entnum=node, item1='RF', it1num='Z')\n",
    "\n",
    "    total_reaction_force_x += rfx\n",
    "    total_reaction_force_y += rfy\n",
    "    total_reaction_force_z += rfz\n",
    "print(total_reaction_force_x)\n",
    "print(total_reaction_force_y)\n",
    "print(total_reaction_force_z)"
   ]
  },
  {
   "cell_type": "markdown",
   "metadata": {},
   "source": [
    "## Load & View Result"
   ]
  },
  {
   "cell_type": "code",
   "execution_count": 4,
   "metadata": {},
   "outputs": [],
   "source": [
    "import os\n",
    "\n",
    "current_dir = os.getcwd()"
   ]
  },
  {
   "cell_type": "code",
   "execution_count": 24,
   "metadata": {},
   "outputs": [
    {
     "data": {
      "text/plain": [
       "PUT THIS LOAD CASE ON THE RESULT FILE d:\\01__Personal_Projects\\IIAD_pyMAPDL/result/result_iteration.rst\n",
       "  AS RESULT SET     1 (LOAD STEP     1 SUBSTEP     7 TIME=  1.0000    )"
      ]
     },
     "execution_count": 24,
     "metadata": {},
     "output_type": "execute_result"
    }
   ],
   "source": [
    "mapdl.save(fname=f\"{current_dir}/result/result_iteration\", ext=\"db\")\n",
    "# mapdl.run(f\"FILE, {current_dir}/result/result_iteration, rst\")\n",
    "mapdl.reswrite(fname = f\"{current_dir}/result/result_iteration\")"
   ]
  },
  {
   "cell_type": "code",
   "execution_count": 5,
   "metadata": {},
   "outputs": [],
   "source": [
    "mapdl.post1()  # Enter post-processing\n",
    "mapdl.resume(fname=f\"{current_dir}/result/result_iteration\", ext=\"db\");"
   ]
  },
  {
   "cell_type": "code",
   "execution_count": 9,
   "metadata": {},
   "outputs": [],
   "source": [
    "result = pymapdl_reader.read_binary(f\"{current_dir}/result/result_iteration.rst\")"
   ]
  },
  {
   "cell_type": "code",
   "execution_count": 12,
   "metadata": {},
   "outputs": [],
   "source": [
    "mapdl.exit()"
   ]
  },
  {
   "cell_type": "code",
   "execution_count": null,
   "metadata": {},
   "outputs": [],
   "source": []
  }
 ],
 "metadata": {
  "kernelspec": {
   "display_name": "FastMRI",
   "language": "python",
   "name": "python3"
  },
  "language_info": {
   "codemirror_mode": {
    "name": "ipython",
    "version": 3
   },
   "file_extension": ".py",
   "mimetype": "text/x-python",
   "name": "python",
   "nbconvert_exporter": "python",
   "pygments_lexer": "ipython3",
   "version": "3.11.9"
  }
 },
 "nbformat": 4,
 "nbformat_minor": 2
}
