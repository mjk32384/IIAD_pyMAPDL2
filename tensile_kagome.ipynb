{
 "cells": [
  {
   "cell_type": "code",
   "execution_count": 1,
   "metadata": {},
   "outputs": [],
   "source": [
    "import matplotlib.pyplot as plt\n",
    "import matplotlib as mpl\n",
    "import numpy as np\n",
    "import pandas as pd\n",
    "from ansys.mapdl.core import launch_mapdl\n",
    "from ansys.mapdl import reader as pymapdl_reader\n",
    "import pyvista as pv"
   ]
  },
  {
   "cell_type": "code",
   "execution_count": 2,
   "metadata": {},
   "outputs": [],
   "source": [
    "# 기본적으로 plot이 안돼서 html로 plot하도록 만듦\n",
    "pv.set_jupyter_backend('html')\n",
    "pv.start_xvfb()"
   ]
  },
  {
   "cell_type": "code",
   "execution_count": 3,
   "metadata": {},
   "outputs": [],
   "source": [
    "# Start an MAPDL instance\n",
    "try:\n",
    "    mapdl = launch_mapdl(start_instance=False, port=50052)\n",
    "except:\n",
    "    mapdl = launch_mapdl(start_instance=True, port=50052)"
   ]
  },
  {
   "cell_type": "code",
   "execution_count": 4,
   "metadata": {},
   "outputs": [
    {
     "data": {
      "text/plain": [
       "*** MAPDL - ENGINEERING ANALYSIS SYSTEM  RELEASE 2024 R2          24.2     ***\n",
       " Ansys Mechanical Enterprise Academic Research     \n",
       " 01078600  VERSION=LINUX x64     13:07:57  NOV 27, 2024 CP=      1.104\n",
       "\n",
       "                                                                               \n",
       "\n",
       "\n",
       "\n",
       "          ***** MAPDL ANALYSIS DEFINITION (PREP7) *****"
      ]
     },
     "execution_count": 4,
     "metadata": {},
     "output_type": "execute_result"
    }
   ],
   "source": [
    "mapdl.finish()\n",
    "mapdl.clear()\n",
    "mapdl.prep7()"
   ]
  },
  {
   "cell_type": "code",
   "execution_count": null,
   "metadata": {},
   "outputs": [],
   "source": []
  },
  {
   "cell_type": "markdown",
   "metadata": {},
   "source": [
    "## Kagome Lattice Creation"
   ]
  },
  {
   "cell_type": "code",
   "execution_count": 5,
   "metadata": {},
   "outputs": [],
   "source": [
    "design_width = 60/1000\n",
    "design_height = 25/1000\n",
    "total_width = 144/1000\n",
    "total_z = 5/1000\n",
    "# density = 0.5\n",
    "\n",
    "n_cell = 5\n",
    "relative_density = 0.5\n",
    "\n",
    "t_over_l = np.sqrt(3)/2 - np.sqrt(3 - 4*relative_density)/2\n",
    "cell_size = design_height/(np.sqrt(3)*n_cell + t_over_l)\n",
    "wall_thickness = cell_size*t_over_l\n",
    "\n",
    "external_wall = True\n",
    "external_wall_thickness = wall_thickness"
   ]
  },
  {
   "cell_type": "code",
   "execution_count": 6,
   "metadata": {},
   "outputs": [],
   "source": [
    "side_length = cell_size - 1/np.sqrt(3)*wall_thickness\n",
    "design_part = mapdl.rectng(-1/1000, design_width, 0, design_height)"
   ]
  },
  {
   "cell_type": "code",
   "execution_count": 7,
   "metadata": {},
   "outputs": [],
   "source": [
    "for i in range(n_cell):\n",
    "    j = 0\n",
    "    while True:\n",
    "        center = [cell_size/2 - np.sqrt(3)/2*wall_thickness + 2*j*cell_size - (i%2)*cell_size,\n",
    "                  (cell_size + 1/np.sqrt(3)*wall_thickness)*np.sqrt(3)/2 + i*np.sqrt(3)*cell_size]\n",
    "        # 조건문 넣을 필요 없이, design part 늘리면 해결되긴 함\n",
    "        if center[0] - side_length < design_width:\n",
    "            k_list = []\n",
    "            for k in range(6):\n",
    "                k_list.append(mapdl.k(x = center[0] + side_length*np.cos(np.pi/3*k), y = center[1] + side_length*np.sin(np.pi/3*k)))\n",
    "            hole = mapdl.a(*k_list)\n",
    "            try:\n",
    "                design_part = mapdl.asba(na1 = design_part, na2 = hole)\n",
    "            except:\n",
    "                print(f\"error2 at i={i}, j={j}\")\n",
    "        # 조건문 넣을 필요 없이, design part 늘리면 해결되긴 함\n",
    "        if cell_size + 2*j*cell_size - (i%2)*cell_size < design_width:\n",
    "            k1 = mapdl.k(x = cell_size + 2*j*cell_size - (i%2)*cell_size, y = wall_thickness + i*np.sqrt(3)*cell_size)\n",
    "            k2 = mapdl.k(x = 2*cell_size - np.sqrt(3)*wall_thickness + 2*j*cell_size - (i%2)*cell_size, y = wall_thickness + i*np.sqrt(3)*cell_size)\n",
    "            k3 = mapdl.k(x = (3/2)*cell_size - 1/2*np.sqrt(3)*wall_thickness + 2*j*cell_size - (i%2)*cell_size, y = np.sqrt(3)/2*cell_size - 1/2*wall_thickness + i*np.sqrt(3)*cell_size)\n",
    "            hole = mapdl.a(k1, k2, k3)\n",
    "            try:\n",
    "                design_part = mapdl.asba(na1 = design_part, na2 = hole)\n",
    "            except Exception as e:\n",
    "                print(f\"error2 at i={i}, j={j}\")\n",
    "                print(e)\n",
    "\n",
    "            k1 = mapdl.k(x = cell_size + 2*j*cell_size - (i%2)*cell_size, y = np.sqrt(3)*cell_size + i*np.sqrt(3)*cell_size)\n",
    "            k2 = mapdl.k(x = 2*cell_size - np.sqrt(3)*wall_thickness + 2*j*cell_size - (i%2)*cell_size, y = np.sqrt(3)*cell_size + i*np.sqrt(3)*cell_size)\n",
    "            k3 = mapdl.k(x = (3/2)*cell_size - 1/2*np.sqrt(3)*wall_thickness + 2*j*cell_size - (i%2)*cell_size, y = np.sqrt(3)/2*cell_size + 3/2*wall_thickness + i*np.sqrt(3)*cell_size)\n",
    "            hole = mapdl.a(k1, k2, k3)\n",
    "            try:\n",
    "                design_part = mapdl.asba(na1 = design_part, na2 = hole)\n",
    "            except Exception as e:\n",
    "                print(f\"error3 at i={i}, j={j}\")\n",
    "                print(e)\n",
    "\n",
    "        if cell_size/2 - 1/np.sqrt(3)*wall_thickness + 2*j*cell_size > design_width:\n",
    "            break\n",
    "\n",
    "        j += 1"
   ]
  },
  {
   "cell_type": "code",
   "execution_count": 8,
   "metadata": {},
   "outputs": [
    {
     "data": {
      "text/plain": [
       "4"
      ]
     },
     "execution_count": 8,
     "metadata": {},
     "output_type": "execute_result"
    }
   ],
   "source": [
    "mapdl.rectng(x1=-total_width/2+design_width/2, x2=0, y1=0, y2=design_height)\n",
    "mapdl.rectng(design_width, total_width/2+design_width/2, 0, design_height)\n",
    "mapdl.aadd(\"all\")"
   ]
  },
  {
   "cell_type": "code",
   "execution_count": 9,
   "metadata": {},
   "outputs": [
    {
     "data": {
      "text/plain": [
       "EXTRUDE ALL AREAS \n",
       "      IN DIRECTION   0.000000    ,  0.000000    , 0.5000000E-02\n",
       "      SCALED         0.000000    ,  0.000000    ,  0.000000"
      ]
     },
     "execution_count": 9,
     "metadata": {},
     "output_type": "execute_result"
    }
   ],
   "source": [
    "mapdl.vext(\"ALL\", dz = total_z)"
   ]
  },
  {
   "cell_type": "code",
   "execution_count": null,
   "metadata": {},
   "outputs": [],
   "source": [
    "# line_nondesign_part = []\n",
    "# for x in [(-total_width+design_width)/2, (total_width+design_width)/2]:\n",
    "#     for y in [0, design_height]:\n",
    "#         for z in [0, total_z]:\n",
    "#             if x<0:\n",
    "#                 k1 = mapdl.k(x=0, y=y, z=z)\n",
    "#             else:\n",
    "#                 k1 = mapdl.k(x=design_width, y=y, z=z)\n",
    "#             k2 = mapdl.k(x=x, y=y, z=z)\n",
    "#             line_nondesign_part.append(mapdl.l(k1, k2))\n",
    "\n",
    "# for x in [(-total_width+design_width)/2, (total_width+design_width)/2]:\n",
    "#     for z in [0, total_z]:\n",
    "#         k1 = mapdl.k(x=x, y=0, z=z)\n",
    "#         k2 = mapdl.k(x=x, y=design_height, z=z)\n",
    "#         line_nondesign_part.append(mapdl.l(k1, k2))"
   ]
  },
  {
   "cell_type": "markdown",
   "metadata": {},
   "source": [
    "## Preprocessing"
   ]
  },
  {
   "cell_type": "code",
   "execution_count": 10,
   "metadata": {},
   "outputs": [],
   "source": [
    "stress_strain = pd.read_excel('PLA stress-strain.xlsx')\n",
    "stress_strain = stress_strain.iloc[:8]  # due to limitations of MISO model\n",
    "stress_strain['y'] = stress_strain['y (MPa)']*1e6\n",
    "stress_strain['x'] = stress_strain['x']/100\n",
    "UTS = stress_strain['y'].max()\n",
    "Youngs_Modulus = stress_strain['y'][1]/stress_strain['x'][1]\n",
    "max_plastic_strain = stress_strain['x'].iloc[-1]\n",
    "\n",
    "mapdl.mp('EX', 1, Youngs_Modulus)   # Young's Modulus in Pascals\n",
    "mapdl.mp('PRXY', 1, 0.33)   # Poisson's Ratio\n",
    "\n",
    "# Non linear 부분 정의\n",
    "stress_strain['x'] = stress_strain['x'] - stress_strain['y']/Youngs_Modulus\n",
    "mapdl.tb('PLASTIC', 1, '', 'MISO')\n",
    "for i in range(len(stress_strain)):\n",
    "    mapdl.tbpt(i, stress_strain['x'][i], stress_strain['y'][i])"
   ]
  },
  {
   "cell_type": "code",
   "execution_count": 11,
   "metadata": {},
   "outputs": [
    {
     "data": {
      "application/vnd.jupyter.widget-view+json": {
       "model_id": "b168e9b236314474994718e168f63fe5",
       "version_major": 2,
       "version_minor": 0
      },
      "text/plain": [
       "EmbeddableWidget(value='<iframe srcdoc=\"<!DOCTYPE html>\\n<html>\\n  <head>\\n    <meta http-equiv=&quot;Content-…"
      ]
     },
     "metadata": {},
     "output_type": "display_data"
    }
   ],
   "source": [
    "line_design_part = mapdl.lsel(\"S\", \"LOC\", \"X\", 0, design_width)\n",
    "mapdl.lplot()"
   ]
  },
  {
   "cell_type": "code",
   "execution_count": null,
   "metadata": {},
   "outputs": [],
   "source": [
    "# line_nondesign_part = np.ndarray([])\n",
    "\n",
    "# for x in [(-total_width+design_width)/2, (total_width+design_width)/2]:\n",
    "#     for y in [0, design_height]:\n",
    "#         for z in [0, total_z]:\n",
    "#             mapdl.lsel(\"S\", \"LOC\", \"Y\", y)\n",
    "#             if x > 0:\n",
    "#                 mapdl.lsel(\"R\", \"LOC\", \"X\", 0, (total_width+design_width)/2)\n",
    "#             else:\n",
    "#                 mapdl.lsel(\"R\", \"LOC\", \"X\", (-total_width+design_width)/2, 0)\n",
    "#             try:\n",
    "#                 line_nondesign_part = np.concatenate((line_nondesign_part, mapdl.lsel(\"R\", \"LOC\", \"Z\", z)))\n",
    "#             except:\n",
    "#                 line_nondesign_part = mapdl.lsel(\"R\", \"LOC\", \"Z\", z)\n",
    "# \n",
    "# # mapdl.lplot(cpos = 'xy')"
   ]
  },
  {
   "cell_type": "code",
   "execution_count": null,
   "metadata": {},
   "outputs": [
    {
     "data": {
      "text/plain": [
       "GENERATE NODES AND ELEMENTS   IN  ALL  SELECTED VOLUMES  \n",
       "\n",
       " NUMBER OF VOLUMES MESHED   =         1\n",
       " MAXIMUM NODE NUMBER        =     37763\n",
       " MAXIMUM ELEMENT NUMBER     =     18903"
      ]
     },
     "execution_count": 12,
     "metadata": {},
     "output_type": "execute_result"
    }
   ],
   "source": [
    "line_design_part = mapdl.lsel(\"S\", \"LOC\", \"X\", 0, design_width)\n",
    "mapdl.lsel(\"NONE\")\n",
    "for line in line_design_part:\n",
    "    mapdl.lsel(\"A\", \"LINE\", vmin=line, vmax=line)\n",
    "mapdl.lesize(\"ALL\", wall_thickness*2, kforc=1)\n",
    "mapdl.lsel(\"ALL\")\n",
    "\n",
    "# Define mesh size\n",
    "mapdl.esize(design_height/3)  # Default size\n",
    "\n",
    "mapdl.mopt(\"EXPND\", 0.7)  # Decrease the area mesh expansion.\n",
    "mapdl.et(1, 'SOLID187')\n",
    "\n",
    "# Mesh the volume\n",
    "mapdl.vmesh(\"all\")"
   ]
  },
  {
   "cell_type": "code",
   "execution_count": 13,
   "metadata": {},
   "outputs": [],
   "source": [
    "mapdl.mesh.save(\"result/temp.vtk\")"
   ]
  },
  {
   "cell_type": "code",
   "execution_count": 14,
   "metadata": {},
   "outputs": [],
   "source": [
    "# grid = mapdl.mesh.grid\n",
    "# grid.plot()"
   ]
  },
  {
   "cell_type": "code",
   "execution_count": 15,
   "metadata": {},
   "outputs": [
    {
     "data": {
      "application/vnd.jupyter.widget-view+json": {
       "model_id": "57a8dbcaa04d4df79ad71c4f77724303",
       "version_major": 2,
       "version_minor": 0
      },
      "text/plain": [
       "EmbeddableWidget(value='<iframe srcdoc=\"<!DOCTYPE html>\\n<html>\\n  <head>\\n    <meta http-equiv=&quot;Content-…"
      ]
     },
     "metadata": {},
     "output_type": "display_data"
    }
   ],
   "source": [
    "import pyvista as pv\n",
    "\n",
    "# Use PyVista's notebook plotting\n",
    "pv.set_jupyter_backend(\"html\")  # For interactive plots\n",
    "pv.start_xvfb()\n",
    "\n",
    "# Read and display the VTK file\n",
    "mesh = pv.read(\"result/temp.vtk\")\n",
    "mesh.plot(show_edges=True, color=\"grey\", background=\"white\")"
   ]
  },
  {
   "cell_type": "code",
   "execution_count": null,
   "metadata": {},
   "outputs": [],
   "source": [
    "# eplot보다 이게 더 빠름 ㅋㅋ\n",
    "mapdl.solution()\n",
    "mapdl.antype('STATIC')\n",
    "mapdl.autots('OFF')\n",
    "mapdl.nsubst(1, 1, 1)\n",
    "\n",
    "mapdl.nsel('S', 'LOC', 'X', (total_width + design_width)/2)\n",
    "mapdl.d('ALL', 'ALL', 0)\n",
    "mapdl.nsel('S', 'LOC', 'X', (-total_width + design_width)/2)\n",
    "mapdl.d(\"ALL\", \"ALL\", 0)\n",
    "mapdl.nsel('ALL')\n",
    "\n",
    "mapdl.solve()\n",
    "mapdl.post1()\n",
    "\n",
    "result = mapdl.result\n",
    "pyvista.set_jupyter_backend('html')\n",
    "pyvista.start_xvfb()\n",
    "result.plot_principal_nodal_stress(\n",
    "    0,\n",
    "    \"SEQV\",\n",
    "    cpos=\"xy\",\n",
    "    background=\"w\",\n",
    "    text_color=\"k\",\n",
    "    add_text=True,\n",
    "    show_edges=True,\n",
    ")"
   ]
  },
  {
   "cell_type": "markdown",
   "metadata": {},
   "source": [
    "## Simulation"
   ]
  },
  {
   "cell_type": "code",
   "execution_count": null,
   "metadata": {},
   "outputs": [],
   "source": [
    "mapdl.parameters.keys()"
   ]
  },
  {
   "cell_type": "code",
   "execution_count": 19,
   "metadata": {},
   "outputs": [
    {
     "data": {
      "text/html": [
       "<div>\n",
       "<style scoped>\n",
       "    .dataframe tbody tr th:only-of-type {\n",
       "        vertical-align: middle;\n",
       "    }\n",
       "\n",
       "    .dataframe tbody tr th {\n",
       "        vertical-align: top;\n",
       "    }\n",
       "\n",
       "    .dataframe thead th {\n",
       "        text-align: right;\n",
       "    }\n",
       "</style>\n",
       "<table border=\"1\" class=\"dataframe\">\n",
       "  <thead>\n",
       "    <tr style=\"text-align: right;\">\n",
       "      <th></th>\n",
       "      <th>a</th>\n",
       "      <th>b</th>\n",
       "    </tr>\n",
       "  </thead>\n",
       "  <tbody>\n",
       "    <tr>\n",
       "      <th>0</th>\n",
       "      <td>1</td>\n",
       "      <td>4</td>\n",
       "    </tr>\n",
       "    <tr>\n",
       "      <th>1</th>\n",
       "      <td>3</td>\n",
       "      <td>5</td>\n",
       "    </tr>\n",
       "    <tr>\n",
       "      <th>2</th>\n",
       "      <td>4</td>\n",
       "      <td>6</td>\n",
       "    </tr>\n",
       "  </tbody>\n",
       "</table>\n",
       "</div>"
      ],
      "text/plain": [
       "   a  b\n",
       "0  1  4\n",
       "1  3  5\n",
       "2  4  6"
      ]
     },
     "execution_count": 19,
     "metadata": {},
     "output_type": "execute_result"
    }
   ],
   "source": [
    "a = [1, 3, 4]\n",
    "b = [4, 5, 6]\n",
    "pd.DataFrame({'a':a, 'b':b})"
   ]
  },
  {
   "cell_type": "markdown",
   "metadata": {},
   "source": [
    "## Saving 3D Object"
   ]
  },
  {
   "cell_type": "code",
   "execution_count": 1,
   "metadata": {},
   "outputs": [],
   "source": [
    "import os\n",
    "\n",
    "current_dir = os.getcwd()"
   ]
  },
  {
   "cell_type": "code",
   "execution_count": 19,
   "metadata": {},
   "outputs": [
    {
     "data": {
      "text/plain": [
       "*** MAPDL GLOBAL STATUS *** \n",
       "\n",
       " TITLE =                                                                       \n",
       "       504 KEYPOINTS DEFINED     MAX KEYPOINT NUMBER =            504\n",
       "       756 LINES DEFINED         MAX LINE NUMBER =                756\n",
       "       254 AREAS DEFINED         MAX AREA NUMBER =                254\n",
       "         1 VOLUMES DEFINED       MAX VOLUME NUMBER =                1\n",
       "         0 ELEM TYPES DEFINED    MAX ELEM TYPE NUMBER =             0\n",
       "         0 ELEMENTS DEFINED      MAX ELEMENT NUMBER =               0\n",
       "         0 NODES DEFINED         MAX NODE NUMBER =                  0\n",
       "\n",
       " WRITE ANSYS DATABASE AS AN ANSYS INPUT FILE: /home/mjk32/IIAD_pyMAPDL/result/Kagome_3.txt                                                                                                                                                                                                                        \n",
       "\n",
       " WRITE IGES FILE= /home/mjk32/IIAD_pyMAPDL/result/Kagome_3.iges\n",
       "\n",
       " ATTRIBUTES WILL BE WRITTEN TO /home/mjk32/IIAD_pyMAPDL/result/Kagome_3.iges.\n",
       "\n",
       " 18542 RECORDS WRITTEN TO FILE= /home/mjk32/IIAD_pyMAPDL/result/Kagome_3.iges"
      ]
     },
     "execution_count": 19,
     "metadata": {},
     "output_type": "execute_result"
    }
   ],
   "source": [
    "mapdl.cdwrite(fname=f\"{current_dir}/result/Kagome_3\", ext = \"txt\")"
   ]
  },
  {
   "cell_type": "code",
   "execution_count": 20,
   "metadata": {},
   "outputs": [],
   "source": [
    "mapdl.exit()"
   ]
  },
  {
   "cell_type": "code",
   "execution_count": 4,
   "metadata": {},
   "outputs": [
    {
     "ename": "FileNotFoundError",
     "evalue": "/home/mjk32/IIAD_pyMAPDL/result/temp_triangular.rst is not a file or cannot be found",
     "output_type": "error",
     "traceback": [
      "\u001b[0;31m---------------------------------------------------------------------------\u001b[0m",
      "\u001b[0;31mFileNotFoundError\u001b[0m                         Traceback (most recent call last)",
      "Cell \u001b[0;32mIn[4], line 1\u001b[0m\n\u001b[0;32m----> 1\u001b[0m result \u001b[38;5;241m=\u001b[39m pymapdl_reader\u001b[38;5;241m.\u001b[39mread_binary(\u001b[38;5;124mf\u001b[39m\u001b[38;5;124m\"\u001b[39m\u001b[38;5;132;01m{\u001b[39;00mcurrent_dir\u001b[38;5;132;01m}\u001b[39;00m\u001b[38;5;124m/result/temp_triangular.rst\u001b[39m\u001b[38;5;124m\"\u001b[39m)\n",
      "File \u001b[0;32m~/anaconda3/envs/ansys_env/lib/python3.11/site-packages/ansys/mapdl/reader/common.py:157\u001b[0m, in \u001b[0;36mread_binary\u001b[0;34m(filename, **kwargs)\u001b[0m\n\u001b[1;32m    155\u001b[0m filename \u001b[38;5;241m=\u001b[39m pathlib\u001b[38;5;241m.\u001b[39mPath(filename)\n\u001b[1;32m    156\u001b[0m \u001b[38;5;28;01mif\u001b[39;00m \u001b[38;5;129;01mnot\u001b[39;00m filename\u001b[38;5;241m.\u001b[39mis_file():\n\u001b[0;32m--> 157\u001b[0m     \u001b[38;5;28;01mraise\u001b[39;00m \u001b[38;5;167;01mFileNotFoundError\u001b[39;00m(\u001b[38;5;124mf\u001b[39m\u001b[38;5;124m\"\u001b[39m\u001b[38;5;132;01m{\u001b[39;00mfilename\u001b[38;5;132;01m}\u001b[39;00m\u001b[38;5;124m is not a file or cannot be found\u001b[39m\u001b[38;5;124m\"\u001b[39m)\n\u001b[1;32m    159\u001b[0m file_format \u001b[38;5;241m=\u001b[39m read_standard_header(filename)[\u001b[38;5;124m\"\u001b[39m\u001b[38;5;124mfile format\u001b[39m\u001b[38;5;124m\"\u001b[39m]\n\u001b[1;32m    161\u001b[0m \u001b[38;5;28;01mif\u001b[39;00m file_format \u001b[38;5;241m==\u001b[39m \u001b[38;5;241m2\u001b[39m:\n",
      "\u001b[0;31mFileNotFoundError\u001b[0m: /home/mjk32/IIAD_pyMAPDL/result/temp_triangular.rst is not a file or cannot be found"
     ]
    }
   ],
   "source": [
    "result = pymapdl_reader.read_binary(f\"{current_dir}/result/temp_triangular.rst\")"
   ]
  },
  {
   "cell_type": "code",
   "execution_count": null,
   "metadata": {},
   "outputs": [],
   "source": []
  },
  {
   "cell_type": "markdown",
   "metadata": {},
   "source": [
    "## 2D Simulation"
   ]
  },
  {
   "cell_type": "code",
   "execution_count": null,
   "metadata": {},
   "outputs": [],
   "source": [
    "import matplotlib.pyplot as plt\n",
    "import matplotlib as mpl\n",
    "import numpy as np\n",
    "import pandas as pd\n",
    "from ansys.mapdl.core import launch_mapdl\n",
    "from ansys.mapdl import reader as pymapdl_reader\n",
    "import pyvista as pv\n",
    "import time\n",
    "import traceback\n",
    "import os\n",
    "\n",
    "from functions import kagome_horizontal"
   ]
  },
  {
   "cell_type": "code",
   "execution_count": 9,
   "metadata": {},
   "outputs": [],
   "source": [
    "# 기본적으로 plot이 안돼서 html로 plot하도록 만듦\n",
    "pv.set_jupyter_backend('html')\n",
    "pv.start_xvfb()"
   ]
  },
  {
   "cell_type": "code",
   "execution_count": 3,
   "metadata": {},
   "outputs": [],
   "source": [
    "try:\n",
    "    mapdl = launch_mapdl(start_instance=False, port=50052)\n",
    "except:\n",
    "    mapdl = launch_mapdl(start_instance=True, port=50052)\n"
   ]
  },
  {
   "cell_type": "code",
   "execution_count": 8,
   "metadata": {},
   "outputs": [
    {
     "data": {
      "text/plain": [
       "*** MAPDL - ENGINEERING ANALYSIS SYSTEM  RELEASE 2024 R2          24.2     ***\n",
       " Ansys Mechanical Enterprise Academic Research     \n",
       " 01078600  VERSION=LINUX x64     04:31:00  NOV 28, 2024 CP=     42.768\n",
       "\n",
       "                                                                               \n",
       "\n",
       "\n",
       "\n",
       "          ***** MAPDL ANALYSIS DEFINITION (PREP7) *****"
      ]
     },
     "execution_count": 8,
     "metadata": {},
     "output_type": "execute_result"
    }
   ],
   "source": [
    "mapdl.finish()\n",
    "mapdl.clear()\n",
    "mapdl.prep7()"
   ]
  },
  {
   "cell_type": "code",
   "execution_count": 10,
   "metadata": {},
   "outputs": [],
   "source": [
    "mapdl.clear()\n",
    "mapdl.prep7()\n",
    "\n",
    "# print(f\"Simulation Start. Mesh size: {mesh_size}\")\n",
    "design_width = 60/1000\n",
    "design_height = 25/1000\n",
    "total_width = 144/1000\n",
    "total_z = 5/1000\n",
    "wall_thickness = kagome_horizontal(mapdl, n_cell=5, relative_density=0.5, three_dim=False)"
   ]
  },
  {
   "cell_type": "code",
   "execution_count": 11,
   "metadata": {},
   "outputs": [],
   "source": [
    "# 물성치 입력\n",
    "stress_strain = pd.read_excel('PLA stress-strain.xlsx')\n",
    "stress_strain = stress_strain.iloc[:8]  # due to limitations of MISO model\n",
    "stress_strain['y'] = stress_strain['y (MPa)']*1e6\n",
    "stress_strain['x'] = stress_strain['x']/100\n",
    "UTS = stress_strain['y'].max()\n",
    "Youngs_Modulus = stress_strain['y'][1]/stress_strain['x'][1]\n",
    "max_plastic_strain = stress_strain['x'].iloc[-1]\n",
    "\n",
    "mapdl.mp('EX', 1, Youngs_Modulus)   # Young's Modulus in Pascals\n",
    "mapdl.mp('PRXY', 1, 0.33)   # Poisson's Ratio\n",
    "\n",
    "# Non linear 부분 정의\n",
    "stress_strain['x'] = stress_strain['x'] - stress_strain['y']/Youngs_Modulus\n",
    "mapdl.tb('PLASTIC', 1, '', 'MISO')\n",
    "for i in range(len(stress_strain)):\n",
    "    mapdl.tbpt(i, stress_strain['x'][i], stress_strain['y'][i])"
   ]
  },
  {
   "cell_type": "code",
   "execution_count": 12,
   "metadata": {},
   "outputs": [
    {
     "data": {
      "text/plain": [
       "GENERATE NODES AND ELEMENTS   IN  ALL  SELECTED AREAS    \n",
       "    ** AREA     4 MESHED WITH        0 QUADRILATERALS,    14806 TRIANGLES **\n",
       "\n",
       " NUMBER OF AREAS MESHED     =          1\n",
       " MAXIMUM NODE NUMBER        =      32069\n",
       " MAXIMUM ELEMENT NUMBER     =      14806"
      ]
     },
     "execution_count": 12,
     "metadata": {},
     "output_type": "execute_result"
    }
   ],
   "source": [
    "# Meshing\n",
    "line_design_part = mapdl.lsel(\"S\", \"LOC\", \"X\", 0, design_width)\n",
    "mapdl.lsel(\"NONE\")\n",
    "for line in line_design_part:\n",
    "    mapdl.lsel(\"A\", \"LINE\", vmin=line, vmax=line)\n",
    "mapdl.lesize(\"ALL\", wall_thickness/2, kforc=1)\n",
    "mapdl.lsel(\"ALL\")\n",
    "\n",
    "# Define mesh size\n",
    "mapdl.esize(design_height/6)  # Default size\n",
    "\n",
    "mapdl.mopt(\"EXPND\", 0.7)  # Decrease the area mesh expansion.\n",
    "mapdl.et(1, 'PLANE')\n",
    "\n",
    "# define a PLANE183 element type with thickness\n",
    "mapdl.et(1, \"PLANE183\", kop1=1, kop3=3)\n",
    "mapdl.r(1, total_z)  # thickness of 5mm\n",
    "\n",
    "# Mesh the volume\n",
    "mapdl.amesh(\"all\")"
   ]
  },
  {
   "cell_type": "code",
   "execution_count": 13,
   "metadata": {},
   "outputs": [
    {
     "data": {
      "application/vnd.jupyter.widget-view+json": {
       "model_id": "5924b6235e25406ba23c32549376d132",
       "version_major": 2,
       "version_minor": 0
      },
      "text/plain": [
       "EmbeddableWidget(value='<iframe srcdoc=\"<!DOCTYPE html>\\n<html>\\n  <head>\\n    <meta http-equiv=&quot;Content-…"
      ]
     },
     "metadata": {},
     "output_type": "display_data"
    }
   ],
   "source": [
    "mapdl.eplot()"
   ]
  },
  {
   "cell_type": "code",
   "execution_count": null,
   "metadata": {},
   "outputs": [],
   "source": []
  }
 ],
 "metadata": {
  "kernelspec": {
   "display_name": "ansys_env",
   "language": "python",
   "name": "python3"
  },
  "language_info": {
   "codemirror_mode": {
    "name": "ipython",
    "version": 3
   },
   "file_extension": ".py",
   "mimetype": "text/x-python",
   "name": "python",
   "nbconvert_exporter": "python",
   "pygments_lexer": "ipython3",
   "version": "3.11.10"
  }
 },
 "nbformat": 4,
 "nbformat_minor": 2
}
