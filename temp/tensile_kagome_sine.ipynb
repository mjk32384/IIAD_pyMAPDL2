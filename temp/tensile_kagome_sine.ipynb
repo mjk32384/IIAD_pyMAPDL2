{
 "cells": [
  {
   "cell_type": "code",
   "execution_count": 1,
   "metadata": {},
   "outputs": [],
   "source": [
    "import matplotlib.pyplot as plt\n",
    "import matplotlib as mpl\n",
    "import numpy as np\n",
    "import pandas as pd\n",
    "from ansys.mapdl.core import launch_mapdl\n",
    "from ansys.mapdl import reader as pymapdl_reader"
   ]
  },
  {
   "cell_type": "code",
   "execution_count": 2,
   "metadata": {},
   "outputs": [],
   "source": [
    "import pyvista\n",
    "# 기본적으로 plot이 안돼서 html로 plot하도록 만듦\n",
    "pyvista.set_jupyter_backend('html')\n",
    "pyvista.start_xvfb()"
   ]
  },
  {
   "cell_type": "code",
   "execution_count": 3,
   "metadata": {},
   "outputs": [],
   "source": [
    "# Start an MAPDL instance\n",
    "try:\n",
    "    mapdl = launch_mapdl(start_instance=False, port=50052)\n",
    "except:\n",
    "    mapdl = launch_mapdl(start_instance=True, port=50052)"
   ]
  },
  {
   "cell_type": "code",
   "execution_count": 54,
   "metadata": {},
   "outputs": [
    {
     "data": {
      "text/plain": [
       "*** MAPDL - ENGINEERING ANALYSIS SYSTEM  RELEASE 2024 R2          24.2     ***\n",
       " Ansys Mechanical Enterprise Academic Research     \n",
       " 01078600  VERSION=LINUX x64     17:47:34  DEC 01, 2024 CP=    768.011\n",
       "\n",
       "                                                                               \n",
       "\n",
       "\n",
       "\n",
       "          ***** MAPDL ANALYSIS DEFINITION (PREP7) *****"
      ]
     },
     "execution_count": 54,
     "metadata": {},
     "output_type": "execute_result"
    }
   ],
   "source": [
    "mapdl.finish()\n",
    "mapdl.clear()\n",
    "mapdl.prep7()"
   ]
  },
  {
   "cell_type": "code",
   "execution_count": null,
   "metadata": {},
   "outputs": [],
   "source": []
  },
  {
   "cell_type": "markdown",
   "metadata": {},
   "source": [
    "## Sine Kagome Lattice Creation"
   ]
  },
  {
   "cell_type": "code",
   "execution_count": 30,
   "metadata": {},
   "outputs": [],
   "source": [
    "design_width = 60/1000\n",
    "design_height = 25/1000\n",
    "total_width = 144/1000\n",
    "total_z = 5/1000\n",
    "# density = 0.5\n",
    "\n",
    "n_cell = 3\n",
    "relative_density = 0.5"
   ]
  },
  {
   "cell_type": "code",
   "execution_count": 31,
   "metadata": {},
   "outputs": [
    {
     "data": {
      "text/plain": [
       "0.004426352063787131"
      ]
     },
     "execution_count": 31,
     "metadata": {},
     "output_type": "execute_result"
    }
   ],
   "source": [
    "wall_thickness = 1/1000\n",
    "amplitude = 0.5/1000\n",
    "\n",
    "cell_size = (design_height - 2*amplitude - wall_thickness)/np.sqrt(3)/n_cell\n",
    "cell_size"
   ]
  },
  {
   "cell_type": "code",
   "execution_count": null,
   "metadata": {},
   "outputs": [
    {
     "data": {
      "text/plain": [
       "BOOLEAN TOLERANCE (NON-DEFAULT) : \n",
       "\n",
       "      THE POINT COINCIDENCE TOLERANCE     0.1000000000E-06 WILL BE USED"
      ]
     },
     "execution_count": 49,
     "metadata": {},
     "output_type": "execute_result"
    }
   ],
   "source": [
    "mapdl.btol(1.0e-8)"
   ]
  },
  {
   "cell_type": "code",
   "execution_count": 50,
   "metadata": {},
   "outputs": [],
   "source": [
    "resolution = 20\n",
    "\n",
    "def rotate(x, y, theta):\n",
    "    return x*np.cos(theta)-y*np.sin(theta), x*np.sin(theta)+y*np.cos(theta)\n",
    "\n",
    "def draw_sin(startx, starty, theta):\n",
    "    for i in range(resolution+1):\n",
    "        x = cell_size/resolution*i\n",
    "        y = np.sin(cell_size/resolution*i/cell_size*2*np.pi)*amplitude\n",
    "        y_prime = amplitude*2*np.pi/cell_size*np.cos(2*np.pi*x/cell_size)\n",
    "\n",
    "        dy = abs(wall_thickness/2/np.sqrt(1+1/y_prime**2)*(-1/y_prime))\n",
    "        dx = -y_prime*dy\n",
    "\n",
    "        ku1 = mapdl.k(x=startx+rotate(x+dx,y+dy,theta)[0], y=starty+rotate(x+dx,y+dy,theta)[1])\n",
    "        kd1 = mapdl.k(x=startx+rotate(x-dx,y-dy,theta)[0], y=starty+rotate(x-dx,y-dy,theta)[1])\n",
    "\n",
    "        if i != 0:\n",
    "            a1 = mapdl.a(ku1, kd1, kd0, ku0)\n",
    "\n",
    "        if i >= 2:\n",
    "            a0 = mapdl.aadd(a0, a1)\n",
    "        elif i == 1:\n",
    "            a0 = a1\n",
    "\n",
    "        ku0 = ku1\n",
    "        kd0 = kd1\n",
    "    return a0"
   ]
  },
  {
   "cell_type": "code",
   "execution_count": 51,
   "metadata": {},
   "outputs": [],
   "source": [
    "for i in range(n_cell+1):\n",
    "    j = 0\n",
    "    area_list = []\n",
    "    while True:\n",
    "        startx = cell_size*j - np.sqrt(3)/2*wall_thickness\n",
    "        starty = np.sqrt(3)*cell_size*i + amplitude + wall_thickness/2\n",
    "        if startx > design_width+wall_thickness:\n",
    "            break\n",
    "        area_list.append(draw_sin(startx, starty, 0))\n",
    "        j += 1\n",
    "    for i, area in enumerate(area_list):\n",
    "        if i == 0:\n",
    "            a0 = area\n",
    "            continue\n",
    "        a0 = mapdl.aadd(area, a0)\n"
   ]
  },
  {
   "cell_type": "code",
   "execution_count": 52,
   "metadata": {},
   "outputs": [],
   "source": [
    "for i in range(n_cell):\n",
    "    j = 0\n",
    "    while True:\n",
    "        if cell_size*(2*j+1-i%2) - np.sqrt(3)/2*wall_thickness > design_width+wall_thickness:\n",
    "            break\n",
    "        a1 = draw_sin(cell_size*(2*j+1-i%2) - np.sqrt(3)/2*wall_thickness, np.sqrt(3)*cell_size*i + amplitude + wall_thickness/2, np.pi/3)\n",
    "        a2 = draw_sin(cell_size*(2*j+2-i%2) - np.sqrt(3)/2*wall_thickness, np.sqrt(3)*cell_size*i + amplitude + wall_thickness/2, np.pi*2/3)\n",
    "        a3 = draw_sin(cell_size*(2*j+1-i%2) - np.sqrt(3)/2*wall_thickness, np.sqrt(3)*cell_size*(i+1) + amplitude + wall_thickness/2, -np.pi/3)\n",
    "        a4 = draw_sin(cell_size*(2*j+2-i%2) - np.sqrt(3)/2*wall_thickness, np.sqrt(3)*cell_size*(i+1) + amplitude + wall_thickness/2, -np.pi*2/3)\n",
    "        mapdl.aadd(a1, a2, a3, a4)\n",
    "        j += 1"
   ]
  },
  {
   "cell_type": "code",
   "execution_count": 53,
   "metadata": {},
   "outputs": [
    {
     "data": {
      "text/plain": [
       "30"
      ]
     },
     "execution_count": 53,
     "metadata": {},
     "output_type": "execute_result"
    }
   ],
   "source": [
    "mapdl.rectng(x1=-total_width/2+design_width/2, x2=0, y1=0, y2=design_height)\n",
    "mapdl.rectng(design_width, total_width/2+design_width/2, 0, design_height)\n",
    "mapdl.aadd(\"all\")"
   ]
  },
  {
   "cell_type": "code",
   "execution_count": 55,
   "metadata": {},
   "outputs": [],
   "source": [
    "from functions import kagome_sine_horizontal"
   ]
  },
  {
   "cell_type": "code",
   "execution_count": 56,
   "metadata": {},
   "outputs": [
    {
     "data": {
      "text/plain": [
       "0.0017095799285235158"
      ]
     },
     "execution_count": 56,
     "metadata": {},
     "output_type": "execute_result"
    }
   ],
   "source": [
    "kagome_sine_horizontal(mapdl, n_cell=2, relative_density=0.4, amplitude_ratio=0.5, three_dim=False)"
   ]
  },
  {
   "cell_type": "code",
   "execution_count": 57,
   "metadata": {},
   "outputs": [
    {
     "data": {
      "application/vnd.jupyter.widget-view+json": {
       "model_id": "8ccc3f58df32450ea52ec07f38ab9b64",
       "version_major": 2,
       "version_minor": 0
      },
      "text/plain": [
       "EmbeddableWidget(value='<iframe srcdoc=\"<!DOCTYPE html>\\n<html>\\n  <head>\\n    <meta http-equiv=&quot;Content-…"
      ]
     },
     "metadata": {},
     "output_type": "display_data"
    }
   ],
   "source": [
    "mapdl.aplot()"
   ]
  },
  {
   "cell_type": "code",
   "execution_count": 16,
   "metadata": {},
   "outputs": [],
   "source": [
    "stress_strain = pd.read_excel('PLA stress-strain.xlsx')\n",
    "stress_strain = stress_strain.iloc[:8]  # due to limitations of MISO model\n",
    "stress_strain['y'] = stress_strain['y (MPa)']*1e6\n",
    "stress_strain['x'] = stress_strain['x']/100\n",
    "UTS = stress_strain['y'].max()\n",
    "Youngs_Modulus = stress_strain['y'][1]/stress_strain['x'][1]\n",
    "max_plastic_strain = stress_strain['x'].iloc[-1]\n",
    "\n",
    "mapdl.mp('EX', 1, Youngs_Modulus)   # Young's Modulus in Pascals\n",
    "mapdl.mp('PRXY', 1, 0.33)   # Poisson's Ratio\n",
    "\n",
    "# Non linear 부분 정의\n",
    "stress_strain['x'] = stress_strain['x'] - stress_strain['y']/Youngs_Modulus\n",
    "mapdl.tb('PLASTIC', 1, '', 'MISO')\n",
    "for i in range(len(stress_strain)):\n",
    "    mapdl.tbpt(i, stress_strain['x'][i], stress_strain['y'][i])"
   ]
  },
  {
   "cell_type": "code",
   "execution_count": 17,
   "metadata": {},
   "outputs": [
    {
     "data": {
      "text/plain": [
       "SELECT ALL ENTITIES OF TYPE= ALL  AND BELOW"
      ]
     },
     "execution_count": 17,
     "metadata": {},
     "output_type": "execute_result"
    }
   ],
   "source": [
    "mapdl.allsel()"
   ]
  },
  {
   "cell_type": "markdown",
   "metadata": {},
   "source": [
    "## Simulation"
   ]
  },
  {
   "cell_type": "code",
   "execution_count": null,
   "metadata": {},
   "outputs": [],
   "source": [
    "mapdl.parameters.keys()"
   ]
  },
  {
   "cell_type": "markdown",
   "metadata": {},
   "source": [
    "## Saving 3D Object"
   ]
  },
  {
   "cell_type": "code",
   "execution_count": 1,
   "metadata": {},
   "outputs": [],
   "source": [
    "import os\n",
    "\n",
    "current_dir = os.getcwd()"
   ]
  },
  {
   "cell_type": "code",
   "execution_count": 19,
   "metadata": {},
   "outputs": [
    {
     "data": {
      "text/plain": [
       "*** MAPDL GLOBAL STATUS *** \n",
       "\n",
       " TITLE =                                                                       \n",
       "       504 KEYPOINTS DEFINED     MAX KEYPOINT NUMBER =            504\n",
       "       756 LINES DEFINED         MAX LINE NUMBER =                756\n",
       "       254 AREAS DEFINED         MAX AREA NUMBER =                254\n",
       "         1 VOLUMES DEFINED       MAX VOLUME NUMBER =                1\n",
       "         0 ELEM TYPES DEFINED    MAX ELEM TYPE NUMBER =             0\n",
       "         0 ELEMENTS DEFINED      MAX ELEMENT NUMBER =               0\n",
       "         0 NODES DEFINED         MAX NODE NUMBER =                  0\n",
       "\n",
       " WRITE ANSYS DATABASE AS AN ANSYS INPUT FILE: /home/mjk32/IIAD_pyMAPDL/result/Kagome_3.txt                                                                                                                                                                                                                        \n",
       "\n",
       " WRITE IGES FILE= /home/mjk32/IIAD_pyMAPDL/result/Kagome_3.iges\n",
       "\n",
       " ATTRIBUTES WILL BE WRITTEN TO /home/mjk32/IIAD_pyMAPDL/result/Kagome_3.iges.\n",
       "\n",
       " 18542 RECORDS WRITTEN TO FILE= /home/mjk32/IIAD_pyMAPDL/result/Kagome_3.iges"
      ]
     },
     "execution_count": 19,
     "metadata": {},
     "output_type": "execute_result"
    }
   ],
   "source": [
    "mapdl.cdwrite(fname=f\"{current_dir}/result/Kagome_3\", ext = \"txt\")"
   ]
  },
  {
   "cell_type": "code",
   "execution_count": 20,
   "metadata": {},
   "outputs": [],
   "source": [
    "mapdl.exit()"
   ]
  },
  {
   "cell_type": "code",
   "execution_count": 4,
   "metadata": {},
   "outputs": [
    {
     "ename": "FileNotFoundError",
     "evalue": "/home/mjk32/IIAD_pyMAPDL/result/temp_triangular.rst is not a file or cannot be found",
     "output_type": "error",
     "traceback": [
      "\u001b[0;31m---------------------------------------------------------------------------\u001b[0m",
      "\u001b[0;31mFileNotFoundError\u001b[0m                         Traceback (most recent call last)",
      "Cell \u001b[0;32mIn[4], line 1\u001b[0m\n\u001b[0;32m----> 1\u001b[0m result \u001b[38;5;241m=\u001b[39m pymapdl_reader\u001b[38;5;241m.\u001b[39mread_binary(\u001b[38;5;124mf\u001b[39m\u001b[38;5;124m\"\u001b[39m\u001b[38;5;132;01m{\u001b[39;00mcurrent_dir\u001b[38;5;132;01m}\u001b[39;00m\u001b[38;5;124m/result/temp_triangular.rst\u001b[39m\u001b[38;5;124m\"\u001b[39m)\n",
      "File \u001b[0;32m~/anaconda3/envs/ansys_env/lib/python3.11/site-packages/ansys/mapdl/reader/common.py:157\u001b[0m, in \u001b[0;36mread_binary\u001b[0;34m(filename, **kwargs)\u001b[0m\n\u001b[1;32m    155\u001b[0m filename \u001b[38;5;241m=\u001b[39m pathlib\u001b[38;5;241m.\u001b[39mPath(filename)\n\u001b[1;32m    156\u001b[0m \u001b[38;5;28;01mif\u001b[39;00m \u001b[38;5;129;01mnot\u001b[39;00m filename\u001b[38;5;241m.\u001b[39mis_file():\n\u001b[0;32m--> 157\u001b[0m     \u001b[38;5;28;01mraise\u001b[39;00m \u001b[38;5;167;01mFileNotFoundError\u001b[39;00m(\u001b[38;5;124mf\u001b[39m\u001b[38;5;124m\"\u001b[39m\u001b[38;5;132;01m{\u001b[39;00mfilename\u001b[38;5;132;01m}\u001b[39;00m\u001b[38;5;124m is not a file or cannot be found\u001b[39m\u001b[38;5;124m\"\u001b[39m)\n\u001b[1;32m    159\u001b[0m file_format \u001b[38;5;241m=\u001b[39m read_standard_header(filename)[\u001b[38;5;124m\"\u001b[39m\u001b[38;5;124mfile format\u001b[39m\u001b[38;5;124m\"\u001b[39m]\n\u001b[1;32m    161\u001b[0m \u001b[38;5;28;01mif\u001b[39;00m file_format \u001b[38;5;241m==\u001b[39m \u001b[38;5;241m2\u001b[39m:\n",
      "\u001b[0;31mFileNotFoundError\u001b[0m: /home/mjk32/IIAD_pyMAPDL/result/temp_triangular.rst is not a file or cannot be found"
     ]
    }
   ],
   "source": [
    "result = pymapdl_reader.read_binary(f\"{current_dir}/result/temp_triangular.rst\")"
   ]
  },
  {
   "cell_type": "code",
   "execution_count": null,
   "metadata": {},
   "outputs": [],
   "source": []
  }
 ],
 "metadata": {
  "kernelspec": {
   "display_name": "ansys_env",
   "language": "python",
   "name": "python3"
  },
  "language_info": {
   "codemirror_mode": {
    "name": "ipython",
    "version": 3
   },
   "file_extension": ".py",
   "mimetype": "text/x-python",
   "name": "python",
   "nbconvert_exporter": "python",
   "pygments_lexer": "ipython3",
   "version": "3.11.10"
  }
 },
 "nbformat": 4,
 "nbformat_minor": 2
}
